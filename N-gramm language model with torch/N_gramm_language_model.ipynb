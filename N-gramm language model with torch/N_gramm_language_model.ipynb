{
  "cells": [
    {
      "cell_type": "markdown",
      "source": [
        "# Intro\n",
        "This is a simple N-gram model that was tought to generate english names, similar to ones in the dataset"
      ],
      "metadata": {
        "id": "_cQWIqQO9oPx"
      }
    },
    {
      "cell_type": "code",
      "execution_count": 2,
      "metadata": {
        "id": "VdJJngSx65Ol"
      },
      "outputs": [],
      "source": [
        "import torch\n",
        "import torch.nn.functional as F\n",
        "import matplotlib.pyplot as plt\n",
        "%matplotlib inline"
      ]
    },
    {
      "cell_type": "code",
      "source": [
        "from google.colab import drive\n",
        "drive.mount('/content/drive')"
      ],
      "metadata": {
        "colab": {
          "base_uri": "https://localhost:8080/"
        },
        "id": "-OYZ2UBA67xN",
        "outputId": "cb1b8546-2bef-40ab-cc04-5134ec45f795"
      },
      "execution_count": 3,
      "outputs": [
        {
          "output_type": "stream",
          "name": "stdout",
          "text": [
            "Mounted at /content/drive\n"
          ]
        }
      ]
    },
    {
      "cell_type": "markdown",
      "source": [
        "## Preparing data"
      ],
      "metadata": {
        "id": "Bfx_KD2G_jsz"
      }
    },
    {
      "cell_type": "code",
      "source": [
        "names_path = '/content/drive/MyDrive/PORTFOLIO/names_en.txt'"
      ],
      "metadata": {
        "id": "Nt30ybOO7FZH"
      },
      "execution_count": 4,
      "outputs": []
    },
    {
      "cell_type": "code",
      "execution_count": 5,
      "metadata": {
        "colab": {
          "base_uri": "https://localhost:8080/"
        },
        "id": "5C2WyH8a65Om",
        "outputId": "9c2e272c-7e2a-41ac-a8e4-2e47befa8718"
      },
      "outputs": [
        {
          "output_type": "execute_result",
          "data": {
            "text/plain": [
              "['emma', 'olivia', 'ava', 'isabella', 'sophia', 'charlotte', 'mia', 'amelia']"
            ]
          },
          "metadata": {},
          "execution_count": 5
        }
      ],
      "source": [
        "words = open(names_path, 'r').read().splitlines()\n",
        "words[:8]"
      ]
    },
    {
      "cell_type": "code",
      "execution_count": 6,
      "metadata": {
        "colab": {
          "base_uri": "https://localhost:8080/"
        },
        "id": "9Ff8XINe65On",
        "outputId": "81cd8e1e-b0bf-4d60-c533-0c1d3a9e272a"
      },
      "outputs": [
        {
          "output_type": "execute_result",
          "data": {
            "text/plain": [
              "32033"
            ]
          },
          "metadata": {},
          "execution_count": 6
        }
      ],
      "source": [
        "len(words)"
      ]
    },
    {
      "cell_type": "code",
      "execution_count": 7,
      "metadata": {
        "colab": {
          "base_uri": "https://localhost:8080/"
        },
        "id": "QJQTR-oZ65On",
        "outputId": "1aa89d4f-4b52-4934-98b3-3e00bab72594"
      },
      "outputs": [
        {
          "output_type": "stream",
          "name": "stdout",
          "text": [
            "27\n"
          ]
        }
      ],
      "source": [
        "num_char = sorted(['.'] + list(set(''.join(words))))\n",
        "\n",
        "idx_to_letter = {num:char for num,char in enumerate(num_char)}\n",
        "letter_to_idx = {char:num for num,char in enumerate(num_char)}\n",
        "\n",
        "POWER = len(letter_to_idx)\n",
        "\n",
        "print(POWER)"
      ]
    },
    {
      "cell_type": "markdown",
      "source": [
        "Creating a 3-gramms dataset"
      ],
      "metadata": {
        "id": "APh95LLdFfc0"
      }
    },
    {
      "cell_type": "code",
      "execution_count": 8,
      "metadata": {
        "id": "3zS_ShPN65On"
      },
      "outputs": [],
      "source": [
        "window_size = 3\n",
        "X, Y = [], []\n",
        "for word in words:\n",
        "    word = '.' * window_size + word + '.'\n",
        "\n",
        "    for i in range(0, len(word) - window_size):\n",
        "        X.append([letter_to_idx[letter] for letter in word[i:i+window_size]])\n",
        "        Y.append(letter_to_idx[word[i+window_size]])\n",
        "\n",
        "X = torch.tensor(X)\n",
        "Y = torch.tensor(Y)"
      ]
    },
    {
      "cell_type": "code",
      "source": [
        "for x,y in zip(X[:10], Y[:10]):\n",
        "    print(f'{x} ---> {y}')"
      ],
      "metadata": {
        "colab": {
          "base_uri": "https://localhost:8080/"
        },
        "id": "K42mBT0L_TJa",
        "outputId": "536bc34b-6716-4571-a262-8ab0d34259d5"
      },
      "execution_count": 9,
      "outputs": [
        {
          "output_type": "stream",
          "name": "stdout",
          "text": [
            "tensor([0, 0, 0]) ---> 5\n",
            "tensor([0, 0, 5]) ---> 13\n",
            "tensor([ 0,  5, 13]) ---> 13\n",
            "tensor([ 5, 13, 13]) ---> 1\n",
            "tensor([13, 13,  1]) ---> 0\n",
            "tensor([0, 0, 0]) ---> 15\n",
            "tensor([ 0,  0, 15]) ---> 12\n",
            "tensor([ 0, 15, 12]) ---> 9\n",
            "tensor([15, 12,  9]) ---> 22\n",
            "tensor([12,  9, 22]) ---> 9\n"
          ]
        }
      ]
    },
    {
      "cell_type": "code",
      "execution_count": 10,
      "metadata": {
        "colab": {
          "base_uri": "https://localhost:8080/"
        },
        "id": "27iRcQDi65Oo",
        "outputId": "31c68dcc-04a9-4e87-f6d2-23febf847b10"
      },
      "outputs": [
        {
          "output_type": "execute_result",
          "data": {
            "text/plain": [
              "torch.Size([228146, 3])"
            ]
          },
          "metadata": {},
          "execution_count": 10
        }
      ],
      "source": [
        "X.shape"
      ]
    },
    {
      "cell_type": "code",
      "execution_count": 11,
      "metadata": {
        "colab": {
          "base_uri": "https://localhost:8080/",
          "height": 36
        },
        "id": "2FkxdkA665Oo",
        "outputId": "2b5dfc6e-202f-40ff-c249-0c1063add4f8"
      },
      "outputs": [
        {
          "output_type": "execute_result",
          "data": {
            "text/plain": [
              "'cpu'"
            ],
            "application/vnd.google.colaboratory.intrinsic+json": {
              "type": "string"
            }
          },
          "metadata": {},
          "execution_count": 11
        }
      ],
      "source": [
        "device = 'cuda' if torch.cuda.is_available()  else 'cpu'\n",
        "device"
      ]
    },
    {
      "cell_type": "code",
      "execution_count": 34,
      "metadata": {
        "id": "QQ6s4NOn65Op"
      },
      "outputs": [],
      "source": [
        "X = X.to(device)\n",
        "Y = Y.to(device)"
      ]
    },
    {
      "cell_type": "code",
      "execution_count": 35,
      "metadata": {
        "id": "rFgSPmEd65Op"
      },
      "outputs": [],
      "source": [
        "def train_test_split(data):\n",
        "    l = len(data)\n",
        "    return data[:int(len(data) * 0.8)], data[int(len(data) * 0.8):]"
      ]
    },
    {
      "cell_type": "code",
      "execution_count": 36,
      "metadata": {
        "id": "G_StSeZ765Op"
      },
      "outputs": [],
      "source": [
        "Xtr, Xte = train_test_split(X)\n",
        "Ytr, Yte = train_test_split(Y)"
      ]
    },
    {
      "cell_type": "code",
      "source": [
        "Xtr, Xte = F.one_hot(Xtr).float(), F.one_hot(Xte).float()"
      ],
      "metadata": {
        "id": "XjZGtdfMyjhH"
      },
      "execution_count": 37,
      "outputs": []
    },
    {
      "cell_type": "code",
      "source": [
        "Xtr[0]"
      ],
      "metadata": {
        "colab": {
          "base_uri": "https://localhost:8080/"
        },
        "id": "oT6bpqk1ywBj",
        "outputId": "320b79b3-9242-4455-d2d7-03f89918bfb1"
      },
      "execution_count": 38,
      "outputs": [
        {
          "output_type": "execute_result",
          "data": {
            "text/plain": [
              "tensor([[1., 0., 0., 0., 0., 0., 0., 0., 0., 0., 0., 0., 0., 0., 0., 0., 0., 0.,\n",
              "         0., 0., 0., 0., 0., 0., 0., 0., 0.],\n",
              "        [1., 0., 0., 0., 0., 0., 0., 0., 0., 0., 0., 0., 0., 0., 0., 0., 0., 0.,\n",
              "         0., 0., 0., 0., 0., 0., 0., 0., 0.],\n",
              "        [1., 0., 0., 0., 0., 0., 0., 0., 0., 0., 0., 0., 0., 0., 0., 0., 0., 0.,\n",
              "         0., 0., 0., 0., 0., 0., 0., 0., 0.]])"
            ]
          },
          "metadata": {},
          "execution_count": 38
        }
      ]
    },
    {
      "cell_type": "markdown",
      "source": [
        "## Self written torch-like layers of neurons"
      ],
      "metadata": {
        "id": "uyVN8x1W9K7A"
      }
    },
    {
      "cell_type": "code",
      "execution_count": 39,
      "metadata": {
        "id": "mKic9isU65Ot"
      },
      "outputs": [],
      "source": [
        "class Linear:\n",
        "    def __init__(self, in_features, out_features,  generator, device='cpu',bias=True):\n",
        "        self.weights = torch.randn((in_features, out_features), generator=generator, device=device) / in_features**0.5 #dividing for saving tanh output from becoming zero\n",
        "        self.bias = torch.zeros(out_features, device=device) if bias else None\n",
        "\n",
        "    def __call__(self, x):\n",
        "        self.out = x @ self.weights\n",
        "        if self.bias is not None:\n",
        "            self.out += self.bias\n",
        "        return self.out\n",
        "\n",
        "    def parameters(self):\n",
        "        return [self.weights] + [self.bias if self.bias is not None else []]\n",
        "\n",
        "class BatchNorm1d:\n",
        "    def __init__(self, dim, eps=1e-5, momentum=0.1, device='cpu'):\n",
        "        self.eps = eps #won't let all break if the std equals zero\n",
        "        self.momentum = momentum #precentage of new information arriving to the running mean\n",
        "        self.training = True #True for training, False for evaluating (stops counting mean)\n",
        "\n",
        "        #training parameters\n",
        "        self.bn_scale = torch.ones(dim,device=device)\n",
        "        self.bn_shift = torch.zeros(dim, device=device)\n",
        "\n",
        "        #buffer values trained with running momentum\n",
        "        self.running_mean = torch.zeros(dim, device=device)\n",
        "        self.running_var = torch.ones(dim, device=device)\n",
        "\n",
        "    def __call__(self,x):\n",
        "        if self.training:\n",
        "            xmean = x.mean(0, keepdim=True)\n",
        "            xvar = x.var(0, keepdim=True)\n",
        "\n",
        "            with torch.no_grad():\n",
        "                self.running_mean = (1-self.momentum)*self.running_mean + self.momentum * xmean\n",
        "                self.running_var = (1-self.momentum)*self.running_var + self.momentum * xvar\n",
        "        else:\n",
        "            xmean = self.running_mean\n",
        "            xvar = self.running_var\n",
        "\n",
        "        self.out = self.bn_scale * (x - xmean)/torch.sqrt(xvar + self.eps) + self.bn_shift\n",
        "\n",
        "        return self.out\n",
        "\n",
        "    def parameters(self):\n",
        "        return [self.bn_scale, self.bn_shift]\n",
        "\n",
        "class Tanh:\n",
        "    def __call__(self, x):\n",
        "        self.out = torch.tanh(x)\n",
        "        return self.out\n",
        "\n",
        "    def parameters(self):\n",
        "        return []\n",
        "\n"
      ]
    },
    {
      "cell_type": "code",
      "execution_count": 40,
      "metadata": {
        "colab": {
          "base_uri": "https://localhost:8080/"
        },
        "id": "jtTKU3F765Ot",
        "outputId": "0b5ac8b2-3114-4ee3-acbe-c0a672d78eeb"
      },
      "outputs": [
        {
          "output_type": "execute_result",
          "data": {
            "text/plain": [
              "(182516, 45630)"
            ]
          },
          "metadata": {},
          "execution_count": 40
        }
      ],
      "source": [
        "Xtr.shape[0], Xte.shape[0]"
      ]
    },
    {
      "cell_type": "code",
      "execution_count": 45,
      "metadata": {
        "colab": {
          "base_uri": "https://localhost:8080/"
        },
        "id": "V5kASkX765Ot",
        "outputId": "e0248bfe-810f-451c-9602-55b40fc3d43b"
      },
      "outputs": [
        {
          "output_type": "stream",
          "name": "stdout",
          "text": [
            "Total params: 44391\n"
          ]
        }
      ],
      "source": [
        "#embedding size\n",
        "EMDIM = 32\n",
        "\n",
        "#hidden units size\n",
        "n_units = 100\n",
        "\n",
        "g = torch.Generator(device=device).manual_seed(12345)\n",
        "\n",
        "#embedding matrix\n",
        "C = torch.randn((POWER, EMDIM), generator=g, device=device)\n",
        "\n",
        "layers = [\n",
        "    Linear(EMDIM * 3, n_units, generator=g, device=device),\n",
        "    BatchNorm1d(n_units, device=device),\n",
        "    Tanh(),\n",
        "    Linear(n_units, n_units, generator=g, device=device),\n",
        "    BatchNorm1d(n_units,device=device),\n",
        "    Tanh(),\n",
        "    Linear(n_units, n_units, generator=g, device=device),\n",
        "    BatchNorm1d(n_units, device=device),\n",
        "    Tanh(),\n",
        "    Linear(n_units, n_units, generator=g, device=device),\n",
        "    BatchNorm1d(n_units, device=device),\n",
        "    Tanh(),\n",
        "    Linear(n_units, POWER, generator=g, device=device),\n",
        "]\n",
        "\n",
        "\n",
        "with torch.no_grad():\n",
        "    # make last layer less confident\n",
        "    layers[-1].weights *= 0.1\n",
        "    # apply gain to other layers\n",
        "    for layer in layers[:-1]:\n",
        "        if isinstance(layer, Linear):\n",
        "            layer.weights *= 5/3\n",
        "\n",
        "parameters = [C] + [p for layer in layers for p in layer.parameters()]\n",
        "\n",
        "print('Total params:', sum([p.nelement() for p in parameters]))\n",
        "for p in parameters:\n",
        "    p.requires_grad = True\n"
      ]
    },
    {
      "cell_type": "code",
      "execution_count": 47,
      "metadata": {
        "colab": {
          "base_uri": "https://localhost:8080/"
        },
        "id": "BVPKl8E565Ox",
        "outputId": "271fbd4c-d7dd-4403-dc2e-533e5a2790fb"
      },
      "outputs": [
        {
          "output_type": "stream",
          "name": "stdout",
          "text": [
            "epoch: 0, loss: 3.3024299144744873\n",
            "epoch: 100, loss: 2.6117920875549316\n",
            "epoch: 200, loss: 2.476656436920166\n",
            "epoch: 300, loss: 2.3012263774871826\n",
            "epoch: 400, loss: 2.3104019165039062\n",
            "epoch: 500, loss: 2.159017562866211\n",
            "epoch: 600, loss: 2.3907132148742676\n",
            "epoch: 700, loss: 2.359278440475464\n",
            "epoch: 800, loss: 2.5946600437164307\n",
            "epoch: 900, loss: 2.629537582397461\n",
            "epoch: 1000, loss: 2.295013427734375\n",
            "epoch: 1100, loss: 2.4196815490722656\n",
            "epoch: 1200, loss: 2.2484302520751953\n",
            "epoch: 1300, loss: 2.103701591491699\n",
            "epoch: 1400, loss: 2.422646999359131\n",
            "epoch: 1500, loss: 2.102501630783081\n",
            "epoch: 1600, loss: 2.0555548667907715\n",
            "epoch: 1700, loss: 2.188157796859741\n",
            "epoch: 1800, loss: 2.411215305328369\n",
            "epoch: 1900, loss: 2.2799224853515625\n",
            "epoch: 2000, loss: 2.4989023208618164\n",
            "epoch: 2100, loss: 2.0457727909088135\n",
            "epoch: 2200, loss: 2.0367848873138428\n",
            "epoch: 2300, loss: 2.1193253993988037\n",
            "epoch: 2400, loss: 1.9764981269836426\n",
            "epoch: 2500, loss: 2.47835111618042\n",
            "epoch: 2600, loss: 2.3122293949127197\n",
            "epoch: 2700, loss: 2.112915277481079\n",
            "epoch: 2800, loss: 2.195192575454712\n",
            "epoch: 2900, loss: 2.2056081295013428\n",
            "epoch: 3000, loss: 2.122753143310547\n",
            "epoch: 3100, loss: 2.4187278747558594\n",
            "epoch: 3200, loss: 2.2926793098449707\n",
            "epoch: 3300, loss: 2.146615505218506\n",
            "epoch: 3400, loss: 2.3238813877105713\n",
            "epoch: 3500, loss: 2.111715793609619\n",
            "epoch: 3600, loss: 2.224294662475586\n",
            "epoch: 3700, loss: 2.22165846824646\n",
            "epoch: 3800, loss: 2.108025312423706\n",
            "epoch: 3900, loss: 2.236531972885132\n",
            "epoch: 4000, loss: 2.332759380340576\n",
            "epoch: 4100, loss: 1.977726936340332\n",
            "epoch: 4200, loss: 2.43988299369812\n",
            "epoch: 4300, loss: 2.1519951820373535\n",
            "epoch: 4400, loss: 2.021289825439453\n",
            "epoch: 4500, loss: 2.2850301265716553\n",
            "epoch: 4600, loss: 2.4104151725769043\n",
            "epoch: 4700, loss: 2.283433437347412\n",
            "epoch: 4800, loss: 2.065390110015869\n",
            "epoch: 4900, loss: 2.2560436725616455\n",
            "epoch: 5000, loss: 2.0798633098602295\n",
            "epoch: 5100, loss: 2.3359086513519287\n",
            "epoch: 5200, loss: 2.1819987297058105\n",
            "epoch: 5300, loss: 2.33229660987854\n",
            "epoch: 5400, loss: 2.3503646850585938\n",
            "epoch: 5500, loss: 2.122208595275879\n",
            "epoch: 5600, loss: 2.2755706310272217\n",
            "epoch: 5700, loss: 2.245523452758789\n",
            "epoch: 5800, loss: 2.1163241863250732\n",
            "epoch: 5900, loss: 2.1481940746307373\n",
            "epoch: 6000, loss: 1.853786587715149\n",
            "epoch: 6100, loss: 2.0511765480041504\n",
            "epoch: 6200, loss: 2.0998313426971436\n",
            "epoch: 6300, loss: 2.224369525909424\n",
            "epoch: 6400, loss: 2.2986927032470703\n",
            "epoch: 6500, loss: 2.0867984294891357\n",
            "epoch: 6600, loss: 2.013155221939087\n",
            "epoch: 6700, loss: 2.231675386428833\n",
            "epoch: 6800, loss: 2.2488608360290527\n",
            "epoch: 6900, loss: 2.1035425662994385\n",
            "epoch: 7000, loss: 2.1676454544067383\n",
            "epoch: 7100, loss: 2.2519686222076416\n",
            "epoch: 7200, loss: 2.129319190979004\n",
            "epoch: 7300, loss: 2.17704176902771\n",
            "epoch: 7400, loss: 2.3978779315948486\n",
            "epoch: 7500, loss: 2.256678342819214\n",
            "epoch: 7600, loss: 2.100968837738037\n",
            "epoch: 7700, loss: 2.357891321182251\n",
            "epoch: 7800, loss: 1.9186301231384277\n",
            "epoch: 7900, loss: 2.0012776851654053\n",
            "epoch: 8000, loss: 2.1136631965637207\n",
            "epoch: 8100, loss: 2.234853744506836\n",
            "epoch: 8200, loss: 2.345592737197876\n",
            "epoch: 8300, loss: 2.2792043685913086\n",
            "epoch: 8400, loss: 2.0817930698394775\n",
            "epoch: 8500, loss: 1.8902134895324707\n",
            "epoch: 8600, loss: 2.0082976818084717\n",
            "epoch: 8700, loss: 2.2927069664001465\n",
            "epoch: 8800, loss: 1.8695094585418701\n",
            "epoch: 8900, loss: 2.0462565422058105\n",
            "epoch: 9000, loss: 2.176288366317749\n",
            "epoch: 9100, loss: 1.837275505065918\n",
            "epoch: 9200, loss: 2.1369383335113525\n",
            "epoch: 9300, loss: 1.8349387645721436\n",
            "epoch: 9400, loss: 2.0013866424560547\n",
            "epoch: 9500, loss: 2.5113301277160645\n",
            "epoch: 9600, loss: 2.002300262451172\n",
            "epoch: 9700, loss: 2.3068056106567383\n",
            "epoch: 9800, loss: 2.2111783027648926\n",
            "epoch: 9900, loss: 1.8910428285598755\n",
            "epoch: 10000, loss: 2.068281650543213\n",
            "epoch: 10100, loss: 2.272897720336914\n",
            "epoch: 10200, loss: 2.3074545860290527\n",
            "epoch: 10300, loss: 1.954295039176941\n",
            "epoch: 10400, loss: 2.3299169540405273\n",
            "epoch: 10500, loss: 2.0733537673950195\n",
            "epoch: 10600, loss: 1.887306809425354\n",
            "epoch: 10700, loss: 2.0276496410369873\n",
            "epoch: 10800, loss: 2.2899587154388428\n",
            "epoch: 10900, loss: 2.2545907497406006\n",
            "epoch: 11000, loss: 1.9509048461914062\n",
            "epoch: 11100, loss: 1.9931299686431885\n",
            "epoch: 11200, loss: 1.9351797103881836\n",
            "epoch: 11300, loss: 2.0275607109069824\n",
            "epoch: 11400, loss: 1.9741287231445312\n",
            "epoch: 11500, loss: 1.9688209295272827\n",
            "epoch: 11600, loss: 1.8566577434539795\n",
            "epoch: 11700, loss: 2.1117284297943115\n",
            "epoch: 11800, loss: 1.866930365562439\n",
            "epoch: 11900, loss: 2.1400959491729736\n",
            "epoch: 12000, loss: 1.9527568817138672\n",
            "epoch: 12100, loss: 1.9523398876190186\n",
            "epoch: 12200, loss: 2.018298387527466\n",
            "epoch: 12300, loss: 1.9933899641036987\n",
            "epoch: 12400, loss: 2.0231754779815674\n",
            "epoch: 12500, loss: 2.0710575580596924\n",
            "epoch: 12600, loss: 1.9960111379623413\n",
            "epoch: 12700, loss: 2.126424789428711\n",
            "epoch: 12800, loss: 2.1060144901275635\n",
            "epoch: 12900, loss: 1.851182222366333\n",
            "epoch: 13000, loss: 1.874821662902832\n",
            "epoch: 13100, loss: 1.8211413621902466\n",
            "epoch: 13200, loss: 2.0101795196533203\n",
            "epoch: 13300, loss: 1.8563178777694702\n",
            "epoch: 13400, loss: 1.9339797496795654\n",
            "epoch: 13500, loss: 2.138324737548828\n",
            "epoch: 13600, loss: 2.0382750034332275\n",
            "epoch: 13700, loss: 2.1784298419952393\n",
            "epoch: 13800, loss: 2.0197043418884277\n",
            "epoch: 13900, loss: 2.035377264022827\n",
            "epoch: 14000, loss: 1.6776552200317383\n",
            "epoch: 14100, loss: 2.0760228633880615\n",
            "epoch: 14200, loss: 2.135984420776367\n",
            "epoch: 14300, loss: 2.133302927017212\n",
            "epoch: 14400, loss: 2.17616605758667\n",
            "epoch: 14500, loss: 2.0470170974731445\n",
            "epoch: 14600, loss: 1.9363963603973389\n",
            "epoch: 14700, loss: 1.7671951055526733\n",
            "epoch: 14800, loss: 2.2585020065307617\n",
            "epoch: 14900, loss: 1.9157953262329102\n",
            "epoch: 15000, loss: 2.0341086387634277\n",
            "epoch: 15100, loss: 2.0340516567230225\n",
            "epoch: 15200, loss: 2.1579699516296387\n",
            "epoch: 15300, loss: 2.330273151397705\n",
            "epoch: 15400, loss: 2.2549307346343994\n",
            "epoch: 15500, loss: 1.6201874017715454\n",
            "epoch: 15600, loss: 2.1612746715545654\n",
            "epoch: 15700, loss: 2.4245493412017822\n",
            "epoch: 15800, loss: 2.1352484226226807\n",
            "epoch: 15900, loss: 2.2188782691955566\n",
            "epoch: 16000, loss: 1.9414664506912231\n",
            "epoch: 16100, loss: 2.3043630123138428\n",
            "epoch: 16200, loss: 2.2489078044891357\n",
            "epoch: 16300, loss: 1.9683424234390259\n",
            "epoch: 16400, loss: 1.8542015552520752\n",
            "epoch: 16500, loss: 2.017158031463623\n",
            "epoch: 16600, loss: 2.0991263389587402\n",
            "epoch: 16700, loss: 2.2582449913024902\n",
            "epoch: 16800, loss: 2.1140053272247314\n",
            "epoch: 16900, loss: 2.1321372985839844\n",
            "epoch: 17000, loss: 2.0982701778411865\n",
            "epoch: 17100, loss: 2.046689987182617\n",
            "epoch: 17200, loss: 2.2330198287963867\n",
            "epoch: 17300, loss: 2.0036144256591797\n",
            "epoch: 17400, loss: 2.3251376152038574\n",
            "epoch: 17500, loss: 1.8153159618377686\n",
            "epoch: 17600, loss: 1.8324588537216187\n",
            "epoch: 17700, loss: 2.016395330429077\n",
            "epoch: 17800, loss: 2.019392251968384\n",
            "epoch: 17900, loss: 2.0782833099365234\n",
            "epoch: 18000, loss: 2.1528573036193848\n",
            "epoch: 18100, loss: 2.0508735179901123\n",
            "epoch: 18200, loss: 2.0628268718719482\n",
            "epoch: 18300, loss: 2.080045461654663\n",
            "epoch: 18400, loss: 2.3741955757141113\n",
            "epoch: 18500, loss: 2.0103344917297363\n",
            "epoch: 18600, loss: 2.138082981109619\n",
            "epoch: 18700, loss: 1.9555712938308716\n",
            "epoch: 18800, loss: 2.005094289779663\n",
            "epoch: 18900, loss: 2.2201333045959473\n",
            "epoch: 19000, loss: 1.9716131687164307\n",
            "epoch: 19100, loss: 2.089053153991699\n",
            "epoch: 19200, loss: 1.990416169166565\n",
            "epoch: 19300, loss: 2.058927297592163\n",
            "epoch: 19400, loss: 1.928626537322998\n",
            "epoch: 19500, loss: 1.9886585474014282\n",
            "epoch: 19600, loss: 1.9483299255371094\n",
            "epoch: 19700, loss: 1.9503427743911743\n",
            "epoch: 19800, loss: 2.0676207542419434\n",
            "epoch: 19900, loss: 2.183443307876587\n"
          ]
        }
      ],
      "source": [
        "EPOCHS = 20000\n",
        "BATCH = 64\n",
        "loss_track = []\n",
        "ud = []\n",
        "\n",
        "for epoch in range(EPOCHS):\n",
        "    #forward pass\n",
        "    ixs = torch.randint(len(Xtr),(BATCH,),generator=g, device=device)\n",
        "\n",
        "    Xb, Yb = Xtr[ixs], Ytr[ixs]\n",
        "\n",
        "    out = (Xb @ C).view(-1, EMDIM * 3)\n",
        "    for layer in layers:\n",
        "        out = layer(out)\n",
        "\n",
        "    #calculating the loss\n",
        "    loss = F.cross_entropy(out, Yb)\n",
        "    loss_track.append(loss)\n",
        "    if epoch % 100 == 0:\n",
        "        print(f'epoch: {epoch}, loss: {loss}')\n",
        "\n",
        "    #zero grad\n",
        "    for p in parameters:\n",
        "        p.grad = None\n",
        "\n",
        "\n",
        "    #backward pass\n",
        "    loss.backward()\n",
        "\n",
        "    #optimization step\n",
        "    alpha = 0.1 if epoch < 10000 else 0.01\n",
        "    for p in parameters:\n",
        "        p.data += -alpha * p.grad\n",
        "\n",
        "\n"
      ]
    },
    {
      "cell_type": "code",
      "source": [
        "#BatchNorm to test mode before evaluating model\n",
        "for layer in layers:\n",
        "    if isinstance(layer, BatchNorm1d):\n",
        "        layer.training = False"
      ],
      "metadata": {
        "id": "b3uAuliZHS2h"
      },
      "execution_count": 49,
      "outputs": []
    },
    {
      "cell_type": "code",
      "source": [
        "#evaluation\n",
        "EPOCHS = 20000\n",
        "BATCH = 64\n",
        "test_loss_track = []\n",
        "\n",
        "with torch.no_grad():\n",
        "    for epoch in range(EPOCHS):\n",
        "        #forward pass\n",
        "        ixs = torch.randint(len(Xte),(BATCH,),generator=g, device=device)\n",
        "\n",
        "        Xb, Yb = Xte[ixs], Yte[ixs]\n",
        "\n",
        "        out = (Xb @ C).view(-1, EMDIM * 3)\n",
        "        for layer in layers:\n",
        "            out = layer(out)\n",
        "\n",
        "        #calculating the loss\n",
        "        loss = F.cross_entropy(out, Yb)\n",
        "        test_loss_track.append(loss)\n",
        "        if epoch % 100 == 0:\n",
        "            print(f'epoch: {epoch}, loss: {loss}')\n",
        "\n"
      ],
      "metadata": {
        "colab": {
          "base_uri": "https://localhost:8080/"
        },
        "id": "7HcIpeoqLxBz",
        "outputId": "09812a7b-a5de-459d-d9f5-a89fe0a74c3e"
      },
      "execution_count": 52,
      "outputs": [
        {
          "output_type": "stream",
          "name": "stdout",
          "text": [
            "epoch: 0, loss: 2.2422752380371094\n",
            "epoch: 100, loss: 2.2764205932617188\n",
            "epoch: 200, loss: 2.4074132442474365\n",
            "epoch: 300, loss: 2.2286741733551025\n",
            "epoch: 400, loss: 2.61133074760437\n",
            "epoch: 500, loss: 2.090020179748535\n",
            "epoch: 600, loss: 2.3405656814575195\n",
            "epoch: 700, loss: 2.3411495685577393\n",
            "epoch: 800, loss: 2.2340803146362305\n",
            "epoch: 900, loss: 2.4553511142730713\n",
            "epoch: 1000, loss: 2.2506260871887207\n",
            "epoch: 1100, loss: 2.3199868202209473\n",
            "epoch: 1200, loss: 2.4637503623962402\n",
            "epoch: 1300, loss: 2.1548123359680176\n",
            "epoch: 1400, loss: 2.215266466140747\n",
            "epoch: 1500, loss: 2.134615421295166\n",
            "epoch: 1600, loss: 2.19753360748291\n",
            "epoch: 1700, loss: 2.1447534561157227\n",
            "epoch: 1800, loss: 2.4998323917388916\n",
            "epoch: 1900, loss: 2.4372642040252686\n",
            "epoch: 2000, loss: 2.4295475482940674\n",
            "epoch: 2100, loss: 2.293205976486206\n",
            "epoch: 2200, loss: 2.4395594596862793\n",
            "epoch: 2300, loss: 2.511706829071045\n",
            "epoch: 2400, loss: 2.1835570335388184\n",
            "epoch: 2500, loss: 2.291844606399536\n",
            "epoch: 2600, loss: 2.1702632904052734\n",
            "epoch: 2700, loss: 2.0711865425109863\n",
            "epoch: 2800, loss: 2.2098424434661865\n",
            "epoch: 2900, loss: 2.3597145080566406\n",
            "epoch: 3000, loss: 2.5258877277374268\n",
            "epoch: 3100, loss: 2.243682861328125\n",
            "epoch: 3200, loss: 2.347235679626465\n",
            "epoch: 3300, loss: 2.0671279430389404\n",
            "epoch: 3400, loss: 2.3966522216796875\n",
            "epoch: 3500, loss: 2.494619369506836\n",
            "epoch: 3600, loss: 2.207437753677368\n",
            "epoch: 3700, loss: 1.9984009265899658\n",
            "epoch: 3800, loss: 2.2725586891174316\n",
            "epoch: 3900, loss: 2.4559788703918457\n",
            "epoch: 4000, loss: 2.5022928714752197\n",
            "epoch: 4100, loss: 1.922563910484314\n",
            "epoch: 4200, loss: 2.345918655395508\n",
            "epoch: 4300, loss: 2.5143861770629883\n",
            "epoch: 4400, loss: 2.141963243484497\n",
            "epoch: 4500, loss: 2.5545272827148438\n",
            "epoch: 4600, loss: 2.4456562995910645\n",
            "epoch: 4700, loss: 2.5971662998199463\n",
            "epoch: 4800, loss: 2.6764883995056152\n",
            "epoch: 4900, loss: 2.1905550956726074\n",
            "epoch: 5000, loss: 2.575984477996826\n",
            "epoch: 5100, loss: 2.3773412704467773\n",
            "epoch: 5200, loss: 2.0785462856292725\n",
            "epoch: 5300, loss: 2.5655407905578613\n",
            "epoch: 5400, loss: 2.1510531902313232\n",
            "epoch: 5500, loss: 2.1844723224639893\n",
            "epoch: 5600, loss: 2.3133182525634766\n",
            "epoch: 5700, loss: 2.331678867340088\n",
            "epoch: 5800, loss: 2.252335786819458\n",
            "epoch: 5900, loss: 2.478959321975708\n",
            "epoch: 6000, loss: 2.0455029010772705\n",
            "epoch: 6100, loss: 2.233367681503296\n",
            "epoch: 6200, loss: 1.6506085395812988\n",
            "epoch: 6300, loss: 2.295585870742798\n",
            "epoch: 6400, loss: 2.3117482662200928\n",
            "epoch: 6500, loss: 2.573181390762329\n",
            "epoch: 6600, loss: 2.2526066303253174\n",
            "epoch: 6700, loss: 2.561824083328247\n",
            "epoch: 6800, loss: 2.584967851638794\n",
            "epoch: 6900, loss: 2.5453107357025146\n",
            "epoch: 7000, loss: 2.2529938220977783\n",
            "epoch: 7100, loss: 2.692484140396118\n",
            "epoch: 7200, loss: 2.3549141883850098\n",
            "epoch: 7300, loss: 2.505317211151123\n",
            "epoch: 7400, loss: 2.2383642196655273\n",
            "epoch: 7500, loss: 2.363795280456543\n",
            "epoch: 7600, loss: 2.3923919200897217\n",
            "epoch: 7700, loss: 2.280705690383911\n",
            "epoch: 7800, loss: 2.534895896911621\n",
            "epoch: 7900, loss: 2.476851224899292\n",
            "epoch: 8000, loss: 2.26628041267395\n",
            "epoch: 8100, loss: 2.238584518432617\n",
            "epoch: 8200, loss: 2.0173089504241943\n",
            "epoch: 8300, loss: 2.2377874851226807\n",
            "epoch: 8400, loss: 2.217115879058838\n",
            "epoch: 8500, loss: 2.5749893188476562\n",
            "epoch: 8600, loss: 2.0857203006744385\n",
            "epoch: 8700, loss: 2.383601188659668\n",
            "epoch: 8800, loss: 2.6347339153289795\n",
            "epoch: 8900, loss: 2.276411771774292\n",
            "epoch: 9000, loss: 2.261876344680786\n",
            "epoch: 9100, loss: 2.3101611137390137\n",
            "epoch: 9200, loss: 2.3996365070343018\n",
            "epoch: 9300, loss: 2.3999366760253906\n",
            "epoch: 9400, loss: 2.563250780105591\n",
            "epoch: 9500, loss: 2.2056775093078613\n",
            "epoch: 9600, loss: 2.5513916015625\n",
            "epoch: 9700, loss: 2.2311160564422607\n",
            "epoch: 9800, loss: 2.4273929595947266\n",
            "epoch: 9900, loss: 2.391817331314087\n",
            "epoch: 10000, loss: 2.461036205291748\n",
            "epoch: 10100, loss: 2.5103976726531982\n",
            "epoch: 10200, loss: 2.5290842056274414\n",
            "epoch: 10300, loss: 2.336702823638916\n",
            "epoch: 10400, loss: 2.469052791595459\n",
            "epoch: 10500, loss: 2.261103630065918\n",
            "epoch: 10600, loss: 2.3598759174346924\n",
            "epoch: 10700, loss: 2.1233999729156494\n",
            "epoch: 10800, loss: 2.4740476608276367\n",
            "epoch: 10900, loss: 2.35707426071167\n",
            "epoch: 11000, loss: 2.3376986980438232\n",
            "epoch: 11100, loss: 2.4264135360717773\n",
            "epoch: 11200, loss: 2.232269287109375\n",
            "epoch: 11300, loss: 2.2096076011657715\n",
            "epoch: 11400, loss: 2.128945827484131\n",
            "epoch: 11500, loss: 2.3353872299194336\n",
            "epoch: 11600, loss: 2.2261247634887695\n",
            "epoch: 11700, loss: 2.4583370685577393\n",
            "epoch: 11800, loss: 2.303900718688965\n",
            "epoch: 11900, loss: 2.322127342224121\n",
            "epoch: 12000, loss: 2.3585643768310547\n",
            "epoch: 12100, loss: 2.3224663734436035\n",
            "epoch: 12200, loss: 2.53289794921875\n",
            "epoch: 12300, loss: 2.550804376602173\n",
            "epoch: 12400, loss: 2.2169902324676514\n",
            "epoch: 12500, loss: 2.1952412128448486\n",
            "epoch: 12600, loss: 2.301941156387329\n",
            "epoch: 12700, loss: 2.6640734672546387\n",
            "epoch: 12800, loss: 2.4688470363616943\n",
            "epoch: 12900, loss: 2.112942934036255\n",
            "epoch: 13000, loss: 2.4175400733947754\n",
            "epoch: 13100, loss: 2.1696243286132812\n",
            "epoch: 13200, loss: 2.399451494216919\n",
            "epoch: 13300, loss: 2.428481101989746\n",
            "epoch: 13400, loss: 2.393139600753784\n",
            "epoch: 13500, loss: 2.260714292526245\n",
            "epoch: 13600, loss: 2.467223882675171\n",
            "epoch: 13700, loss: 2.201162099838257\n",
            "epoch: 13800, loss: 2.3700923919677734\n",
            "epoch: 13900, loss: 2.252444267272949\n",
            "epoch: 14000, loss: 2.314990282058716\n",
            "epoch: 14100, loss: 2.2058889865875244\n",
            "epoch: 14200, loss: 2.2387609481811523\n",
            "epoch: 14300, loss: 2.1032373905181885\n",
            "epoch: 14400, loss: 2.2773025035858154\n",
            "epoch: 14500, loss: 2.1362197399139404\n",
            "epoch: 14600, loss: 2.2884325981140137\n",
            "epoch: 14700, loss: 2.1135129928588867\n",
            "epoch: 14800, loss: 2.221919059753418\n",
            "epoch: 14900, loss: 2.1055285930633545\n",
            "epoch: 15000, loss: 2.6415016651153564\n",
            "epoch: 15100, loss: 2.224740982055664\n",
            "epoch: 15200, loss: 2.577704429626465\n",
            "epoch: 15300, loss: 2.3049943447113037\n",
            "epoch: 15400, loss: 2.5944881439208984\n",
            "epoch: 15500, loss: 2.1106858253479004\n",
            "epoch: 15600, loss: 2.330066204071045\n",
            "epoch: 15700, loss: 2.364851474761963\n",
            "epoch: 15800, loss: 2.356504201889038\n",
            "epoch: 15900, loss: 2.6701197624206543\n",
            "epoch: 16000, loss: 2.382343292236328\n",
            "epoch: 16100, loss: 2.246518135070801\n",
            "epoch: 16200, loss: 2.234750509262085\n",
            "epoch: 16300, loss: 2.114000082015991\n",
            "epoch: 16400, loss: 2.175891876220703\n",
            "epoch: 16500, loss: 2.712451219558716\n",
            "epoch: 16600, loss: 2.328080892562866\n",
            "epoch: 16700, loss: 2.389601945877075\n",
            "epoch: 16800, loss: 2.5276663303375244\n",
            "epoch: 16900, loss: 2.307375907897949\n",
            "epoch: 17000, loss: 2.253842830657959\n",
            "epoch: 17100, loss: 2.567013740539551\n",
            "epoch: 17200, loss: 2.1614933013916016\n",
            "epoch: 17300, loss: 2.5006797313690186\n",
            "epoch: 17400, loss: 2.4856789112091064\n",
            "epoch: 17500, loss: 2.200462579727173\n",
            "epoch: 17600, loss: 2.431586265563965\n",
            "epoch: 17700, loss: 2.43890380859375\n",
            "epoch: 17800, loss: 2.854989528656006\n",
            "epoch: 17900, loss: 2.1764581203460693\n",
            "epoch: 18000, loss: 1.9976537227630615\n",
            "epoch: 18100, loss: 2.2851457595825195\n",
            "epoch: 18200, loss: 2.2945005893707275\n",
            "epoch: 18300, loss: 2.2970709800720215\n",
            "epoch: 18400, loss: 2.1368017196655273\n",
            "epoch: 18500, loss: 2.7774136066436768\n",
            "epoch: 18600, loss: 2.449218511581421\n",
            "epoch: 18700, loss: 2.4090335369110107\n",
            "epoch: 18800, loss: 2.488356113433838\n",
            "epoch: 18900, loss: 2.3027095794677734\n",
            "epoch: 19000, loss: 2.1883704662323\n",
            "epoch: 19100, loss: 2.255584478378296\n",
            "epoch: 19200, loss: 2.484468698501587\n",
            "epoch: 19300, loss: 2.0726351737976074\n",
            "epoch: 19400, loss: 2.745344400405884\n",
            "epoch: 19500, loss: 2.577133893966675\n",
            "epoch: 19600, loss: 2.260850667953491\n",
            "epoch: 19700, loss: 2.571747303009033\n",
            "epoch: 19800, loss: 2.4081318378448486\n",
            "epoch: 19900, loss: 2.418255567550659\n"
          ]
        }
      ]
    },
    {
      "cell_type": "code",
      "source": [
        "plt.figure(figsize=(15, 6))\n",
        "plt.plot(list(range(len(loss_track))), [l.item() for l in loss_track])\n",
        "plt.plot(list(range(len(test_loss_track))), [l.item() for l in test_loss_track], 'r')\n",
        "plt.legend(['train','test'])\n",
        "plt.grid(False)\n",
        "plt.title('Losses')\n",
        "plt.xlabel('Epoch')\n",
        "plt.show()"
      ],
      "metadata": {
        "colab": {
          "base_uri": "https://localhost:8080/",
          "height": 564
        },
        "id": "-srkrU0IWSAw",
        "outputId": "e13a5d93-1797-474b-c089-daeea1fe04be"
      },
      "execution_count": 64,
      "outputs": [
        {
          "output_type": "display_data",
          "data": {
            "text/plain": [
              "<Figure size 1500x600 with 1 Axes>"
            ],
            "image/png": "[encoded data removed]"
          },
          "metadata": {}
        }
      ]
    },
    {
      "cell_type": "markdown",
      "source": [
        "## Generating names"
      ],
      "metadata": {
        "id": "4ETntIza2b2V"
      }
    },
    {
      "cell_type": "code",
      "execution_count": 83,
      "metadata": {
        "id": "kUbsWgP465Oy",
        "colab": {
          "base_uri": "https://localhost:8080/"
        },
        "outputId": "39b6ce89-e2cc-4607-fbc0-e92658502800"
      },
      "outputs": [
        {
          "output_type": "stream",
          "name": "stdout",
          "text": [
            "tylia\n",
            "lysenna\n",
            "boj\n",
            "tyliakynn\n",
            "cayson\n",
            "envi\n",
            "saleah\n",
            "ayen\n",
            "mugri\n",
            "namey\n"
          ]
        }
      ],
      "source": [
        "#generating names\n",
        "# g = torch.Generator(device=device).manual_seed(123123)\n",
        "\n",
        "with torch.no_grad():\n",
        "    for i in range(10):\n",
        "        word = '...'\n",
        "        while(1):\n",
        "            idx = torch.tensor([letter_to_idx[l] for l in word[-3:]])\n",
        "            idx_one_hot = F.one_hot(idx, num_classes=POWER).float().to(device)\n",
        "            out = (idx_one_hot @ C).view(-1, 3*EMDIM)\n",
        "            for layer in layers:\n",
        "                out = layer(out)\n",
        "            counts = out.exp()\n",
        "            probs = counts/counts.sum(dim=1, keepdims=True)\n",
        "\n",
        "            next_token_id = torch.multinomial(probs, 1, generator=g)\n",
        "            word += idx_to_letter[next_token_id.item()]\n",
        "            if next_token_id == 0:\n",
        "                break\n",
        "        print(word[3:-1])"
      ]
    },
    {
      "cell_type": "code",
      "source": [],
      "metadata": {
        "id": "qnt1RaKl3p2H"
      },
      "execution_count": null,
      "outputs": []
    }
  ],
  "metadata": {
    "kernelspec": {
      "display_name": "Python 3",
      "name": "python3"
    },
    "language_info": {
      "codemirror_mode": {
        "name": "ipython",
        "version": 3
      },
      "file_extension": ".py",
      "mimetype": "text/x-python",
      "name": "python",
      "nbconvert_exporter": "python",
      "pygments_lexer": "ipython3",
      "version": "3.11.8"
    },
    "colab": {
      "provenance": [],
      "gpuType": "T4"
    },
    "accelerator": "GPU"
  },
  "nbformat": 4,
  "nbformat_minor": 0
}
