{
 "cells": [
  {
   "cell_type": "markdown",
   "metadata": {
    "id": "1EU9CHmteUve"
   },
   "source": [
    "<h1>Содержание<span class=\"tocSkip\"></span></h1>\n",
    "<div class=\"toc\"><ul class=\"toc-item\"><li><span><a href=\"#Подготовка-данных\" data-toc-modified-id=\"Подготовка-данных-1\"><span class=\"toc-item-num\">1&nbsp;&nbsp;</span>Подготовка данных</a></span></li><li><span><a href=\"#Анализ-данных\" data-toc-modified-id=\"Анализ-данных-2\"><span class=\"toc-item-num\">2&nbsp;&nbsp;</span>Анализ данных</a></span></li><li><span><a href=\"#Модель\" data-toc-modified-id=\"Модель-3\"><span class=\"toc-item-num\">3&nbsp;&nbsp;</span>Модель</a></span></li><li><span><a href=\"#Чек-лист-готовности-проекта\" data-toc-modified-id=\"Чек-лист-готовности-проекта-4\"><span class=\"toc-item-num\">4&nbsp;&nbsp;</span>Чек-лист готовности проекта</a></span></li></ul></div>"
   ]
  },
  {
   "cell_type": "markdown",
   "metadata": {
    "id": "-h5co53RebRU"
   },
   "source": [
    "# Восстановление золота из руды"
   ]
  },
  {
   "cell_type": "markdown",
   "metadata": {
    "id": "cE9J5ZC5eeyB"
   },
   "source": [
    "\n",
    "Модель должна предсказать коэффициент восстановления золота из золотосодержащей руды. Используйте данные с параметрами добычи и очистки.\n",
    "\n",
    "Модель поможет оптимизировать производство, чтобы не запускать предприятие с убыточными характеристиками.\n",
    "\n"
   ]
  },
  {
   "cell_type": "markdown",
   "metadata": {
    "id": "AhCWmgKIelrb"
   },
   "source": [
    "## Подготовка данных"
   ]
  },
  {
   "cell_type": "code",
   "execution_count": null,
   "metadata": {
    "id": "OSq88zepelzI"
   },
   "outputs": [],
   "source": [
    "import pandas as pd\n",
    "import seaborn as sns\n",
    "import matplotlib.pyplot as plt\n",
    "import numpy as np\n",
    "\n",
    "from sklearn.linear_model import LinearRegression\n",
    "from sklearn.tree import DecisionTreeRegressor\n",
    "from sklearn.preprocessing import StandardScaler\n",
    "from sklearn.metrics import mean_absolute_error\n",
    "from sklearn.metrics import make_scorer\n",
    "from sklearn.model_selection import cross_val_score\n",
    "from sklearn.model_selection import GridSearchCV\n",
    "from sklearn.dummy import DummyRegressor"
   ]
  },
  {
   "cell_type": "code",
   "execution_count": null,
   "metadata": {
    "id": "rqi9-Zf1ekid"
   },
   "outputs": [],
   "source": [
    "full = pd.read_csv('gold_recovery_full_new.csv')\n",
    "test = pd.read_csv('gold_recovery_test_new.csv')\n",
    "train = pd.read_csv('gold_recovery_train_new.csv')"
   ]
  },
  {
   "cell_type": "code",
   "execution_count": null,
   "metadata": {
    "colab": {
     "base_uri": "https://localhost:8080/",
     "height": 473
    },
    "id": "qpUyULJF-TBL",
    "outputId": "5e2d5344-8309-437c-f807-dba645545f5f"
   },
   "outputs": [
    {
     "data": {
      "text/html": [
       "<div>\n",
       "<style scoped>\n",
       "    .dataframe tbody tr th:only-of-type {\n",
       "        vertical-align: middle;\n",
       "    }\n",
       "\n",
       "    .dataframe tbody tr th {\n",
       "        vertical-align: top;\n",
       "    }\n",
       "\n",
       "    .dataframe thead th {\n",
       "        text-align: right;\n",
       "    }\n",
       "</style>\n",
       "<table border=\"1\" class=\"dataframe\">\n",
       "  <thead>\n",
       "    <tr style=\"text-align: right;\">\n",
       "      <th></th>\n",
       "      <th>date</th>\n",
       "      <th>final.output.concentrate_ag</th>\n",
       "      <th>final.output.concentrate_pb</th>\n",
       "      <th>final.output.concentrate_sol</th>\n",
       "      <th>final.output.concentrate_au</th>\n",
       "      <th>final.output.recovery</th>\n",
       "      <th>final.output.tail_ag</th>\n",
       "      <th>final.output.tail_pb</th>\n",
       "      <th>final.output.tail_sol</th>\n",
       "      <th>final.output.tail_au</th>\n",
       "      <th>...</th>\n",
       "      <th>secondary_cleaner.state.floatbank4_a_air</th>\n",
       "      <th>secondary_cleaner.state.floatbank4_a_level</th>\n",
       "      <th>secondary_cleaner.state.floatbank4_b_air</th>\n",
       "      <th>secondary_cleaner.state.floatbank4_b_level</th>\n",
       "      <th>secondary_cleaner.state.floatbank5_a_air</th>\n",
       "      <th>secondary_cleaner.state.floatbank5_a_level</th>\n",
       "      <th>secondary_cleaner.state.floatbank5_b_air</th>\n",
       "      <th>secondary_cleaner.state.floatbank5_b_level</th>\n",
       "      <th>secondary_cleaner.state.floatbank6_a_air</th>\n",
       "      <th>secondary_cleaner.state.floatbank6_a_level</th>\n",
       "    </tr>\n",
       "  </thead>\n",
       "  <tbody>\n",
       "    <tr>\n",
       "      <th>0</th>\n",
       "      <td>2016-01-15 00:00:00</td>\n",
       "      <td>6.055403</td>\n",
       "      <td>9.889648</td>\n",
       "      <td>5.507324</td>\n",
       "      <td>42.192020</td>\n",
       "      <td>70.541216</td>\n",
       "      <td>10.411962</td>\n",
       "      <td>0.895447</td>\n",
       "      <td>16.904297</td>\n",
       "      <td>2.143149</td>\n",
       "      <td>...</td>\n",
       "      <td>14.016835</td>\n",
       "      <td>-502.488007</td>\n",
       "      <td>12.099931</td>\n",
       "      <td>-504.715942</td>\n",
       "      <td>9.925633</td>\n",
       "      <td>-498.310211</td>\n",
       "      <td>8.079666</td>\n",
       "      <td>-500.470978</td>\n",
       "      <td>14.151341</td>\n",
       "      <td>-605.841980</td>\n",
       "    </tr>\n",
       "    <tr>\n",
       "      <th>1</th>\n",
       "      <td>2016-01-15 01:00:00</td>\n",
       "      <td>6.029369</td>\n",
       "      <td>9.968944</td>\n",
       "      <td>5.257781</td>\n",
       "      <td>42.701629</td>\n",
       "      <td>69.266198</td>\n",
       "      <td>10.462676</td>\n",
       "      <td>0.927452</td>\n",
       "      <td>16.634514</td>\n",
       "      <td>2.224930</td>\n",
       "      <td>...</td>\n",
       "      <td>13.992281</td>\n",
       "      <td>-505.503262</td>\n",
       "      <td>11.950531</td>\n",
       "      <td>-501.331529</td>\n",
       "      <td>10.039245</td>\n",
       "      <td>-500.169983</td>\n",
       "      <td>7.984757</td>\n",
       "      <td>-500.582168</td>\n",
       "      <td>13.998353</td>\n",
       "      <td>-599.787184</td>\n",
       "    </tr>\n",
       "    <tr>\n",
       "      <th>2</th>\n",
       "      <td>2016-01-15 02:00:00</td>\n",
       "      <td>6.055926</td>\n",
       "      <td>10.213995</td>\n",
       "      <td>5.383759</td>\n",
       "      <td>42.657501</td>\n",
       "      <td>68.116445</td>\n",
       "      <td>10.507046</td>\n",
       "      <td>0.953716</td>\n",
       "      <td>16.208849</td>\n",
       "      <td>2.257889</td>\n",
       "      <td>...</td>\n",
       "      <td>14.015015</td>\n",
       "      <td>-502.520901</td>\n",
       "      <td>11.912783</td>\n",
       "      <td>-501.133383</td>\n",
       "      <td>10.070913</td>\n",
       "      <td>-500.129135</td>\n",
       "      <td>8.013877</td>\n",
       "      <td>-500.517572</td>\n",
       "      <td>14.028663</td>\n",
       "      <td>-601.427363</td>\n",
       "    </tr>\n",
       "    <tr>\n",
       "      <th>3</th>\n",
       "      <td>2016-01-15 03:00:00</td>\n",
       "      <td>6.047977</td>\n",
       "      <td>9.977019</td>\n",
       "      <td>4.858634</td>\n",
       "      <td>42.689819</td>\n",
       "      <td>68.347543</td>\n",
       "      <td>10.422762</td>\n",
       "      <td>0.883763</td>\n",
       "      <td>16.532835</td>\n",
       "      <td>2.146849</td>\n",
       "      <td>...</td>\n",
       "      <td>14.036510</td>\n",
       "      <td>-500.857308</td>\n",
       "      <td>11.999550</td>\n",
       "      <td>-501.193686</td>\n",
       "      <td>9.970366</td>\n",
       "      <td>-499.201640</td>\n",
       "      <td>7.977324</td>\n",
       "      <td>-500.255908</td>\n",
       "      <td>14.005551</td>\n",
       "      <td>-599.996129</td>\n",
       "    </tr>\n",
       "    <tr>\n",
       "      <th>4</th>\n",
       "      <td>2016-01-15 04:00:00</td>\n",
       "      <td>6.148599</td>\n",
       "      <td>10.142511</td>\n",
       "      <td>4.939416</td>\n",
       "      <td>42.774141</td>\n",
       "      <td>66.927016</td>\n",
       "      <td>10.360302</td>\n",
       "      <td>0.792826</td>\n",
       "      <td>16.525686</td>\n",
       "      <td>2.055292</td>\n",
       "      <td>...</td>\n",
       "      <td>14.027298</td>\n",
       "      <td>-499.838632</td>\n",
       "      <td>11.953070</td>\n",
       "      <td>-501.053894</td>\n",
       "      <td>9.925709</td>\n",
       "      <td>-501.686727</td>\n",
       "      <td>7.894242</td>\n",
       "      <td>-500.356035</td>\n",
       "      <td>13.996647</td>\n",
       "      <td>-601.496691</td>\n",
       "    </tr>\n",
       "  </tbody>\n",
       "</table>\n",
       "<p>5 rows × 87 columns</p>\n",
       "</div>"
      ],
      "text/plain": [
       "                  date  final.output.concentrate_ag  \\\n",
       "0  2016-01-15 00:00:00                     6.055403   \n",
       "1  2016-01-15 01:00:00                     6.029369   \n",
       "2  2016-01-15 02:00:00                     6.055926   \n",
       "3  2016-01-15 03:00:00                     6.047977   \n",
       "4  2016-01-15 04:00:00                     6.148599   \n",
       "\n",
       "   final.output.concentrate_pb  final.output.concentrate_sol  \\\n",
       "0                     9.889648                      5.507324   \n",
       "1                     9.968944                      5.257781   \n",
       "2                    10.213995                      5.383759   \n",
       "3                     9.977019                      4.858634   \n",
       "4                    10.142511                      4.939416   \n",
       "\n",
       "   final.output.concentrate_au  final.output.recovery  final.output.tail_ag  \\\n",
       "0                    42.192020              70.541216             10.411962   \n",
       "1                    42.701629              69.266198             10.462676   \n",
       "2                    42.657501              68.116445             10.507046   \n",
       "3                    42.689819              68.347543             10.422762   \n",
       "4                    42.774141              66.927016             10.360302   \n",
       "\n",
       "   final.output.tail_pb  final.output.tail_sol  final.output.tail_au  ...  \\\n",
       "0              0.895447              16.904297              2.143149  ...   \n",
       "1              0.927452              16.634514              2.224930  ...   \n",
       "2              0.953716              16.208849              2.257889  ...   \n",
       "3              0.883763              16.532835              2.146849  ...   \n",
       "4              0.792826              16.525686              2.055292  ...   \n",
       "\n",
       "   secondary_cleaner.state.floatbank4_a_air  \\\n",
       "0                                 14.016835   \n",
       "1                                 13.992281   \n",
       "2                                 14.015015   \n",
       "3                                 14.036510   \n",
       "4                                 14.027298   \n",
       "\n",
       "   secondary_cleaner.state.floatbank4_a_level  \\\n",
       "0                                 -502.488007   \n",
       "1                                 -505.503262   \n",
       "2                                 -502.520901   \n",
       "3                                 -500.857308   \n",
       "4                                 -499.838632   \n",
       "\n",
       "   secondary_cleaner.state.floatbank4_b_air  \\\n",
       "0                                 12.099931   \n",
       "1                                 11.950531   \n",
       "2                                 11.912783   \n",
       "3                                 11.999550   \n",
       "4                                 11.953070   \n",
       "\n",
       "   secondary_cleaner.state.floatbank4_b_level  \\\n",
       "0                                 -504.715942   \n",
       "1                                 -501.331529   \n",
       "2                                 -501.133383   \n",
       "3                                 -501.193686   \n",
       "4                                 -501.053894   \n",
       "\n",
       "   secondary_cleaner.state.floatbank5_a_air  \\\n",
       "0                                  9.925633   \n",
       "1                                 10.039245   \n",
       "2                                 10.070913   \n",
       "3                                  9.970366   \n",
       "4                                  9.925709   \n",
       "\n",
       "   secondary_cleaner.state.floatbank5_a_level  \\\n",
       "0                                 -498.310211   \n",
       "1                                 -500.169983   \n",
       "2                                 -500.129135   \n",
       "3                                 -499.201640   \n",
       "4                                 -501.686727   \n",
       "\n",
       "   secondary_cleaner.state.floatbank5_b_air  \\\n",
       "0                                  8.079666   \n",
       "1                                  7.984757   \n",
       "2                                  8.013877   \n",
       "3                                  7.977324   \n",
       "4                                  7.894242   \n",
       "\n",
       "   secondary_cleaner.state.floatbank5_b_level  \\\n",
       "0                                 -500.470978   \n",
       "1                                 -500.582168   \n",
       "2                                 -500.517572   \n",
       "3                                 -500.255908   \n",
       "4                                 -500.356035   \n",
       "\n",
       "   secondary_cleaner.state.floatbank6_a_air  \\\n",
       "0                                 14.151341   \n",
       "1                                 13.998353   \n",
       "2                                 14.028663   \n",
       "3                                 14.005551   \n",
       "4                                 13.996647   \n",
       "\n",
       "   secondary_cleaner.state.floatbank6_a_level  \n",
       "0                                 -605.841980  \n",
       "1                                 -599.787184  \n",
       "2                                 -601.427363  \n",
       "3                                 -599.996129  \n",
       "4                                 -601.496691  \n",
       "\n",
       "[5 rows x 87 columns]"
      ]
     },
     "execution_count": 3,
     "metadata": {},
     "output_type": "execute_result"
    }
   ],
   "source": [
    "train.head()"
   ]
  },
  {
   "cell_type": "code",
   "execution_count": null,
   "metadata": {
    "colab": {
     "base_uri": "https://localhost:8080/"
    },
    "id": "1E2kFjPdg8q6",
    "outputId": "649fdc1d-ebc9-4e9b-fecc-1516bd2826e2"
   },
   "outputs": [
    {
     "name": "stdout",
     "output_type": "stream",
     "text": [
      "<class 'pandas.core.frame.DataFrame'>\n",
      "RangeIndex: 14149 entries, 0 to 14148\n",
      "Data columns (total 87 columns):\n",
      " #   Column                                              Non-Null Count  Dtype  \n",
      "---  ------                                              --------------  -----  \n",
      " 0   date                                                14149 non-null  object \n",
      " 1   final.output.concentrate_ag                         14148 non-null  float64\n",
      " 2   final.output.concentrate_pb                         14148 non-null  float64\n",
      " 3   final.output.concentrate_sol                        13938 non-null  float64\n",
      " 4   final.output.concentrate_au                         14149 non-null  float64\n",
      " 5   final.output.recovery                               14149 non-null  float64\n",
      " 6   final.output.tail_ag                                14149 non-null  float64\n",
      " 7   final.output.tail_pb                                14049 non-null  float64\n",
      " 8   final.output.tail_sol                               14144 non-null  float64\n",
      " 9   final.output.tail_au                                14149 non-null  float64\n",
      " 10  primary_cleaner.input.sulfate                       14129 non-null  float64\n",
      " 11  primary_cleaner.input.depressant                    14117 non-null  float64\n",
      " 12  primary_cleaner.input.feed_size                     14149 non-null  float64\n",
      " 13  primary_cleaner.input.xanthate                      14049 non-null  float64\n",
      " 14  primary_cleaner.output.concentrate_ag               14149 non-null  float64\n",
      " 15  primary_cleaner.output.concentrate_pb               14063 non-null  float64\n",
      " 16  primary_cleaner.output.concentrate_sol              13863 non-null  float64\n",
      " 17  primary_cleaner.output.concentrate_au               14149 non-null  float64\n",
      " 18  primary_cleaner.output.tail_ag                      14148 non-null  float64\n",
      " 19  primary_cleaner.output.tail_pb                      14134 non-null  float64\n",
      " 20  primary_cleaner.output.tail_sol                     14103 non-null  float64\n",
      " 21  primary_cleaner.output.tail_au                      14149 non-null  float64\n",
      " 22  primary_cleaner.state.floatbank8_a_air              14145 non-null  float64\n",
      " 23  primary_cleaner.state.floatbank8_a_level            14148 non-null  float64\n",
      " 24  primary_cleaner.state.floatbank8_b_air              14145 non-null  float64\n",
      " 25  primary_cleaner.state.floatbank8_b_level            14148 non-null  float64\n",
      " 26  primary_cleaner.state.floatbank8_c_air              14147 non-null  float64\n",
      " 27  primary_cleaner.state.floatbank8_c_level            14148 non-null  float64\n",
      " 28  primary_cleaner.state.floatbank8_d_air              14146 non-null  float64\n",
      " 29  primary_cleaner.state.floatbank8_d_level            14148 non-null  float64\n",
      " 30  rougher.calculation.sulfate_to_au_concentrate       14148 non-null  float64\n",
      " 31  rougher.calculation.floatbank10_sulfate_to_au_feed  14148 non-null  float64\n",
      " 32  rougher.calculation.floatbank11_sulfate_to_au_feed  14148 non-null  float64\n",
      " 33  rougher.calculation.au_pb_ratio                     14149 non-null  float64\n",
      " 34  rougher.input.feed_ag                               14149 non-null  float64\n",
      " 35  rougher.input.feed_pb                               14049 non-null  float64\n",
      " 36  rougher.input.feed_rate                             14141 non-null  float64\n",
      " 37  rougher.input.feed_size                             14005 non-null  float64\n",
      " 38  rougher.input.feed_sol                              14071 non-null  float64\n",
      " 39  rougher.input.feed_au                               14149 non-null  float64\n",
      " 40  rougher.input.floatbank10_sulfate                   14120 non-null  float64\n",
      " 41  rougher.input.floatbank10_xanthate                  14141 non-null  float64\n",
      " 42  rougher.input.floatbank11_sulfate                   14113 non-null  float64\n",
      " 43  rougher.input.floatbank11_xanthate                  13721 non-null  float64\n",
      " 44  rougher.output.concentrate_ag                       14149 non-null  float64\n",
      " 45  rougher.output.concentrate_pb                       14149 non-null  float64\n",
      " 46  rougher.output.concentrate_sol                      14127 non-null  float64\n",
      " 47  rougher.output.concentrate_au                       14149 non-null  float64\n",
      " 48  rougher.output.recovery                             14149 non-null  float64\n",
      " 49  rougher.output.tail_ag                              14148 non-null  float64\n",
      " 50  rougher.output.tail_pb                              14149 non-null  float64\n",
      " 51  rougher.output.tail_sol                             14149 non-null  float64\n",
      " 52  rougher.output.tail_au                              14149 non-null  float64\n",
      " 53  rougher.state.floatbank10_a_air                     14148 non-null  float64\n",
      " 54  rougher.state.floatbank10_a_level                   14148 non-null  float64\n",
      " 55  rougher.state.floatbank10_b_air                     14148 non-null  float64\n",
      " 56  rougher.state.floatbank10_b_level                   14148 non-null  float64\n",
      " 57  rougher.state.floatbank10_c_air                     14148 non-null  float64\n",
      " 58  rougher.state.floatbank10_c_level                   14148 non-null  float64\n",
      " 59  rougher.state.floatbank10_d_air                     14149 non-null  float64\n",
      " 60  rougher.state.floatbank10_d_level                   14149 non-null  float64\n",
      " 61  rougher.state.floatbank10_e_air                     13713 non-null  float64\n",
      " 62  rougher.state.floatbank10_e_level                   14149 non-null  float64\n",
      " 63  rougher.state.floatbank10_f_air                     14149 non-null  float64\n",
      " 64  rougher.state.floatbank10_f_level                   14149 non-null  float64\n",
      " 65  secondary_cleaner.output.tail_ag                    14147 non-null  float64\n",
      " 66  secondary_cleaner.output.tail_pb                    14139 non-null  float64\n",
      " 67  secondary_cleaner.output.tail_sol                   12544 non-null  float64\n",
      " 68  secondary_cleaner.output.tail_au                    14149 non-null  float64\n",
      " 69  secondary_cleaner.state.floatbank2_a_air            13932 non-null  float64\n",
      " 70  secondary_cleaner.state.floatbank2_a_level          14148 non-null  float64\n",
      " 71  secondary_cleaner.state.floatbank2_b_air            14128 non-null  float64\n",
      " 72  secondary_cleaner.state.floatbank2_b_level          14148 non-null  float64\n",
      " 73  secondary_cleaner.state.floatbank3_a_air            14145 non-null  float64\n",
      " 74  secondary_cleaner.state.floatbank3_a_level          14148 non-null  float64\n",
      " 75  secondary_cleaner.state.floatbank3_b_air            14148 non-null  float64\n",
      " 76  secondary_cleaner.state.floatbank3_b_level          14148 non-null  float64\n",
      " 77  secondary_cleaner.state.floatbank4_a_air            14143 non-null  float64\n",
      " 78  secondary_cleaner.state.floatbank4_a_level          14148 non-null  float64\n",
      " 79  secondary_cleaner.state.floatbank4_b_air            14148 non-null  float64\n",
      " 80  secondary_cleaner.state.floatbank4_b_level          14148 non-null  float64\n",
      " 81  secondary_cleaner.state.floatbank5_a_air            14148 non-null  float64\n",
      " 82  secondary_cleaner.state.floatbank5_a_level          14148 non-null  float64\n",
      " 83  secondary_cleaner.state.floatbank5_b_air            14148 non-null  float64\n",
      " 84  secondary_cleaner.state.floatbank5_b_level          14148 non-null  float64\n",
      " 85  secondary_cleaner.state.floatbank6_a_air            14147 non-null  float64\n",
      " 86  secondary_cleaner.state.floatbank6_a_level          14148 non-null  float64\n",
      "dtypes: float64(86), object(1)\n",
      "memory usage: 9.4+ MB\n"
     ]
    }
   ],
   "source": [
    "train.info()"
   ]
  },
  {
   "cell_type": "code",
   "execution_count": null,
   "metadata": {
    "colab": {
     "base_uri": "https://localhost:8080/"
    },
    "id": "n8F0vKuGjUka",
    "outputId": "18761d23-5fab-477d-e3a2-3acf11b79d93"
   },
   "outputs": [
    {
     "name": "stdout",
     "output_type": "stream",
     "text": [
      "<class 'pandas.core.frame.DataFrame'>\n",
      "RangeIndex: 5290 entries, 0 to 5289\n",
      "Data columns (total 53 columns):\n",
      " #   Column                                      Non-Null Count  Dtype  \n",
      "---  ------                                      --------------  -----  \n",
      " 0   date                                        5290 non-null   object \n",
      " 1   primary_cleaner.input.sulfate               5286 non-null   float64\n",
      " 2   primary_cleaner.input.depressant            5285 non-null   float64\n",
      " 3   primary_cleaner.input.feed_size             5290 non-null   float64\n",
      " 4   primary_cleaner.input.xanthate              5286 non-null   float64\n",
      " 5   primary_cleaner.state.floatbank8_a_air      5290 non-null   float64\n",
      " 6   primary_cleaner.state.floatbank8_a_level    5290 non-null   float64\n",
      " 7   primary_cleaner.state.floatbank8_b_air      5290 non-null   float64\n",
      " 8   primary_cleaner.state.floatbank8_b_level    5290 non-null   float64\n",
      " 9   primary_cleaner.state.floatbank8_c_air      5290 non-null   float64\n",
      " 10  primary_cleaner.state.floatbank8_c_level    5290 non-null   float64\n",
      " 11  primary_cleaner.state.floatbank8_d_air      5290 non-null   float64\n",
      " 12  primary_cleaner.state.floatbank8_d_level    5290 non-null   float64\n",
      " 13  rougher.input.feed_ag                       5290 non-null   float64\n",
      " 14  rougher.input.feed_pb                       5290 non-null   float64\n",
      " 15  rougher.input.feed_rate                     5287 non-null   float64\n",
      " 16  rougher.input.feed_size                     5289 non-null   float64\n",
      " 17  rougher.input.feed_sol                      5269 non-null   float64\n",
      " 18  rougher.input.feed_au                       5290 non-null   float64\n",
      " 19  rougher.input.floatbank10_sulfate           5285 non-null   float64\n",
      " 20  rougher.input.floatbank10_xanthate          5290 non-null   float64\n",
      " 21  rougher.input.floatbank11_sulfate           5282 non-null   float64\n",
      " 22  rougher.input.floatbank11_xanthate          5265 non-null   float64\n",
      " 23  rougher.state.floatbank10_a_air             5290 non-null   float64\n",
      " 24  rougher.state.floatbank10_a_level           5290 non-null   float64\n",
      " 25  rougher.state.floatbank10_b_air             5290 non-null   float64\n",
      " 26  rougher.state.floatbank10_b_level           5290 non-null   float64\n",
      " 27  rougher.state.floatbank10_c_air             5290 non-null   float64\n",
      " 28  rougher.state.floatbank10_c_level           5290 non-null   float64\n",
      " 29  rougher.state.floatbank10_d_air             5290 non-null   float64\n",
      " 30  rougher.state.floatbank10_d_level           5290 non-null   float64\n",
      " 31  rougher.state.floatbank10_e_air             5290 non-null   float64\n",
      " 32  rougher.state.floatbank10_e_level           5290 non-null   float64\n",
      " 33  rougher.state.floatbank10_f_air             5290 non-null   float64\n",
      " 34  rougher.state.floatbank10_f_level           5290 non-null   float64\n",
      " 35  secondary_cleaner.state.floatbank2_a_air    5287 non-null   float64\n",
      " 36  secondary_cleaner.state.floatbank2_a_level  5290 non-null   float64\n",
      " 37  secondary_cleaner.state.floatbank2_b_air    5288 non-null   float64\n",
      " 38  secondary_cleaner.state.floatbank2_b_level  5290 non-null   float64\n",
      " 39  secondary_cleaner.state.floatbank3_a_air    5281 non-null   float64\n",
      " 40  secondary_cleaner.state.floatbank3_a_level  5290 non-null   float64\n",
      " 41  secondary_cleaner.state.floatbank3_b_air    5290 non-null   float64\n",
      " 42  secondary_cleaner.state.floatbank3_b_level  5290 non-null   float64\n",
      " 43  secondary_cleaner.state.floatbank4_a_air    5290 non-null   float64\n",
      " 44  secondary_cleaner.state.floatbank4_a_level  5290 non-null   float64\n",
      " 45  secondary_cleaner.state.floatbank4_b_air    5290 non-null   float64\n",
      " 46  secondary_cleaner.state.floatbank4_b_level  5290 non-null   float64\n",
      " 47  secondary_cleaner.state.floatbank5_a_air    5290 non-null   float64\n",
      " 48  secondary_cleaner.state.floatbank5_a_level  5290 non-null   float64\n",
      " 49  secondary_cleaner.state.floatbank5_b_air    5290 non-null   float64\n",
      " 50  secondary_cleaner.state.floatbank5_b_level  5290 non-null   float64\n",
      " 51  secondary_cleaner.state.floatbank6_a_air    5290 non-null   float64\n",
      " 52  secondary_cleaner.state.floatbank6_a_level  5290 non-null   float64\n",
      "dtypes: float64(52), object(1)\n",
      "memory usage: 2.1+ MB\n"
     ]
    }
   ],
   "source": [
    "test.info()"
   ]
  },
  {
   "cell_type": "markdown",
   "metadata": {
    "id": "7_c9NNyiQDMq"
   },
   "source": [
    "Столбец с датой установим за индексы датафреймов"
   ]
  },
  {
   "cell_type": "code",
   "execution_count": null,
   "metadata": {
    "id": "BGRZHAhJQWW4"
   },
   "outputs": [],
   "source": [
    "train.set_index('date', inplace = True)\n",
    "test.set_index('date', inplace = True)\n",
    "full.set_index('date', inplace = True)"
   ]
  },
  {
   "cell_type": "code",
   "execution_count": null,
   "metadata": {
    "colab": {
     "base_uri": "https://localhost:8080/",
     "height": 504
    },
    "id": "BbPgxmHunje_",
    "outputId": "0790f80c-0981-4769-c1d7-eb45f90d0382"
   },
   "outputs": [
    {
     "data": {
      "text/html": [
       "<div>\n",
       "<style scoped>\n",
       "    .dataframe tbody tr th:only-of-type {\n",
       "        vertical-align: middle;\n",
       "    }\n",
       "\n",
       "    .dataframe tbody tr th {\n",
       "        vertical-align: top;\n",
       "    }\n",
       "\n",
       "    .dataframe thead th {\n",
       "        text-align: right;\n",
       "    }\n",
       "</style>\n",
       "<table border=\"1\" class=\"dataframe\">\n",
       "  <thead>\n",
       "    <tr style=\"text-align: right;\">\n",
       "      <th></th>\n",
       "      <th>final.output.concentrate_ag</th>\n",
       "      <th>final.output.concentrate_pb</th>\n",
       "      <th>final.output.concentrate_sol</th>\n",
       "      <th>final.output.concentrate_au</th>\n",
       "      <th>final.output.recovery</th>\n",
       "      <th>final.output.tail_ag</th>\n",
       "      <th>final.output.tail_pb</th>\n",
       "      <th>final.output.tail_sol</th>\n",
       "      <th>final.output.tail_au</th>\n",
       "      <th>primary_cleaner.input.sulfate</th>\n",
       "      <th>...</th>\n",
       "      <th>secondary_cleaner.state.floatbank4_a_air</th>\n",
       "      <th>secondary_cleaner.state.floatbank4_a_level</th>\n",
       "      <th>secondary_cleaner.state.floatbank4_b_air</th>\n",
       "      <th>secondary_cleaner.state.floatbank4_b_level</th>\n",
       "      <th>secondary_cleaner.state.floatbank5_a_air</th>\n",
       "      <th>secondary_cleaner.state.floatbank5_a_level</th>\n",
       "      <th>secondary_cleaner.state.floatbank5_b_air</th>\n",
       "      <th>secondary_cleaner.state.floatbank5_b_level</th>\n",
       "      <th>secondary_cleaner.state.floatbank6_a_air</th>\n",
       "      <th>secondary_cleaner.state.floatbank6_a_level</th>\n",
       "    </tr>\n",
       "    <tr>\n",
       "      <th>date</th>\n",
       "      <th></th>\n",
       "      <th></th>\n",
       "      <th></th>\n",
       "      <th></th>\n",
       "      <th></th>\n",
       "      <th></th>\n",
       "      <th></th>\n",
       "      <th></th>\n",
       "      <th></th>\n",
       "      <th></th>\n",
       "      <th></th>\n",
       "      <th></th>\n",
       "      <th></th>\n",
       "      <th></th>\n",
       "      <th></th>\n",
       "      <th></th>\n",
       "      <th></th>\n",
       "      <th></th>\n",
       "      <th></th>\n",
       "      <th></th>\n",
       "      <th></th>\n",
       "    </tr>\n",
       "  </thead>\n",
       "  <tbody>\n",
       "    <tr>\n",
       "      <th>2016-01-15 00:00:00</th>\n",
       "      <td>6.055403</td>\n",
       "      <td>9.889648</td>\n",
       "      <td>5.507324</td>\n",
       "      <td>42.192020</td>\n",
       "      <td>70.541216</td>\n",
       "      <td>10.411962</td>\n",
       "      <td>0.895447</td>\n",
       "      <td>16.904297</td>\n",
       "      <td>2.143149</td>\n",
       "      <td>127.092003</td>\n",
       "      <td>...</td>\n",
       "      <td>14.016835</td>\n",
       "      <td>-502.488007</td>\n",
       "      <td>12.099931</td>\n",
       "      <td>-504.715942</td>\n",
       "      <td>9.925633</td>\n",
       "      <td>-498.310211</td>\n",
       "      <td>8.079666</td>\n",
       "      <td>-500.470978</td>\n",
       "      <td>14.151341</td>\n",
       "      <td>-605.841980</td>\n",
       "    </tr>\n",
       "    <tr>\n",
       "      <th>2016-01-15 01:00:00</th>\n",
       "      <td>6.029369</td>\n",
       "      <td>9.968944</td>\n",
       "      <td>5.257781</td>\n",
       "      <td>42.701629</td>\n",
       "      <td>69.266198</td>\n",
       "      <td>10.462676</td>\n",
       "      <td>0.927452</td>\n",
       "      <td>16.634514</td>\n",
       "      <td>2.224930</td>\n",
       "      <td>125.629232</td>\n",
       "      <td>...</td>\n",
       "      <td>13.992281</td>\n",
       "      <td>-505.503262</td>\n",
       "      <td>11.950531</td>\n",
       "      <td>-501.331529</td>\n",
       "      <td>10.039245</td>\n",
       "      <td>-500.169983</td>\n",
       "      <td>7.984757</td>\n",
       "      <td>-500.582168</td>\n",
       "      <td>13.998353</td>\n",
       "      <td>-599.787184</td>\n",
       "    </tr>\n",
       "    <tr>\n",
       "      <th>2016-01-15 02:00:00</th>\n",
       "      <td>6.055926</td>\n",
       "      <td>10.213995</td>\n",
       "      <td>5.383759</td>\n",
       "      <td>42.657501</td>\n",
       "      <td>68.116445</td>\n",
       "      <td>10.507046</td>\n",
       "      <td>0.953716</td>\n",
       "      <td>16.208849</td>\n",
       "      <td>2.257889</td>\n",
       "      <td>123.819808</td>\n",
       "      <td>...</td>\n",
       "      <td>14.015015</td>\n",
       "      <td>-502.520901</td>\n",
       "      <td>11.912783</td>\n",
       "      <td>-501.133383</td>\n",
       "      <td>10.070913</td>\n",
       "      <td>-500.129135</td>\n",
       "      <td>8.013877</td>\n",
       "      <td>-500.517572</td>\n",
       "      <td>14.028663</td>\n",
       "      <td>-601.427363</td>\n",
       "    </tr>\n",
       "    <tr>\n",
       "      <th>2016-01-15 03:00:00</th>\n",
       "      <td>6.047977</td>\n",
       "      <td>9.977019</td>\n",
       "      <td>4.858634</td>\n",
       "      <td>42.689819</td>\n",
       "      <td>68.347543</td>\n",
       "      <td>10.422762</td>\n",
       "      <td>0.883763</td>\n",
       "      <td>16.532835</td>\n",
       "      <td>2.146849</td>\n",
       "      <td>122.270188</td>\n",
       "      <td>...</td>\n",
       "      <td>14.036510</td>\n",
       "      <td>-500.857308</td>\n",
       "      <td>11.999550</td>\n",
       "      <td>-501.193686</td>\n",
       "      <td>9.970366</td>\n",
       "      <td>-499.201640</td>\n",
       "      <td>7.977324</td>\n",
       "      <td>-500.255908</td>\n",
       "      <td>14.005551</td>\n",
       "      <td>-599.996129</td>\n",
       "    </tr>\n",
       "    <tr>\n",
       "      <th>2016-01-15 04:00:00</th>\n",
       "      <td>6.148599</td>\n",
       "      <td>10.142511</td>\n",
       "      <td>4.939416</td>\n",
       "      <td>42.774141</td>\n",
       "      <td>66.927016</td>\n",
       "      <td>10.360302</td>\n",
       "      <td>0.792826</td>\n",
       "      <td>16.525686</td>\n",
       "      <td>2.055292</td>\n",
       "      <td>117.988169</td>\n",
       "      <td>...</td>\n",
       "      <td>14.027298</td>\n",
       "      <td>-499.838632</td>\n",
       "      <td>11.953070</td>\n",
       "      <td>-501.053894</td>\n",
       "      <td>9.925709</td>\n",
       "      <td>-501.686727</td>\n",
       "      <td>7.894242</td>\n",
       "      <td>-500.356035</td>\n",
       "      <td>13.996647</td>\n",
       "      <td>-601.496691</td>\n",
       "    </tr>\n",
       "  </tbody>\n",
       "</table>\n",
       "<p>5 rows × 86 columns</p>\n",
       "</div>"
      ],
      "text/plain": [
       "                     final.output.concentrate_ag  final.output.concentrate_pb  \\\n",
       "date                                                                            \n",
       "2016-01-15 00:00:00                     6.055403                     9.889648   \n",
       "2016-01-15 01:00:00                     6.029369                     9.968944   \n",
       "2016-01-15 02:00:00                     6.055926                    10.213995   \n",
       "2016-01-15 03:00:00                     6.047977                     9.977019   \n",
       "2016-01-15 04:00:00                     6.148599                    10.142511   \n",
       "\n",
       "                     final.output.concentrate_sol  \\\n",
       "date                                                \n",
       "2016-01-15 00:00:00                      5.507324   \n",
       "2016-01-15 01:00:00                      5.257781   \n",
       "2016-01-15 02:00:00                      5.383759   \n",
       "2016-01-15 03:00:00                      4.858634   \n",
       "2016-01-15 04:00:00                      4.939416   \n",
       "\n",
       "                     final.output.concentrate_au  final.output.recovery  \\\n",
       "date                                                                      \n",
       "2016-01-15 00:00:00                    42.192020              70.541216   \n",
       "2016-01-15 01:00:00                    42.701629              69.266198   \n",
       "2016-01-15 02:00:00                    42.657501              68.116445   \n",
       "2016-01-15 03:00:00                    42.689819              68.347543   \n",
       "2016-01-15 04:00:00                    42.774141              66.927016   \n",
       "\n",
       "                     final.output.tail_ag  final.output.tail_pb  \\\n",
       "date                                                              \n",
       "2016-01-15 00:00:00             10.411962              0.895447   \n",
       "2016-01-15 01:00:00             10.462676              0.927452   \n",
       "2016-01-15 02:00:00             10.507046              0.953716   \n",
       "2016-01-15 03:00:00             10.422762              0.883763   \n",
       "2016-01-15 04:00:00             10.360302              0.792826   \n",
       "\n",
       "                     final.output.tail_sol  final.output.tail_au  \\\n",
       "date                                                               \n",
       "2016-01-15 00:00:00              16.904297              2.143149   \n",
       "2016-01-15 01:00:00              16.634514              2.224930   \n",
       "2016-01-15 02:00:00              16.208849              2.257889   \n",
       "2016-01-15 03:00:00              16.532835              2.146849   \n",
       "2016-01-15 04:00:00              16.525686              2.055292   \n",
       "\n",
       "                     primary_cleaner.input.sulfate  ...  \\\n",
       "date                                                ...   \n",
       "2016-01-15 00:00:00                     127.092003  ...   \n",
       "2016-01-15 01:00:00                     125.629232  ...   \n",
       "2016-01-15 02:00:00                     123.819808  ...   \n",
       "2016-01-15 03:00:00                     122.270188  ...   \n",
       "2016-01-15 04:00:00                     117.988169  ...   \n",
       "\n",
       "                     secondary_cleaner.state.floatbank4_a_air  \\\n",
       "date                                                            \n",
       "2016-01-15 00:00:00                                 14.016835   \n",
       "2016-01-15 01:00:00                                 13.992281   \n",
       "2016-01-15 02:00:00                                 14.015015   \n",
       "2016-01-15 03:00:00                                 14.036510   \n",
       "2016-01-15 04:00:00                                 14.027298   \n",
       "\n",
       "                     secondary_cleaner.state.floatbank4_a_level  \\\n",
       "date                                                              \n",
       "2016-01-15 00:00:00                                 -502.488007   \n",
       "2016-01-15 01:00:00                                 -505.503262   \n",
       "2016-01-15 02:00:00                                 -502.520901   \n",
       "2016-01-15 03:00:00                                 -500.857308   \n",
       "2016-01-15 04:00:00                                 -499.838632   \n",
       "\n",
       "                     secondary_cleaner.state.floatbank4_b_air  \\\n",
       "date                                                            \n",
       "2016-01-15 00:00:00                                 12.099931   \n",
       "2016-01-15 01:00:00                                 11.950531   \n",
       "2016-01-15 02:00:00                                 11.912783   \n",
       "2016-01-15 03:00:00                                 11.999550   \n",
       "2016-01-15 04:00:00                                 11.953070   \n",
       "\n",
       "                     secondary_cleaner.state.floatbank4_b_level  \\\n",
       "date                                                              \n",
       "2016-01-15 00:00:00                                 -504.715942   \n",
       "2016-01-15 01:00:00                                 -501.331529   \n",
       "2016-01-15 02:00:00                                 -501.133383   \n",
       "2016-01-15 03:00:00                                 -501.193686   \n",
       "2016-01-15 04:00:00                                 -501.053894   \n",
       "\n",
       "                     secondary_cleaner.state.floatbank5_a_air  \\\n",
       "date                                                            \n",
       "2016-01-15 00:00:00                                  9.925633   \n",
       "2016-01-15 01:00:00                                 10.039245   \n",
       "2016-01-15 02:00:00                                 10.070913   \n",
       "2016-01-15 03:00:00                                  9.970366   \n",
       "2016-01-15 04:00:00                                  9.925709   \n",
       "\n",
       "                     secondary_cleaner.state.floatbank5_a_level  \\\n",
       "date                                                              \n",
       "2016-01-15 00:00:00                                 -498.310211   \n",
       "2016-01-15 01:00:00                                 -500.169983   \n",
       "2016-01-15 02:00:00                                 -500.129135   \n",
       "2016-01-15 03:00:00                                 -499.201640   \n",
       "2016-01-15 04:00:00                                 -501.686727   \n",
       "\n",
       "                     secondary_cleaner.state.floatbank5_b_air  \\\n",
       "date                                                            \n",
       "2016-01-15 00:00:00                                  8.079666   \n",
       "2016-01-15 01:00:00                                  7.984757   \n",
       "2016-01-15 02:00:00                                  8.013877   \n",
       "2016-01-15 03:00:00                                  7.977324   \n",
       "2016-01-15 04:00:00                                  7.894242   \n",
       "\n",
       "                     secondary_cleaner.state.floatbank5_b_level  \\\n",
       "date                                                              \n",
       "2016-01-15 00:00:00                                 -500.470978   \n",
       "2016-01-15 01:00:00                                 -500.582168   \n",
       "2016-01-15 02:00:00                                 -500.517572   \n",
       "2016-01-15 03:00:00                                 -500.255908   \n",
       "2016-01-15 04:00:00                                 -500.356035   \n",
       "\n",
       "                     secondary_cleaner.state.floatbank6_a_air  \\\n",
       "date                                                            \n",
       "2016-01-15 00:00:00                                 14.151341   \n",
       "2016-01-15 01:00:00                                 13.998353   \n",
       "2016-01-15 02:00:00                                 14.028663   \n",
       "2016-01-15 03:00:00                                 14.005551   \n",
       "2016-01-15 04:00:00                                 13.996647   \n",
       "\n",
       "                     secondary_cleaner.state.floatbank6_a_level  \n",
       "date                                                             \n",
       "2016-01-15 00:00:00                                 -605.841980  \n",
       "2016-01-15 01:00:00                                 -599.787184  \n",
       "2016-01-15 02:00:00                                 -601.427363  \n",
       "2016-01-15 03:00:00                                 -599.996129  \n",
       "2016-01-15 04:00:00                                 -601.496691  \n",
       "\n",
       "[5 rows x 86 columns]"
      ]
     },
     "execution_count": 7,
     "metadata": {},
     "output_type": "execute_result"
    }
   ],
   "source": [
    "train.head()"
   ]
  },
  {
   "cell_type": "markdown",
   "metadata": {
    "id": "S3oOcT6Wff3F"
   },
   "source": [
    "Посчитаем количество пропусков в датафрейме"
   ]
  },
  {
   "cell_type": "code",
   "execution_count": null,
   "metadata": {
    "id": "ar3Pp-Vm-aKp"
   },
   "outputs": [],
   "source": [
    "train_nan = train.isna().sum()/train.isna().count()"
   ]
  },
  {
   "cell_type": "code",
   "execution_count": null,
   "metadata": {
    "colab": {
     "base_uri": "https://localhost:8080/"
    },
    "id": "rIF4czIR8XCa",
    "outputId": "92e872da-ff62-48d0-d351-6e0c466ad4d7"
   },
   "outputs": [
    {
     "data": {
      "text/plain": [
       "23    0.113436\n",
       "21    0.030815\n",
       "19    0.030249\n",
       "8     0.020213\n",
       "24    0.015337\n",
       "1     0.014913\n",
       "15    0.010177\n",
       "3     0.007068\n",
       "7     0.006078\n",
       "16    0.005513\n",
       "10    0.003251\n",
       "18    0.002544\n",
       "6     0.002262\n",
       "17    0.002050\n",
       "20    0.001555\n",
       "25    0.001484\n",
       "5     0.001414\n",
       "9     0.001060\n",
       "22    0.000707\n",
       "14    0.000565\n",
       "26    0.000424\n",
       "4     0.000353\n",
       "11    0.000283\n",
       "13    0.000212\n",
       "12    0.000141\n",
       "0     0.000071\n",
       "2     0.000000\n",
       "dtype: float64"
      ]
     },
     "execution_count": 9,
     "metadata": {},
     "output_type": "execute_result"
    }
   ],
   "source": [
    "pd.Series(train_nan.unique()).sort_values(ascending = False)"
   ]
  },
  {
   "cell_type": "markdown",
   "metadata": {
    "id": "LkIBq_tSftLt"
   },
   "source": [
    "В некоторых столбцах доля пропусков достигает 11 процентов. Заменим пропуски медианами."
   ]
  },
  {
   "cell_type": "markdown",
   "metadata": {
    "id": "FhceFJAQQeeu"
   },
   "source": [
    "Заменим пропуски медианными значениями"
   ]
  },
  {
   "cell_type": "code",
   "execution_count": null,
   "metadata": {
    "id": "8pTobViBQl4N"
   },
   "outputs": [],
   "source": [
    "train = train.ffill(axis = 0)\n",
    "test = test.ffill(axis = 0)"
   ]
  },
  {
   "cell_type": "code",
   "execution_count": null,
   "metadata": {
    "colab": {
     "base_uri": "https://localhost:8080/"
    },
    "id": "kD24XiBqRji3",
    "outputId": "2372e5f9-5945-4717-cf41-2be44d590236"
   },
   "outputs": [
    {
     "data": {
      "text/plain": [
       "0    0.0\n",
       "dtype: float64"
      ]
     },
     "execution_count": 11,
     "metadata": {},
     "output_type": "execute_result"
    }
   ],
   "source": [
    "pd.Series((train.isna().sum()/train.isna().count()).unique()).sort_values(ascending = False)"
   ]
  },
  {
   "cell_type": "markdown",
   "metadata": {
    "id": "_Hz9ouKX1UMm"
   },
   "source": [
    "Проверим формулу вычисления эффективности обогащения"
   ]
  },
  {
   "cell_type": "code",
   "execution_count": null,
   "metadata": {
    "colab": {
     "base_uri": "https://localhost:8080/"
    },
    "id": "m-lkPVhx1dhg",
    "outputId": "146fe5cd-62e8-430f-d125-45b43c51c010"
   },
   "outputs": [
    {
     "data": {
      "text/plain": [
       "1.0748911125799084e-14"
      ]
     },
     "execution_count": 12,
     "metadata": {},
     "output_type": "execute_result"
    }
   ],
   "source": [
    "recovery = []\n",
    "for i in train.index:\n",
    "    C = train['rougher.output.concentrate_au'].loc[i]\n",
    "    F = train['rougher.input.feed_au'].loc[i]\n",
    "    T = train['rougher.output.tail_au'].loc[i]\n",
    "    rec = C * (F - T) / F / (C - T) * 100\n",
    "    recovery.append(rec)\n",
    "recovery = pd.Series(recovery, index = train.index)\n",
    "mean_absolute_error(train['rougher.output.recovery'], recovery)\n",
    "\n"
   ]
  },
  {
   "cell_type": "markdown",
   "metadata": {
    "id": "2AWfk-hKJfU1"
   },
   "source": [
    "MAE эффективности оказалась меньше одной миллиардной, формула работает"
   ]
  },
  {
   "cell_type": "markdown",
   "metadata": {
    "id": "4koCAea-l0Y1"
   },
   "source": [
    "Проверим, каких столбцов нет в тестовой выборке:"
   ]
  },
  {
   "cell_type": "code",
   "execution_count": null,
   "metadata": {
    "colab": {
     "base_uri": "https://localhost:8080/"
    },
    "id": "ha-RtNrOlMdW",
    "outputId": "a329ac73-01e2-4989-ca85-0283e50c7109"
   },
   "outputs": [
    {
     "name": "stdout",
     "output_type": "stream",
     "text": [
      "final.output.concentrate_ag\n",
      "final.output.concentrate_pb\n",
      "final.output.concentrate_sol\n",
      "final.output.concentrate_au\n",
      "final.output.recovery\n",
      "final.output.tail_ag\n",
      "final.output.tail_pb\n",
      "final.output.tail_sol\n",
      "final.output.tail_au\n",
      "primary_cleaner.output.concentrate_ag\n",
      "primary_cleaner.output.concentrate_pb\n",
      "primary_cleaner.output.concentrate_sol\n",
      "primary_cleaner.output.concentrate_au\n",
      "primary_cleaner.output.tail_ag\n",
      "primary_cleaner.output.tail_pb\n",
      "primary_cleaner.output.tail_sol\n",
      "primary_cleaner.output.tail_au\n",
      "rougher.calculation.sulfate_to_au_concentrate\n",
      "rougher.calculation.floatbank10_sulfate_to_au_feed\n",
      "rougher.calculation.floatbank11_sulfate_to_au_feed\n",
      "rougher.calculation.au_pb_ratio\n",
      "rougher.output.concentrate_ag\n",
      "rougher.output.concentrate_pb\n",
      "rougher.output.concentrate_sol\n",
      "rougher.output.concentrate_au\n",
      "rougher.output.recovery\n",
      "rougher.output.tail_ag\n",
      "rougher.output.tail_pb\n",
      "rougher.output.tail_sol\n",
      "rougher.output.tail_au\n",
      "secondary_cleaner.output.tail_ag\n",
      "secondary_cleaner.output.tail_pb\n",
      "secondary_cleaner.output.tail_sol\n",
      "secondary_cleaner.output.tail_au\n"
     ]
    }
   ],
   "source": [
    "train_cols = train.columns\n",
    "test_cols = test.columns\n",
    "\n",
    "extra_cols = []\n",
    "for i in train_cols:\n",
    "    if i not in test_cols:\n",
    "        extra_cols.append(i)\n",
    "        print(i)"
   ]
  },
  {
   "cell_type": "markdown",
   "metadata": {
    "id": "cJ8217YNmHgT"
   },
   "source": [
    "Данные столбцы отсутствуют в тестовой выборке, так как она имитирует реальные, необработанные данные, а в этих столбцах задокументированы выходные данные каждого этапа фильтрации предыдущих образцов руды, а так же эффективность обогащения, расчитанная по этим данным. Удалим эти столбцы из обучающей выборки. Предварительно сохраним целевые признаки, а затем создадим две выборки - для предсказания rough_recovery и для предсказания final_recovery"
   ]
  },
  {
   "cell_type": "code",
   "execution_count": null,
   "metadata": {
    "id": "yInTpIp-KYFD"
   },
   "outputs": [],
   "source": [
    "target_train_final = train['final.output.recovery']#целевые признаки\n",
    "target_train_rough = train['rougher.output.recovery']\n",
    "\n",
    "features_train_final = train.drop(extra_cols, axis = 1)#выборка для обучения предсказания final recovery\n",
    "features_train_rough = features_train_final #выборка для обучения предсказания rough recovery\n",
    "for i in test_cols:\n",
    "    if 'rougher' not in i:\n",
    "        features_train_rough = features_train_rough.drop(i, axis = 1)\n",
    "\n",
    "features_test_final = test #выборка для предсказания final recovery\n",
    "features_test_rough = test#выборка для предсказания rough recovery\n",
    "for i in test_cols:\n",
    "    if 'rougher' not in i:\n",
    "        features_test_rough = features_test_rough.drop(i, axis = 1)\n",
    "\n"
   ]
  },
  {
   "cell_type": "markdown",
   "metadata": {
    "id": "c3_sbItIZA-8"
   },
   "source": [
    "Стандартизируем данные"
   ]
  },
  {
   "cell_type": "code",
   "execution_count": null,
   "metadata": {
    "id": "_02SRGS2ZGbE"
   },
   "outputs": [],
   "source": [
    "scaler_final = StandardScaler()\n",
    "scaler_rough = StandardScaler()\n",
    "scaler_final.fit(features_train_final)\n",
    "scaler_rough.fit(features_train_rough)\n",
    "\n",
    "\n",
    "def standartize(features, scaler):\n",
    "    index = features.index\n",
    "    arr = scaler.transform(features)\n",
    "    features_st = pd.DataFrame(arr, columns = features.columns, index = index)\n",
    "    return features_st\n",
    "\n",
    "features_train_final = standartize(features_train_final, scaler_final)\n",
    "features_train_rough = standartize(features_train_rough, scaler_rough)\n",
    "features_test_final = standartize(features_test_final, scaler_final)\n",
    "features_test_rough = standartize(features_test_rough, scaler_rough)\n"
   ]
  },
  {
   "cell_type": "markdown",
   "metadata": {
    "id": "uZd-vN72gTyx"
   },
   "source": [
    "## Анализ данных"
   ]
  },
  {
   "cell_type": "markdown",
   "metadata": {
    "id": "bDsSnywlk1-X"
   },
   "source": [
    "Рассмотрим изменение концентрации каждого металла на каждом этапе обработки"
   ]
  },
  {
   "cell_type": "code",
   "execution_count": null,
   "metadata": {
    "id": "XfHfXnzBIz8J"
   },
   "outputs": [],
   "source": [
    "train_rough_col = []\n",
    "for i in train.columns:\n",
    "    if 'rougher' in i:\n",
    "        train_rough_col.append(i)\n",
    "\n",
    "\n",
    "train_prime_col = []\n",
    "for i in train.columns:\n",
    "    if 'primary' in i:\n",
    "        train_prime_col.append(i)\n",
    "\n",
    "\n",
    "train_second_col = []\n",
    "for i in train.columns:\n",
    "    if 'secondary' in i:\n",
    "        train_second_col.append(i)\n",
    "\n",
    "\n",
    "train_final_col = []\n",
    "for i in train.columns:\n",
    "    if 'final' in i:\n",
    "        train_final_col.append(i)\n"
   ]
  },
  {
   "cell_type": "code",
   "execution_count": null,
   "metadata": {
    "colab": {
     "base_uri": "https://localhost:8080/"
    },
    "id": "SpTfcmZnjz16",
    "outputId": "33be9eb2-558e-4d38-ee79-2bf16480ecc1"
   },
   "outputs": [
    {
     "name": "stdout",
     "output_type": "stream",
     "text": [
      "['final.output.concentrate_au', 'primary_cleaner.output.concentrate_au', 'rougher.input.feed_au', 'rougher.output.concentrate_au']\n",
      "['final.output.concentrate_pb', 'primary_cleaner.output.concentrate_pb', 'rougher.input.feed_pb', 'rougher.output.concentrate_pb']\n",
      "['final.output.concentrate_ag', 'primary_cleaner.output.concentrate_ag', 'rougher.input.feed_ag', 'rougher.output.concentrate_ag']\n"
     ]
    }
   ],
   "source": [
    "au_concentrates = []\n",
    "for i in train.columns:\n",
    "    if (('concentrate' in i and 'au' in i) or ('feed' in i and 'au' in i)) and 'calculation' not in i:\n",
    "        au_concentrates.append(i)\n",
    "print(au_concentrates)\n",
    "\n",
    "au = train[au_concentrates]\n",
    "\n",
    "pb_concentrates = []\n",
    "for i in train.columns:\n",
    "    if (('concentrate' in i and 'pb' in i) or ('feed' in i and 'pb' in i)) and 'calculation' not in i:\n",
    "        pb_concentrates.append(i)\n",
    "print(pb_concentrates)\n",
    "\n",
    "pb = train[pb_concentrates]\n",
    "\n",
    "ag_concentrates = []\n",
    "for i in train.columns:\n",
    "    if (('concentrate' in i and 'ag' in i) or ('feed' in i and 'ag' in i)) and 'calculation' not in i:\n",
    "        ag_concentrates.append(i)\n",
    "print(ag_concentrates)\n",
    "\n",
    "ag = train[ag_concentrates]"
   ]
  },
  {
   "cell_type": "code",
   "execution_count": null,
   "metadata": {
    "colab": {
     "base_uri": "https://localhost:8080/",
     "height": 1000
    },
    "id": "mJikx--KWAhC",
    "outputId": "f3adf02d-a231-41d7-db32-e9bc30ef165b"
   },
   "outputs": [
    {
     "data": {
      "text/plain": [
       "<seaborn.axisgrid.FacetGrid at 0x7f517e4b6430>"
      ]
     },
     "execution_count": 18,
     "metadata": {},
     "output_type": "execute_result"
    },
    {
     "data": {
      "image/png": "[encoded data removed]",
      "text/plain": [
       "<Figure size 593.125x360 with 1 Axes>"
      ]
     },
     "metadata": {
      "needs_background": "light"
     },
     "output_type": "display_data"
    },
    {
     "data": {
      "image/png": "[encoded data removed]",
      "text/plain": [
       "<Figure size 593.125x360 with 1 Axes>"
      ]
     },
     "metadata": {
      "needs_background": "light"
     },
     "output_type": "display_data"
    },
    {
     "data": {
      "image/png": "[encoded data removed]",
      "text/plain": [
       "<Figure size 593.125x360 with 1 Axes>"
      ]
     },
     "metadata": {
      "needs_background": "light"
     },
     "output_type": "display_data"
    }
   ],
   "source": [
    "sns.displot(au, kind = 'kde')\n",
    "sns.displot(pb, kind = 'kde')\n",
    "sns.displot(ag, kind = 'kde')"
   ]
  },
  {
   "cell_type": "markdown",
   "metadata": {
    "id": "-1MMe0RCz6Rl"
   },
   "source": [
    "Как видно из графиков, концентрация золота повышалсь с каждым этапом очистки, чуть менее быстро повышалась концентрация свинца, а концентрация серебра постепенно уменьшалась."
   ]
  },
  {
   "cell_type": "markdown",
   "metadata": {
    "id": "4Pd-dooX0oys"
   },
   "source": [
    "Сравним распределения гранул сырья на тестовой и обучающей выборках"
   ]
  },
  {
   "cell_type": "code",
   "execution_count": null,
   "metadata": {
    "colab": {
     "base_uri": "https://localhost:8080/"
    },
    "id": "f9G61rnN4WVz",
    "outputId": "d8d09cef-d80d-4ba4-bcad-652c7d693e74"
   },
   "outputs": [
    {
     "name": "stdout",
     "output_type": "stream",
     "text": [
      "['primary_cleaner.input.feed_size', 'rougher.input.feed_size']\n",
      "['primary_cleaner.input.feed_size', 'rougher.input.feed_size']\n"
     ]
    }
   ],
   "source": [
    "train_feed = []\n",
    "for i in train.columns:\n",
    "    if 'feed' in i and 'size' in i:\n",
    "        train_feed.append(i)\n",
    "\n",
    "print(train_feed)\n",
    "\n",
    "test_feed = []\n",
    "for i in test.columns:\n",
    "    if 'feed' in i and 'size' in i:\n",
    "        test_feed.append(i)\n",
    "\n",
    "print(train_feed)"
   ]
  },
  {
   "cell_type": "markdown",
   "metadata": {
    "id": "OJAWm4Mi-gaB"
   },
   "source": [
    "Распределение гранул этапа флотации:"
   ]
  },
  {
   "cell_type": "code",
   "execution_count": null,
   "metadata": {
    "colab": {
     "base_uri": "https://localhost:8080/",
     "height": 738
    },
    "id": "Tt6TlX2Y9uHK",
    "outputId": "4310b69f-e916-42f6-da56-51f71bd3bb4e"
   },
   "outputs": [
    {
     "data": {
      "text/plain": [
       "<seaborn.axisgrid.FacetGrid at 0x7f517e465df0>"
      ]
     },
     "execution_count": 20,
     "metadata": {},
     "output_type": "execute_result"
    },
    {
     "data": {
      "image/png": "[encoded data removed]",
      "text/plain": [
       "<Figure size 360x360 with 1 Axes>"
      ]
     },
     "metadata": {
      "needs_background": "light"
     },
     "output_type": "display_data"
    },
    {
     "data": {
      "image/png": "[encoded data removed]",
      "text/plain": [
       "<Figure size 360x360 with 1 Axes>"
      ]
     },
     "metadata": {
      "needs_background": "light"
     },
     "output_type": "display_data"
    }
   ],
   "source": [
    "sns.displot(test[test_feed[1]], kind = 'kde')\n",
    "sns.displot(train[train_feed[1]], kind = 'kde')"
   ]
  },
  {
   "cell_type": "markdown",
   "metadata": {
    "id": "QWN7glve-kZ3"
   },
   "source": [
    "Распределение гранул этапа первичной обработки:"
   ]
  },
  {
   "cell_type": "code",
   "execution_count": null,
   "metadata": {
    "colab": {
     "base_uri": "https://localhost:8080/",
     "height": 738
    },
    "id": "k5TApoZw9WSz",
    "outputId": "4ede8709-08a8-4431-edb1-4f6118702087"
   },
   "outputs": [
    {
     "data": {
      "text/plain": [
       "<seaborn.axisgrid.FacetGrid at 0x7f517cb11220>"
      ]
     },
     "execution_count": 21,
     "metadata": {},
     "output_type": "execute_result"
    },
    {
     "data": {
      "image/png": "[encoded data removed]",
      "text/plain": [
       "<Figure size 360x360 with 1 Axes>"
      ]
     },
     "metadata": {
      "needs_background": "light"
     },
     "output_type": "display_data"
    },
    {
     "data": {
      "image/png": "[encoded data removed]",
      "text/plain": [
       "<Figure size 360x360 with 1 Axes>"
      ]
     },
     "metadata": {
      "needs_background": "light"
     },
     "output_type": "display_data"
    }
   ],
   "source": [
    "sns.displot(test[test_feed[0]], kind = 'kde')\n",
    "sns.displot(train[train_feed[0]], kind = 'kde')"
   ]
  },
  {
   "cell_type": "markdown",
   "metadata": {
    "id": "eimsrzQJ-sSO"
   },
   "source": [
    "Можно заметить, что пики распределений приходятся на примерно одни и те же промежутки по оси X, значит модель обучится корректно"
   ]
  },
  {
   "cell_type": "markdown",
   "metadata": {
    "id": "ELvLvr-3GZo1"
   },
   "source": [
    "Построим распределения концентрации металлов для каждой стадии очистки"
   ]
  },
  {
   "cell_type": "code",
   "execution_count": null,
   "metadata": {
    "colab": {
     "base_uri": "https://localhost:8080/"
    },
    "id": "OoNVKuVqAqLa",
    "outputId": "87fdd9bd-d531-45ed-a37a-099c245e121c",
    "scrolled": true
   },
   "outputs": [
    {
     "name": "stdout",
     "output_type": "stream",
     "text": [
      "['rougher.output.concentrate_ag', 'rougher.output.concentrate_pb', 'rougher.output.concentrate_sol', 'rougher.output.concentrate_au']\n",
      "['primary_cleaner.output.concentrate_ag', 'primary_cleaner.output.concentrate_pb', 'primary_cleaner.output.concentrate_sol', 'primary_cleaner.output.concentrate_au']\n"
     ]
    }
   ],
   "source": [
    "rough_in_distr = []\n",
    "for i in train_rough_col:\n",
    "    if ('au' in i or 'pb' in i or 'ag' in i or 'sol' in i) and ('feed' in i or 'concentrate' in i) and ('calculation' not in i and 'input' in i):\n",
    "        rough_in_distr.append(i)\n",
    "rough_in_feed = []\n",
    "for i in train.index:\n",
    "    rough_in_feed.append(train.loc[i,rough_in_distr[0]] + train.loc[i,rough_in_distr[1]] + train.loc[i,rough_in_distr[2]] + train.loc[i,rough_in_distr[3]])\n",
    "\n",
    "\n",
    "rough_out_distr = []\n",
    "for i in train_rough_col:\n",
    "    if ('au' in i or 'pb' in i or 'ag' in i or 'sol' in i) and ('feed' in i or 'concentrate' in i) and ('calculation' not in i and 'output' in i):\n",
    "        rough_out_distr.append(i)\n",
    "rough_out_feed = []\n",
    "for i in train.index:\n",
    "    rough_out_feed.append(train.loc[i,rough_out_distr[0]] + train.loc[i,rough_out_distr[1]] + train.loc[i,rough_out_distr[2]] + train.loc[i,rough_out_distr[3]])\n",
    "print(rough_out_distr)\n",
    "\n",
    "prime_distr = []\n",
    "for i in train_prime_col:\n",
    "    if ('au' in i or 'pb' in i or 'ag' in i or 'sol' in i) and ('feed' in i or 'concentrate' in i) and ('calculation' not in i):\n",
    "        prime_distr.append(i)\n",
    "prime_feed = []\n",
    "for i in train.index:\n",
    "    prime_feed.append(train.loc[i,prime_distr[0]] + train.loc[i,prime_distr[1]] + train.loc[i,prime_distr[2]] + train.loc[i,prime_distr[3]])\n",
    "print(prime_distr)\n",
    "\n",
    "final_distr = []\n",
    "for i in train_final_col:\n",
    "    if ('au' in i or 'pb' in i or 'ag' in i or 'sol' in i) and ('feed' in i or 'concentrate' in i) and ('calculation' not in i):\n",
    "        final_distr.append(i)\n",
    "\n",
    "final_feed = []\n",
    "for i in train.index:\n",
    "    final_feed.append(train.loc[i,final_distr[0]] + train.loc[i,final_distr[1]] + train.loc[i,final_distr[2]] + train.loc[i,final_distr[3]])\n"
   ]
  },
  {
   "cell_type": "markdown",
   "metadata": {
    "id": "4JajDs-eGi3K"
   },
   "source": [
    "Распределение до флутации:"
   ]
  },
  {
   "cell_type": "code",
   "execution_count": null,
   "metadata": {
    "colab": {
     "base_uri": "https://localhost:8080/",
     "height": 386
    },
    "id": "1rxaMt-WDFbM",
    "outputId": "c26087bb-8e8a-43eb-f8c1-af7c1b4dfa4b"
   },
   "outputs": [
    {
     "data": {
      "text/plain": [
       "<seaborn.axisgrid.FacetGrid at 0x7f517ca8e1c0>"
      ]
     },
     "execution_count": 23,
     "metadata": {},
     "output_type": "execute_result"
    },
    {
     "data": {
      "image/png": "[encoded data removed]",
      "text/plain": [
       "<Figure size 360x360 with 1 Axes>"
      ]
     },
     "metadata": {
      "needs_background": "light"
     },
     "output_type": "display_data"
    }
   ],
   "source": [
    "sns.displot(rough_in_feed, kind = 'kde')"
   ]
  },
  {
   "cell_type": "markdown",
   "metadata": {
    "id": "GHWFdgdQG5S5"
   },
   "source": [
    "Распределение послу флутации:"
   ]
  },
  {
   "cell_type": "code",
   "execution_count": null,
   "metadata": {
    "colab": {
     "base_uri": "https://localhost:8080/",
     "height": 386
    },
    "id": "89EfTI-fGAZ0",
    "outputId": "b93d5da5-de20-4fe1-ee92-3280a3cb6718"
   },
   "outputs": [
    {
     "data": {
      "text/plain": [
       "<seaborn.axisgrid.FacetGrid at 0x7f517ca5abb0>"
      ]
     },
     "execution_count": 24,
     "metadata": {},
     "output_type": "execute_result"
    },
    {
     "data": {
      "image/png": "[encoded data removed]",
      "text/plain": [
       "<Figure size 360x360 with 1 Axes>"
      ]
     },
     "metadata": {
      "needs_background": "light"
     },
     "output_type": "display_data"
    }
   ],
   "source": [
    "sns.displot(rough_out_feed, kind = 'kde')"
   ]
  },
  {
   "cell_type": "markdown",
   "metadata": {
    "id": "8TS4rixGG9B9"
   },
   "source": [
    "Распределение после первичной очистки:"
   ]
  },
  {
   "cell_type": "code",
   "execution_count": null,
   "metadata": {
    "colab": {
     "base_uri": "https://localhost:8080/",
     "height": 386
    },
    "id": "f5fc6MHIDQzb",
    "outputId": "cadfbcb4-a557-4804-e217-fa6824f17867"
   },
   "outputs": [
    {
     "data": {
      "text/plain": [
       "<seaborn.axisgrid.FacetGrid at 0x7f517e3558b0>"
      ]
     },
     "execution_count": 25,
     "metadata": {},
     "output_type": "execute_result"
    },
    {
     "data": {
      "image/png": "[encoded data removed]",
      "text/plain": [
       "<Figure size 360x360 with 1 Axes>"
      ]
     },
     "metadata": {
      "needs_background": "light"
     },
     "output_type": "display_data"
    }
   ],
   "source": [
    "sns.displot(prime_feed, kind = 'kde')"
   ]
  },
  {
   "cell_type": "markdown",
   "metadata": {
    "id": "o9EnB3zSHDS2"
   },
   "source": [
    "Финальное распределние:"
   ]
  },
  {
   "cell_type": "code",
   "execution_count": null,
   "metadata": {
    "colab": {
     "base_uri": "https://localhost:8080/",
     "height": 386
    },
    "id": "ECnvMTLwGTqh",
    "outputId": "9348be34-6182-4461-fe32-631a57e49f7e"
   },
   "outputs": [
    {
     "data": {
      "text/plain": [
       "<seaborn.axisgrid.FacetGrid at 0x7f517e49bb20>"
      ]
     },
     "execution_count": 26,
     "metadata": {},
     "output_type": "execute_result"
    },
    {
     "data": {
      "image/png": "[encoded data removed]",
      "text/plain": [
       "<Figure size 360x360 with 1 Axes>"
      ]
     },
     "metadata": {
      "needs_background": "light"
     },
     "output_type": "display_data"
    }
   ],
   "source": [
    "sns.displot(final_feed, kind = 'kde')"
   ]
  },
  {
   "cell_type": "markdown",
   "metadata": {
    "id": "ITMgg4omHKky"
   },
   "source": [
    "На каждом этапе суммарное распределение гранул похоже на нормальное, при этом заметна тенденция увеличения среднего размера гранул по мере прохождения следующего этапа очистки. На этапах после первичной очистки и флутации заметны выбросы: большое количество гранул нулевого размера. Заполним нулевые значения медианами"
   ]
  },
  {
   "cell_type": "code",
   "execution_count": null,
   "metadata": {
    "id": "GLWjD4EJ3iuo"
   },
   "outputs": [],
   "source": [
    "for i in rough_out_distr:\n",
    "    train.loc[train[i] == 0,i] = train[i].median()\n",
    "\n",
    "for i in prime_distr:\n",
    "    train.loc[train[i] == 0,i] = train[i].median()"
   ]
  },
  {
   "cell_type": "markdown",
   "metadata": {
    "id": "EyNTwh6PHzqR"
   },
   "source": [
    "## Построение модели"
   ]
  },
  {
   "cell_type": "markdown",
   "metadata": {
    "id": "yiylIKA6KOcw"
   },
   "source": [
    "Функция вычисления SMAPE"
   ]
  },
  {
   "cell_type": "code",
   "execution_count": null,
   "metadata": {
    "id": "w6B8eG4mKRbT"
   },
   "outputs": [],
   "source": [
    "def smape(target, predicted):\n",
    "    s = sum(abs(target - predicted)*100/((abs(target) + abs(predicted))/2))\n",
    "    return s/len(target)"
   ]
  },
  {
   "cell_type": "markdown",
   "metadata": {
    "id": "y-RNqtehLjnY"
   },
   "source": [
    "Обучение и проверка моделей"
   ]
  },
  {
   "cell_type": "markdown",
   "metadata": {
    "id": "GX_6e9GeLype"
   },
   "source": [
    "### Первая модель - линейная регрессия.\n",
    "Обучим модель и проверим проверим их точность кросс-валидацией"
   ]
  },
  {
   "cell_type": "code",
   "execution_count": null,
   "metadata": {
    "id": "m1UyFCEe3iup"
   },
   "outputs": [],
   "source": [
    "smape_score = make_scorer(smape, greater_is_better = False)"
   ]
  },
  {
   "cell_type": "code",
   "execution_count": null,
   "metadata": {
    "colab": {
     "base_uri": "https://localhost:8080/"
    },
    "id": "xQjt-lYxY6wy",
    "outputId": "1b23c1b7-9fbd-4ef8-c75d-98fa7204506b"
   },
   "outputs": [
    {
     "name": "stdout",
     "output_type": "stream",
     "text": [
      "smape: -12.472324262880543\n"
     ]
    }
   ],
   "source": [
    "model = LinearRegression()\n",
    "scores = cross_val_score(model, features_train_rough, target_train_rough, cv = 5, scoring = smape_score)\n",
    "print('smape:', sum(scores)/len(scores))"
   ]
  },
  {
   "cell_type": "markdown",
   "metadata": {
    "id": "sxu6HpiAcj_j"
   },
   "source": [
    "### Вторая модель - дерево регрессии"
   ]
  },
  {
   "cell_type": "code",
   "execution_count": null,
   "metadata": {
    "colab": {
     "base_uri": "https://localhost:8080/"
    },
    "id": "smwFcSpecvM8",
    "outputId": "cd6e114b-6182-4147-f9d6-8fcb76aa1dc5"
   },
   "outputs": [
    {
     "name": "stderr",
     "output_type": "stream",
     "text": [
      "/opt/conda/lib/python3.9/site-packages/sklearn/model_selection/_validation.py:610: FitFailedWarning: Estimator fit failed. The score on this train-test partition for these parameters will be set to nan. Details: \n",
      "Traceback (most recent call last):\n",
      "  File \"/opt/conda/lib/python3.9/site-packages/sklearn/model_selection/_validation.py\", line 593, in _fit_and_score\n",
      "    estimator.fit(X_train, y_train, **fit_params)\n",
      "  File \"/opt/conda/lib/python3.9/site-packages/sklearn/tree/_classes.py\", line 1247, in fit\n",
      "    super().fit(\n",
      "  File \"/opt/conda/lib/python3.9/site-packages/sklearn/tree/_classes.py\", line 350, in fit\n",
      "    criterion = CRITERIA_REG[self.criterion](self.n_outputs_,\n",
      "KeyError: 'squared_error'\n",
      "\n",
      "  warnings.warn(\"Estimator fit failed. The score on this train-test\"\n",
      "/opt/conda/lib/python3.9/site-packages/sklearn/model_selection/_validation.py:610: FitFailedWarning: Estimator fit failed. The score on this train-test partition for these parameters will be set to nan. Details: \n",
      "Traceback (most recent call last):\n",
      "  File \"/opt/conda/lib/python3.9/site-packages/sklearn/model_selection/_validation.py\", line 593, in _fit_and_score\n",
      "    estimator.fit(X_train, y_train, **fit_params)\n",
      "  File \"/opt/conda/lib/python3.9/site-packages/sklearn/tree/_classes.py\", line 1247, in fit\n",
      "    super().fit(\n",
      "  File \"/opt/conda/lib/python3.9/site-packages/sklearn/tree/_classes.py\", line 350, in fit\n",
      "    criterion = CRITERIA_REG[self.criterion](self.n_outputs_,\n",
      "KeyError: 'squared_error'\n",
      "\n",
      "  warnings.warn(\"Estimator fit failed. The score on this train-test\"\n",
      "/opt/conda/lib/python3.9/site-packages/sklearn/model_selection/_validation.py:610: FitFailedWarning: Estimator fit failed. The score on this train-test partition for these parameters will be set to nan. Details: \n",
      "Traceback (most recent call last):\n",
      "  File \"/opt/conda/lib/python3.9/site-packages/sklearn/model_selection/_validation.py\", line 593, in _fit_and_score\n",
      "    estimator.fit(X_train, y_train, **fit_params)\n",
      "  File \"/opt/conda/lib/python3.9/site-packages/sklearn/tree/_classes.py\", line 1247, in fit\n",
      "    super().fit(\n",
      "  File \"/opt/conda/lib/python3.9/site-packages/sklearn/tree/_classes.py\", line 350, in fit\n",
      "    criterion = CRITERIA_REG[self.criterion](self.n_outputs_,\n",
      "KeyError: 'squared_error'\n",
      "\n",
      "  warnings.warn(\"Estimator fit failed. The score on this train-test\"\n",
      "/opt/conda/lib/python3.9/site-packages/sklearn/model_selection/_validation.py:610: FitFailedWarning: Estimator fit failed. The score on this train-test partition for these parameters will be set to nan. Details: \n",
      "Traceback (most recent call last):\n",
      "  File \"/opt/conda/lib/python3.9/site-packages/sklearn/model_selection/_validation.py\", line 593, in _fit_and_score\n",
      "    estimator.fit(X_train, y_train, **fit_params)\n",
      "  File \"/opt/conda/lib/python3.9/site-packages/sklearn/tree/_classes.py\", line 1247, in fit\n",
      "    super().fit(\n",
      "  File \"/opt/conda/lib/python3.9/site-packages/sklearn/tree/_classes.py\", line 350, in fit\n",
      "    criterion = CRITERIA_REG[self.criterion](self.n_outputs_,\n",
      "KeyError: 'squared_error'\n",
      "\n",
      "  warnings.warn(\"Estimator fit failed. The score on this train-test\"\n",
      "/opt/conda/lib/python3.9/site-packages/sklearn/model_selection/_validation.py:610: FitFailedWarning: Estimator fit failed. The score on this train-test partition for these parameters will be set to nan. Details: \n",
      "Traceback (most recent call last):\n",
      "  File \"/opt/conda/lib/python3.9/site-packages/sklearn/model_selection/_validation.py\", line 593, in _fit_and_score\n",
      "    estimator.fit(X_train, y_train, **fit_params)\n",
      "  File \"/opt/conda/lib/python3.9/site-packages/sklearn/tree/_classes.py\", line 1247, in fit\n",
      "    super().fit(\n",
      "  File \"/opt/conda/lib/python3.9/site-packages/sklearn/tree/_classes.py\", line 350, in fit\n",
      "    criterion = CRITERIA_REG[self.criterion](self.n_outputs_,\n",
      "KeyError: 'squared_error'\n",
      "\n",
      "  warnings.warn(\"Estimator fit failed. The score on this train-test\"\n",
      "/opt/conda/lib/python3.9/site-packages/sklearn/model_selection/_validation.py:610: FitFailedWarning: Estimator fit failed. The score on this train-test partition for these parameters will be set to nan. Details: \n",
      "Traceback (most recent call last):\n",
      "  File \"/opt/conda/lib/python3.9/site-packages/sklearn/model_selection/_validation.py\", line 593, in _fit_and_score\n",
      "    estimator.fit(X_train, y_train, **fit_params)\n",
      "  File \"/opt/conda/lib/python3.9/site-packages/sklearn/tree/_classes.py\", line 1247, in fit\n",
      "    super().fit(\n",
      "  File \"/opt/conda/lib/python3.9/site-packages/sklearn/tree/_classes.py\", line 350, in fit\n",
      "    criterion = CRITERIA_REG[self.criterion](self.n_outputs_,\n",
      "KeyError: 'squared_error'\n",
      "\n",
      "  warnings.warn(\"Estimator fit failed. The score on this train-test\"\n",
      "/opt/conda/lib/python3.9/site-packages/sklearn/model_selection/_validation.py:610: FitFailedWarning: Estimator fit failed. The score on this train-test partition for these parameters will be set to nan. Details: \n",
      "Traceback (most recent call last):\n",
      "  File \"/opt/conda/lib/python3.9/site-packages/sklearn/model_selection/_validation.py\", line 593, in _fit_and_score\n",
      "    estimator.fit(X_train, y_train, **fit_params)\n",
      "  File \"/opt/conda/lib/python3.9/site-packages/sklearn/tree/_classes.py\", line 1247, in fit\n",
      "    super().fit(\n",
      "  File \"/opt/conda/lib/python3.9/site-packages/sklearn/tree/_classes.py\", line 350, in fit\n",
      "    criterion = CRITERIA_REG[self.criterion](self.n_outputs_,\n",
      "KeyError: 'squared_error'\n",
      "\n",
      "  warnings.warn(\"Estimator fit failed. The score on this train-test\"\n",
      "/opt/conda/lib/python3.9/site-packages/sklearn/model_selection/_validation.py:610: FitFailedWarning: Estimator fit failed. The score on this train-test partition for these parameters will be set to nan. Details: \n",
      "Traceback (most recent call last):\n",
      "  File \"/opt/conda/lib/python3.9/site-packages/sklearn/model_selection/_validation.py\", line 593, in _fit_and_score\n",
      "    estimator.fit(X_train, y_train, **fit_params)\n",
      "  File \"/opt/conda/lib/python3.9/site-packages/sklearn/tree/_classes.py\", line 1247, in fit\n",
      "    super().fit(\n",
      "  File \"/opt/conda/lib/python3.9/site-packages/sklearn/tree/_classes.py\", line 350, in fit\n",
      "    criterion = CRITERIA_REG[self.criterion](self.n_outputs_,\n",
      "KeyError: 'squared_error'\n",
      "\n",
      "  warnings.warn(\"Estimator fit failed. The score on this train-test\"\n",
      "/opt/conda/lib/python3.9/site-packages/sklearn/model_selection/_validation.py:610: FitFailedWarning: Estimator fit failed. The score on this train-test partition for these parameters will be set to nan. Details: \n",
      "Traceback (most recent call last):\n",
      "  File \"/opt/conda/lib/python3.9/site-packages/sklearn/model_selection/_validation.py\", line 593, in _fit_and_score\n",
      "    estimator.fit(X_train, y_train, **fit_params)\n",
      "  File \"/opt/conda/lib/python3.9/site-packages/sklearn/tree/_classes.py\", line 1247, in fit\n",
      "    super().fit(\n",
      "  File \"/opt/conda/lib/python3.9/site-packages/sklearn/tree/_classes.py\", line 350, in fit\n",
      "    criterion = CRITERIA_REG[self.criterion](self.n_outputs_,\n",
      "KeyError: 'squared_error'\n",
      "\n",
      "  warnings.warn(\"Estimator fit failed. The score on this train-test\"\n",
      "/opt/conda/lib/python3.9/site-packages/sklearn/model_selection/_validation.py:610: FitFailedWarning: Estimator fit failed. The score on this train-test partition for these parameters will be set to nan. Details: \n",
      "Traceback (most recent call last):\n",
      "  File \"/opt/conda/lib/python3.9/site-packages/sklearn/model_selection/_validation.py\", line 593, in _fit_and_score\n",
      "    estimator.fit(X_train, y_train, **fit_params)\n",
      "  File \"/opt/conda/lib/python3.9/site-packages/sklearn/tree/_classes.py\", line 1247, in fit\n",
      "    super().fit(\n",
      "  File \"/opt/conda/lib/python3.9/site-packages/sklearn/tree/_classes.py\", line 350, in fit\n",
      "    criterion = CRITERIA_REG[self.criterion](self.n_outputs_,\n",
      "KeyError: 'squared_error'\n",
      "\n",
      "  warnings.warn(\"Estimator fit failed. The score on this train-test\"\n",
      "/opt/conda/lib/python3.9/site-packages/sklearn/model_selection/_validation.py:610: FitFailedWarning: Estimator fit failed. The score on this train-test partition for these parameters will be set to nan. Details: \n",
      "Traceback (most recent call last):\n",
      "  File \"/opt/conda/lib/python3.9/site-packages/sklearn/model_selection/_validation.py\", line 593, in _fit_and_score\n",
      "    estimator.fit(X_train, y_train, **fit_params)\n",
      "  File \"/opt/conda/lib/python3.9/site-packages/sklearn/tree/_classes.py\", line 1247, in fit\n",
      "    super().fit(\n",
      "  File \"/opt/conda/lib/python3.9/site-packages/sklearn/tree/_classes.py\", line 350, in fit\n",
      "    criterion = CRITERIA_REG[self.criterion](self.n_outputs_,\n",
      "KeyError: 'squared_error'\n",
      "\n",
      "  warnings.warn(\"Estimator fit failed. The score on this train-test\"\n",
      "/opt/conda/lib/python3.9/site-packages/sklearn/model_selection/_validation.py:610: FitFailedWarning: Estimator fit failed. The score on this train-test partition for these parameters will be set to nan. Details: \n",
      "Traceback (most recent call last):\n",
      "  File \"/opt/conda/lib/python3.9/site-packages/sklearn/model_selection/_validation.py\", line 593, in _fit_and_score\n",
      "    estimator.fit(X_train, y_train, **fit_params)\n",
      "  File \"/opt/conda/lib/python3.9/site-packages/sklearn/tree/_classes.py\", line 1247, in fit\n",
      "    super().fit(\n",
      "  File \"/opt/conda/lib/python3.9/site-packages/sklearn/tree/_classes.py\", line 350, in fit\n",
      "    criterion = CRITERIA_REG[self.criterion](self.n_outputs_,\n",
      "KeyError: 'squared_error'\n",
      "\n",
      "  warnings.warn(\"Estimator fit failed. The score on this train-test\"\n",
      "/opt/conda/lib/python3.9/site-packages/sklearn/model_selection/_validation.py:610: FitFailedWarning: Estimator fit failed. The score on this train-test partition for these parameters will be set to nan. Details: \n",
      "Traceback (most recent call last):\n",
      "  File \"/opt/conda/lib/python3.9/site-packages/sklearn/model_selection/_validation.py\", line 593, in _fit_and_score\n",
      "    estimator.fit(X_train, y_train, **fit_params)\n",
      "  File \"/opt/conda/lib/python3.9/site-packages/sklearn/tree/_classes.py\", line 1247, in fit\n",
      "    super().fit(\n",
      "  File \"/opt/conda/lib/python3.9/site-packages/sklearn/tree/_classes.py\", line 350, in fit\n",
      "    criterion = CRITERIA_REG[self.criterion](self.n_outputs_,\n",
      "KeyError: 'squared_error'\n",
      "\n",
      "  warnings.warn(\"Estimator fit failed. The score on this train-test\"\n",
      "/opt/conda/lib/python3.9/site-packages/sklearn/model_selection/_validation.py:610: FitFailedWarning: Estimator fit failed. The score on this train-test partition for these parameters will be set to nan. Details: \n",
      "Traceback (most recent call last):\n",
      "  File \"/opt/conda/lib/python3.9/site-packages/sklearn/model_selection/_validation.py\", line 593, in _fit_and_score\n",
      "    estimator.fit(X_train, y_train, **fit_params)\n",
      "  File \"/opt/conda/lib/python3.9/site-packages/sklearn/tree/_classes.py\", line 1247, in fit\n",
      "    super().fit(\n",
      "  File \"/opt/conda/lib/python3.9/site-packages/sklearn/tree/_classes.py\", line 350, in fit\n",
      "    criterion = CRITERIA_REG[self.criterion](self.n_outputs_,\n",
      "KeyError: 'squared_error'\n",
      "\n",
      "  warnings.warn(\"Estimator fit failed. The score on this train-test\"\n",
      "/opt/conda/lib/python3.9/site-packages/sklearn/model_selection/_validation.py:610: FitFailedWarning: Estimator fit failed. The score on this train-test partition for these parameters will be set to nan. Details: \n",
      "Traceback (most recent call last):\n",
      "  File \"/opt/conda/lib/python3.9/site-packages/sklearn/model_selection/_validation.py\", line 593, in _fit_and_score\n",
      "    estimator.fit(X_train, y_train, **fit_params)\n",
      "  File \"/opt/conda/lib/python3.9/site-packages/sklearn/tree/_classes.py\", line 1247, in fit\n",
      "    super().fit(\n",
      "  File \"/opt/conda/lib/python3.9/site-packages/sklearn/tree/_classes.py\", line 350, in fit\n",
      "    criterion = CRITERIA_REG[self.criterion](self.n_outputs_,\n",
      "KeyError: 'squared_error'\n",
      "\n",
      "  warnings.warn(\"Estimator fit failed. The score on this train-test\"\n",
      "/opt/conda/lib/python3.9/site-packages/sklearn/model_selection/_validation.py:610: FitFailedWarning: Estimator fit failed. The score on this train-test partition for these parameters will be set to nan. Details: \n",
      "Traceback (most recent call last):\n",
      "  File \"/opt/conda/lib/python3.9/site-packages/sklearn/model_selection/_validation.py\", line 593, in _fit_and_score\n",
      "    estimator.fit(X_train, y_train, **fit_params)\n",
      "  File \"/opt/conda/lib/python3.9/site-packages/sklearn/tree/_classes.py\", line 1247, in fit\n",
      "    super().fit(\n",
      "  File \"/opt/conda/lib/python3.9/site-packages/sklearn/tree/_classes.py\", line 350, in fit\n",
      "    criterion = CRITERIA_REG[self.criterion](self.n_outputs_,\n",
      "KeyError: 'squared_error'\n",
      "\n",
      "  warnings.warn(\"Estimator fit failed. The score on this train-test\"\n",
      "/opt/conda/lib/python3.9/site-packages/sklearn/model_selection/_validation.py:610: FitFailedWarning: Estimator fit failed. The score on this train-test partition for these parameters will be set to nan. Details: \n",
      "Traceback (most recent call last):\n",
      "  File \"/opt/conda/lib/python3.9/site-packages/sklearn/model_selection/_validation.py\", line 593, in _fit_and_score\n",
      "    estimator.fit(X_train, y_train, **fit_params)\n",
      "  File \"/opt/conda/lib/python3.9/site-packages/sklearn/tree/_classes.py\", line 1247, in fit\n",
      "    super().fit(\n",
      "  File \"/opt/conda/lib/python3.9/site-packages/sklearn/tree/_classes.py\", line 350, in fit\n",
      "    criterion = CRITERIA_REG[self.criterion](self.n_outputs_,\n",
      "KeyError: 'squared_error'\n",
      "\n",
      "  warnings.warn(\"Estimator fit failed. The score on this train-test\"\n",
      "/opt/conda/lib/python3.9/site-packages/sklearn/model_selection/_validation.py:610: FitFailedWarning: Estimator fit failed. The score on this train-test partition for these parameters will be set to nan. Details: \n",
      "Traceback (most recent call last):\n",
      "  File \"/opt/conda/lib/python3.9/site-packages/sklearn/model_selection/_validation.py\", line 593, in _fit_and_score\n",
      "    estimator.fit(X_train, y_train, **fit_params)\n",
      "  File \"/opt/conda/lib/python3.9/site-packages/sklearn/tree/_classes.py\", line 1247, in fit\n",
      "    super().fit(\n",
      "  File \"/opt/conda/lib/python3.9/site-packages/sklearn/tree/_classes.py\", line 350, in fit\n",
      "    criterion = CRITERIA_REG[self.criterion](self.n_outputs_,\n",
      "KeyError: 'squared_error'\n",
      "\n",
      "  warnings.warn(\"Estimator fit failed. The score on this train-test\"\n",
      "/opt/conda/lib/python3.9/site-packages/sklearn/model_selection/_validation.py:610: FitFailedWarning: Estimator fit failed. The score on this train-test partition for these parameters will be set to nan. Details: \n",
      "Traceback (most recent call last):\n",
      "  File \"/opt/conda/lib/python3.9/site-packages/sklearn/model_selection/_validation.py\", line 593, in _fit_and_score\n",
      "    estimator.fit(X_train, y_train, **fit_params)\n",
      "  File \"/opt/conda/lib/python3.9/site-packages/sklearn/tree/_classes.py\", line 1247, in fit\n",
      "    super().fit(\n",
      "  File \"/opt/conda/lib/python3.9/site-packages/sklearn/tree/_classes.py\", line 350, in fit\n",
      "    criterion = CRITERIA_REG[self.criterion](self.n_outputs_,\n",
      "KeyError: 'squared_error'\n",
      "\n",
      "  warnings.warn(\"Estimator fit failed. The score on this train-test\"\n",
      "/opt/conda/lib/python3.9/site-packages/sklearn/model_selection/_validation.py:610: FitFailedWarning: Estimator fit failed. The score on this train-test partition for these parameters will be set to nan. Details: \n",
      "Traceback (most recent call last):\n",
      "  File \"/opt/conda/lib/python3.9/site-packages/sklearn/model_selection/_validation.py\", line 593, in _fit_and_score\n",
      "    estimator.fit(X_train, y_train, **fit_params)\n",
      "  File \"/opt/conda/lib/python3.9/site-packages/sklearn/tree/_classes.py\", line 1247, in fit\n",
      "    super().fit(\n",
      "  File \"/opt/conda/lib/python3.9/site-packages/sklearn/tree/_classes.py\", line 350, in fit\n",
      "    criterion = CRITERIA_REG[self.criterion](self.n_outputs_,\n",
      "KeyError: 'squared_error'\n",
      "\n",
      "  warnings.warn(\"Estimator fit failed. The score on this train-test\"\n",
      "/opt/conda/lib/python3.9/site-packages/sklearn/model_selection/_validation.py:610: FitFailedWarning: Estimator fit failed. The score on this train-test partition for these parameters will be set to nan. Details: \n",
      "Traceback (most recent call last):\n",
      "  File \"/opt/conda/lib/python3.9/site-packages/sklearn/model_selection/_validation.py\", line 593, in _fit_and_score\n",
      "    estimator.fit(X_train, y_train, **fit_params)\n",
      "  File \"/opt/conda/lib/python3.9/site-packages/sklearn/tree/_classes.py\", line 1247, in fit\n",
      "    super().fit(\n",
      "  File \"/opt/conda/lib/python3.9/site-packages/sklearn/tree/_classes.py\", line 350, in fit\n",
      "    criterion = CRITERIA_REG[self.criterion](self.n_outputs_,\n",
      "KeyError: 'squared_error'\n",
      "\n",
      "  warnings.warn(\"Estimator fit failed. The score on this train-test\"\n",
      "/opt/conda/lib/python3.9/site-packages/sklearn/model_selection/_validation.py:610: FitFailedWarning: Estimator fit failed. The score on this train-test partition for these parameters will be set to nan. Details: \n",
      "Traceback (most recent call last):\n",
      "  File \"/opt/conda/lib/python3.9/site-packages/sklearn/model_selection/_validation.py\", line 593, in _fit_and_score\n",
      "    estimator.fit(X_train, y_train, **fit_params)\n",
      "  File \"/opt/conda/lib/python3.9/site-packages/sklearn/tree/_classes.py\", line 1247, in fit\n",
      "    super().fit(\n",
      "  File \"/opt/conda/lib/python3.9/site-packages/sklearn/tree/_classes.py\", line 350, in fit\n",
      "    criterion = CRITERIA_REG[self.criterion](self.n_outputs_,\n",
      "KeyError: 'squared_error'\n",
      "\n",
      "  warnings.warn(\"Estimator fit failed. The score on this train-test\"\n",
      "/opt/conda/lib/python3.9/site-packages/sklearn/model_selection/_validation.py:610: FitFailedWarning: Estimator fit failed. The score on this train-test partition for these parameters will be set to nan. Details: \n",
      "Traceback (most recent call last):\n",
      "  File \"/opt/conda/lib/python3.9/site-packages/sklearn/model_selection/_validation.py\", line 593, in _fit_and_score\n",
      "    estimator.fit(X_train, y_train, **fit_params)\n",
      "  File \"/opt/conda/lib/python3.9/site-packages/sklearn/tree/_classes.py\", line 1247, in fit\n",
      "    super().fit(\n",
      "  File \"/opt/conda/lib/python3.9/site-packages/sklearn/tree/_classes.py\", line 350, in fit\n",
      "    criterion = CRITERIA_REG[self.criterion](self.n_outputs_,\n",
      "KeyError: 'squared_error'\n",
      "\n",
      "  warnings.warn(\"Estimator fit failed. The score on this train-test\"\n",
      "/opt/conda/lib/python3.9/site-packages/sklearn/model_selection/_validation.py:610: FitFailedWarning: Estimator fit failed. The score on this train-test partition for these parameters will be set to nan. Details: \n",
      "Traceback (most recent call last):\n",
      "  File \"/opt/conda/lib/python3.9/site-packages/sklearn/model_selection/_validation.py\", line 593, in _fit_and_score\n",
      "    estimator.fit(X_train, y_train, **fit_params)\n",
      "  File \"/opt/conda/lib/python3.9/site-packages/sklearn/tree/_classes.py\", line 1247, in fit\n",
      "    super().fit(\n",
      "  File \"/opt/conda/lib/python3.9/site-packages/sklearn/tree/_classes.py\", line 350, in fit\n",
      "    criterion = CRITERIA_REG[self.criterion](self.n_outputs_,\n",
      "KeyError: 'squared_error'\n",
      "\n",
      "  warnings.warn(\"Estimator fit failed. The score on this train-test\"\n",
      "/opt/conda/lib/python3.9/site-packages/sklearn/model_selection/_validation.py:610: FitFailedWarning: Estimator fit failed. The score on this train-test partition for these parameters will be set to nan. Details: \n",
      "Traceback (most recent call last):\n",
      "  File \"/opt/conda/lib/python3.9/site-packages/sklearn/model_selection/_validation.py\", line 593, in _fit_and_score\n",
      "    estimator.fit(X_train, y_train, **fit_params)\n",
      "  File \"/opt/conda/lib/python3.9/site-packages/sklearn/tree/_classes.py\", line 1247, in fit\n",
      "    super().fit(\n",
      "  File \"/opt/conda/lib/python3.9/site-packages/sklearn/tree/_classes.py\", line 350, in fit\n",
      "    criterion = CRITERIA_REG[self.criterion](self.n_outputs_,\n",
      "KeyError: 'squared_error'\n",
      "\n",
      "  warnings.warn(\"Estimator fit failed. The score on this train-test\"\n",
      "/opt/conda/lib/python3.9/site-packages/sklearn/model_selection/_validation.py:610: FitFailedWarning: Estimator fit failed. The score on this train-test partition for these parameters will be set to nan. Details: \n",
      "Traceback (most recent call last):\n",
      "  File \"/opt/conda/lib/python3.9/site-packages/sklearn/model_selection/_validation.py\", line 593, in _fit_and_score\n",
      "    estimator.fit(X_train, y_train, **fit_params)\n",
      "  File \"/opt/conda/lib/python3.9/site-packages/sklearn/tree/_classes.py\", line 1247, in fit\n",
      "    super().fit(\n",
      "  File \"/opt/conda/lib/python3.9/site-packages/sklearn/tree/_classes.py\", line 350, in fit\n",
      "    criterion = CRITERIA_REG[self.criterion](self.n_outputs_,\n",
      "KeyError: 'absolute_error'\n",
      "\n",
      "  warnings.warn(\"Estimator fit failed. The score on this train-test\"\n",
      "/opt/conda/lib/python3.9/site-packages/sklearn/model_selection/_validation.py:610: FitFailedWarning: Estimator fit failed. The score on this train-test partition for these parameters will be set to nan. Details: \n",
      "Traceback (most recent call last):\n",
      "  File \"/opt/conda/lib/python3.9/site-packages/sklearn/model_selection/_validation.py\", line 593, in _fit_and_score\n",
      "    estimator.fit(X_train, y_train, **fit_params)\n",
      "  File \"/opt/conda/lib/python3.9/site-packages/sklearn/tree/_classes.py\", line 1247, in fit\n",
      "    super().fit(\n",
      "  File \"/opt/conda/lib/python3.9/site-packages/sklearn/tree/_classes.py\", line 350, in fit\n",
      "    criterion = CRITERIA_REG[self.criterion](self.n_outputs_,\n",
      "KeyError: 'absolute_error'\n",
      "\n",
      "  warnings.warn(\"Estimator fit failed. The score on this train-test\"\n",
      "/opt/conda/lib/python3.9/site-packages/sklearn/model_selection/_validation.py:610: FitFailedWarning: Estimator fit failed. The score on this train-test partition for these parameters will be set to nan. Details: \n",
      "Traceback (most recent call last):\n",
      "  File \"/opt/conda/lib/python3.9/site-packages/sklearn/model_selection/_validation.py\", line 593, in _fit_and_score\n",
      "    estimator.fit(X_train, y_train, **fit_params)\n",
      "  File \"/opt/conda/lib/python3.9/site-packages/sklearn/tree/_classes.py\", line 1247, in fit\n",
      "    super().fit(\n",
      "  File \"/opt/conda/lib/python3.9/site-packages/sklearn/tree/_classes.py\", line 350, in fit\n",
      "    criterion = CRITERIA_REG[self.criterion](self.n_outputs_,\n",
      "KeyError: 'absolute_error'\n",
      "\n",
      "  warnings.warn(\"Estimator fit failed. The score on this train-test\"\n",
      "/opt/conda/lib/python3.9/site-packages/sklearn/model_selection/_validation.py:610: FitFailedWarning: Estimator fit failed. The score on this train-test partition for these parameters will be set to nan. Details: \n",
      "Traceback (most recent call last):\n",
      "  File \"/opt/conda/lib/python3.9/site-packages/sklearn/model_selection/_validation.py\", line 593, in _fit_and_score\n",
      "    estimator.fit(X_train, y_train, **fit_params)\n",
      "  File \"/opt/conda/lib/python3.9/site-packages/sklearn/tree/_classes.py\", line 1247, in fit\n",
      "    super().fit(\n",
      "  File \"/opt/conda/lib/python3.9/site-packages/sklearn/tree/_classes.py\", line 350, in fit\n",
      "    criterion = CRITERIA_REG[self.criterion](self.n_outputs_,\n",
      "KeyError: 'absolute_error'\n",
      "\n",
      "  warnings.warn(\"Estimator fit failed. The score on this train-test\"\n",
      "/opt/conda/lib/python3.9/site-packages/sklearn/model_selection/_validation.py:610: FitFailedWarning: Estimator fit failed. The score on this train-test partition for these parameters will be set to nan. Details: \n",
      "Traceback (most recent call last):\n",
      "  File \"/opt/conda/lib/python3.9/site-packages/sklearn/model_selection/_validation.py\", line 593, in _fit_and_score\n",
      "    estimator.fit(X_train, y_train, **fit_params)\n",
      "  File \"/opt/conda/lib/python3.9/site-packages/sklearn/tree/_classes.py\", line 1247, in fit\n",
      "    super().fit(\n",
      "  File \"/opt/conda/lib/python3.9/site-packages/sklearn/tree/_classes.py\", line 350, in fit\n",
      "    criterion = CRITERIA_REG[self.criterion](self.n_outputs_,\n",
      "KeyError: 'absolute_error'\n",
      "\n",
      "  warnings.warn(\"Estimator fit failed. The score on this train-test\"\n",
      "/opt/conda/lib/python3.9/site-packages/sklearn/model_selection/_validation.py:610: FitFailedWarning: Estimator fit failed. The score on this train-test partition for these parameters will be set to nan. Details: \n",
      "Traceback (most recent call last):\n",
      "  File \"/opt/conda/lib/python3.9/site-packages/sklearn/model_selection/_validation.py\", line 593, in _fit_and_score\n",
      "    estimator.fit(X_train, y_train, **fit_params)\n",
      "  File \"/opt/conda/lib/python3.9/site-packages/sklearn/tree/_classes.py\", line 1247, in fit\n",
      "    super().fit(\n",
      "  File \"/opt/conda/lib/python3.9/site-packages/sklearn/tree/_classes.py\", line 350, in fit\n",
      "    criterion = CRITERIA_REG[self.criterion](self.n_outputs_,\n",
      "KeyError: 'absolute_error'\n",
      "\n",
      "  warnings.warn(\"Estimator fit failed. The score on this train-test\"\n",
      "/opt/conda/lib/python3.9/site-packages/sklearn/model_selection/_validation.py:610: FitFailedWarning: Estimator fit failed. The score on this train-test partition for these parameters will be set to nan. Details: \n",
      "Traceback (most recent call last):\n",
      "  File \"/opt/conda/lib/python3.9/site-packages/sklearn/model_selection/_validation.py\", line 593, in _fit_and_score\n",
      "    estimator.fit(X_train, y_train, **fit_params)\n",
      "  File \"/opt/conda/lib/python3.9/site-packages/sklearn/tree/_classes.py\", line 1247, in fit\n",
      "    super().fit(\n",
      "  File \"/opt/conda/lib/python3.9/site-packages/sklearn/tree/_classes.py\", line 350, in fit\n",
      "    criterion = CRITERIA_REG[self.criterion](self.n_outputs_,\n",
      "KeyError: 'absolute_error'\n",
      "\n",
      "  warnings.warn(\"Estimator fit failed. The score on this train-test\"\n",
      "/opt/conda/lib/python3.9/site-packages/sklearn/model_selection/_validation.py:610: FitFailedWarning: Estimator fit failed. The score on this train-test partition for these parameters will be set to nan. Details: \n",
      "Traceback (most recent call last):\n",
      "  File \"/opt/conda/lib/python3.9/site-packages/sklearn/model_selection/_validation.py\", line 593, in _fit_and_score\n",
      "    estimator.fit(X_train, y_train, **fit_params)\n",
      "  File \"/opt/conda/lib/python3.9/site-packages/sklearn/tree/_classes.py\", line 1247, in fit\n",
      "    super().fit(\n",
      "  File \"/opt/conda/lib/python3.9/site-packages/sklearn/tree/_classes.py\", line 350, in fit\n",
      "    criterion = CRITERIA_REG[self.criterion](self.n_outputs_,\n",
      "KeyError: 'absolute_error'\n",
      "\n",
      "  warnings.warn(\"Estimator fit failed. The score on this train-test\"\n",
      "/opt/conda/lib/python3.9/site-packages/sklearn/model_selection/_validation.py:610: FitFailedWarning: Estimator fit failed. The score on this train-test partition for these parameters will be set to nan. Details: \n",
      "Traceback (most recent call last):\n",
      "  File \"/opt/conda/lib/python3.9/site-packages/sklearn/model_selection/_validation.py\", line 593, in _fit_and_score\n",
      "    estimator.fit(X_train, y_train, **fit_params)\n",
      "  File \"/opt/conda/lib/python3.9/site-packages/sklearn/tree/_classes.py\", line 1247, in fit\n",
      "    super().fit(\n",
      "  File \"/opt/conda/lib/python3.9/site-packages/sklearn/tree/_classes.py\", line 350, in fit\n",
      "    criterion = CRITERIA_REG[self.criterion](self.n_outputs_,\n",
      "KeyError: 'absolute_error'\n",
      "\n",
      "  warnings.warn(\"Estimator fit failed. The score on this train-test\"\n",
      "/opt/conda/lib/python3.9/site-packages/sklearn/model_selection/_validation.py:610: FitFailedWarning: Estimator fit failed. The score on this train-test partition for these parameters will be set to nan. Details: \n",
      "Traceback (most recent call last):\n",
      "  File \"/opt/conda/lib/python3.9/site-packages/sklearn/model_selection/_validation.py\", line 593, in _fit_and_score\n",
      "    estimator.fit(X_train, y_train, **fit_params)\n",
      "  File \"/opt/conda/lib/python3.9/site-packages/sklearn/tree/_classes.py\", line 1247, in fit\n",
      "    super().fit(\n",
      "  File \"/opt/conda/lib/python3.9/site-packages/sklearn/tree/_classes.py\", line 350, in fit\n",
      "    criterion = CRITERIA_REG[self.criterion](self.n_outputs_,\n",
      "KeyError: 'absolute_error'\n",
      "\n",
      "  warnings.warn(\"Estimator fit failed. The score on this train-test\"\n",
      "/opt/conda/lib/python3.9/site-packages/sklearn/model_selection/_validation.py:610: FitFailedWarning: Estimator fit failed. The score on this train-test partition for these parameters will be set to nan. Details: \n",
      "Traceback (most recent call last):\n",
      "  File \"/opt/conda/lib/python3.9/site-packages/sklearn/model_selection/_validation.py\", line 593, in _fit_and_score\n",
      "    estimator.fit(X_train, y_train, **fit_params)\n",
      "  File \"/opt/conda/lib/python3.9/site-packages/sklearn/tree/_classes.py\", line 1247, in fit\n",
      "    super().fit(\n",
      "  File \"/opt/conda/lib/python3.9/site-packages/sklearn/tree/_classes.py\", line 350, in fit\n",
      "    criterion = CRITERIA_REG[self.criterion](self.n_outputs_,\n",
      "KeyError: 'absolute_error'\n",
      "\n",
      "  warnings.warn(\"Estimator fit failed. The score on this train-test\"\n",
      "/opt/conda/lib/python3.9/site-packages/sklearn/model_selection/_validation.py:610: FitFailedWarning: Estimator fit failed. The score on this train-test partition for these parameters will be set to nan. Details: \n",
      "Traceback (most recent call last):\n",
      "  File \"/opt/conda/lib/python3.9/site-packages/sklearn/model_selection/_validation.py\", line 593, in _fit_and_score\n",
      "    estimator.fit(X_train, y_train, **fit_params)\n",
      "  File \"/opt/conda/lib/python3.9/site-packages/sklearn/tree/_classes.py\", line 1247, in fit\n",
      "    super().fit(\n",
      "  File \"/opt/conda/lib/python3.9/site-packages/sklearn/tree/_classes.py\", line 350, in fit\n",
      "    criterion = CRITERIA_REG[self.criterion](self.n_outputs_,\n",
      "KeyError: 'absolute_error'\n",
      "\n",
      "  warnings.warn(\"Estimator fit failed. The score on this train-test\"\n",
      "/opt/conda/lib/python3.9/site-packages/sklearn/model_selection/_validation.py:610: FitFailedWarning: Estimator fit failed. The score on this train-test partition for these parameters will be set to nan. Details: \n",
      "Traceback (most recent call last):\n",
      "  File \"/opt/conda/lib/python3.9/site-packages/sklearn/model_selection/_validation.py\", line 593, in _fit_and_score\n",
      "    estimator.fit(X_train, y_train, **fit_params)\n",
      "  File \"/opt/conda/lib/python3.9/site-packages/sklearn/tree/_classes.py\", line 1247, in fit\n",
      "    super().fit(\n",
      "  File \"/opt/conda/lib/python3.9/site-packages/sklearn/tree/_classes.py\", line 350, in fit\n",
      "    criterion = CRITERIA_REG[self.criterion](self.n_outputs_,\n",
      "KeyError: 'absolute_error'\n",
      "\n",
      "  warnings.warn(\"Estimator fit failed. The score on this train-test\"\n",
      "/opt/conda/lib/python3.9/site-packages/sklearn/model_selection/_validation.py:610: FitFailedWarning: Estimator fit failed. The score on this train-test partition for these parameters will be set to nan. Details: \n",
      "Traceback (most recent call last):\n",
      "  File \"/opt/conda/lib/python3.9/site-packages/sklearn/model_selection/_validation.py\", line 593, in _fit_and_score\n",
      "    estimator.fit(X_train, y_train, **fit_params)\n",
      "  File \"/opt/conda/lib/python3.9/site-packages/sklearn/tree/_classes.py\", line 1247, in fit\n",
      "    super().fit(\n",
      "  File \"/opt/conda/lib/python3.9/site-packages/sklearn/tree/_classes.py\", line 350, in fit\n",
      "    criterion = CRITERIA_REG[self.criterion](self.n_outputs_,\n",
      "KeyError: 'absolute_error'\n",
      "\n",
      "  warnings.warn(\"Estimator fit failed. The score on this train-test\"\n",
      "/opt/conda/lib/python3.9/site-packages/sklearn/model_selection/_validation.py:610: FitFailedWarning: Estimator fit failed. The score on this train-test partition for these parameters will be set to nan. Details: \n",
      "Traceback (most recent call last):\n",
      "  File \"/opt/conda/lib/python3.9/site-packages/sklearn/model_selection/_validation.py\", line 593, in _fit_and_score\n",
      "    estimator.fit(X_train, y_train, **fit_params)\n",
      "  File \"/opt/conda/lib/python3.9/site-packages/sklearn/tree/_classes.py\", line 1247, in fit\n",
      "    super().fit(\n",
      "  File \"/opt/conda/lib/python3.9/site-packages/sklearn/tree/_classes.py\", line 350, in fit\n",
      "    criterion = CRITERIA_REG[self.criterion](self.n_outputs_,\n",
      "KeyError: 'absolute_error'\n",
      "\n",
      "  warnings.warn(\"Estimator fit failed. The score on this train-test\"\n",
      "/opt/conda/lib/python3.9/site-packages/sklearn/model_selection/_validation.py:610: FitFailedWarning: Estimator fit failed. The score on this train-test partition for these parameters will be set to nan. Details: \n",
      "Traceback (most recent call last):\n",
      "  File \"/opt/conda/lib/python3.9/site-packages/sklearn/model_selection/_validation.py\", line 593, in _fit_and_score\n",
      "    estimator.fit(X_train, y_train, **fit_params)\n",
      "  File \"/opt/conda/lib/python3.9/site-packages/sklearn/tree/_classes.py\", line 1247, in fit\n",
      "    super().fit(\n",
      "  File \"/opt/conda/lib/python3.9/site-packages/sklearn/tree/_classes.py\", line 350, in fit\n",
      "    criterion = CRITERIA_REG[self.criterion](self.n_outputs_,\n",
      "KeyError: 'absolute_error'\n",
      "\n",
      "  warnings.warn(\"Estimator fit failed. The score on this train-test\"\n",
      "/opt/conda/lib/python3.9/site-packages/sklearn/model_selection/_validation.py:610: FitFailedWarning: Estimator fit failed. The score on this train-test partition for these parameters will be set to nan. Details: \n",
      "Traceback (most recent call last):\n",
      "  File \"/opt/conda/lib/python3.9/site-packages/sklearn/model_selection/_validation.py\", line 593, in _fit_and_score\n",
      "    estimator.fit(X_train, y_train, **fit_params)\n",
      "  File \"/opt/conda/lib/python3.9/site-packages/sklearn/tree/_classes.py\", line 1247, in fit\n",
      "    super().fit(\n",
      "  File \"/opt/conda/lib/python3.9/site-packages/sklearn/tree/_classes.py\", line 350, in fit\n",
      "    criterion = CRITERIA_REG[self.criterion](self.n_outputs_,\n",
      "KeyError: 'absolute_error'\n",
      "\n",
      "  warnings.warn(\"Estimator fit failed. The score on this train-test\"\n",
      "/opt/conda/lib/python3.9/site-packages/sklearn/model_selection/_validation.py:610: FitFailedWarning: Estimator fit failed. The score on this train-test partition for these parameters will be set to nan. Details: \n",
      "Traceback (most recent call last):\n",
      "  File \"/opt/conda/lib/python3.9/site-packages/sklearn/model_selection/_validation.py\", line 593, in _fit_and_score\n",
      "    estimator.fit(X_train, y_train, **fit_params)\n",
      "  File \"/opt/conda/lib/python3.9/site-packages/sklearn/tree/_classes.py\", line 1247, in fit\n",
      "    super().fit(\n",
      "  File \"/opt/conda/lib/python3.9/site-packages/sklearn/tree/_classes.py\", line 350, in fit\n",
      "    criterion = CRITERIA_REG[self.criterion](self.n_outputs_,\n",
      "KeyError: 'absolute_error'\n",
      "\n",
      "  warnings.warn(\"Estimator fit failed. The score on this train-test\"\n",
      "/opt/conda/lib/python3.9/site-packages/sklearn/model_selection/_validation.py:610: FitFailedWarning: Estimator fit failed. The score on this train-test partition for these parameters will be set to nan. Details: \n",
      "Traceback (most recent call last):\n",
      "  File \"/opt/conda/lib/python3.9/site-packages/sklearn/model_selection/_validation.py\", line 593, in _fit_and_score\n",
      "    estimator.fit(X_train, y_train, **fit_params)\n",
      "  File \"/opt/conda/lib/python3.9/site-packages/sklearn/tree/_classes.py\", line 1247, in fit\n",
      "    super().fit(\n",
      "  File \"/opt/conda/lib/python3.9/site-packages/sklearn/tree/_classes.py\", line 350, in fit\n",
      "    criterion = CRITERIA_REG[self.criterion](self.n_outputs_,\n",
      "KeyError: 'absolute_error'\n",
      "\n",
      "  warnings.warn(\"Estimator fit failed. The score on this train-test\"\n",
      "/opt/conda/lib/python3.9/site-packages/sklearn/model_selection/_validation.py:610: FitFailedWarning: Estimator fit failed. The score on this train-test partition for these parameters will be set to nan. Details: \n",
      "Traceback (most recent call last):\n",
      "  File \"/opt/conda/lib/python3.9/site-packages/sklearn/model_selection/_validation.py\", line 593, in _fit_and_score\n",
      "    estimator.fit(X_train, y_train, **fit_params)\n",
      "  File \"/opt/conda/lib/python3.9/site-packages/sklearn/tree/_classes.py\", line 1247, in fit\n",
      "    super().fit(\n",
      "  File \"/opt/conda/lib/python3.9/site-packages/sklearn/tree/_classes.py\", line 350, in fit\n",
      "    criterion = CRITERIA_REG[self.criterion](self.n_outputs_,\n",
      "KeyError: 'absolute_error'\n",
      "\n",
      "  warnings.warn(\"Estimator fit failed. The score on this train-test\"\n",
      "/opt/conda/lib/python3.9/site-packages/sklearn/model_selection/_validation.py:610: FitFailedWarning: Estimator fit failed. The score on this train-test partition for these parameters will be set to nan. Details: \n",
      "Traceback (most recent call last):\n",
      "  File \"/opt/conda/lib/python3.9/site-packages/sklearn/model_selection/_validation.py\", line 593, in _fit_and_score\n",
      "    estimator.fit(X_train, y_train, **fit_params)\n",
      "  File \"/opt/conda/lib/python3.9/site-packages/sklearn/tree/_classes.py\", line 1247, in fit\n",
      "    super().fit(\n",
      "  File \"/opt/conda/lib/python3.9/site-packages/sklearn/tree/_classes.py\", line 350, in fit\n",
      "    criterion = CRITERIA_REG[self.criterion](self.n_outputs_,\n",
      "KeyError: 'absolute_error'\n",
      "\n",
      "  warnings.warn(\"Estimator fit failed. The score on this train-test\"\n",
      "/opt/conda/lib/python3.9/site-packages/sklearn/model_selection/_validation.py:610: FitFailedWarning: Estimator fit failed. The score on this train-test partition for these parameters will be set to nan. Details: \n",
      "Traceback (most recent call last):\n",
      "  File \"/opt/conda/lib/python3.9/site-packages/sklearn/model_selection/_validation.py\", line 593, in _fit_and_score\n",
      "    estimator.fit(X_train, y_train, **fit_params)\n",
      "  File \"/opt/conda/lib/python3.9/site-packages/sklearn/tree/_classes.py\", line 1247, in fit\n",
      "    super().fit(\n",
      "  File \"/opt/conda/lib/python3.9/site-packages/sklearn/tree/_classes.py\", line 350, in fit\n",
      "    criterion = CRITERIA_REG[self.criterion](self.n_outputs_,\n",
      "KeyError: 'absolute_error'\n",
      "\n",
      "  warnings.warn(\"Estimator fit failed. The score on this train-test\"\n",
      "/opt/conda/lib/python3.9/site-packages/sklearn/model_selection/_validation.py:610: FitFailedWarning: Estimator fit failed. The score on this train-test partition for these parameters will be set to nan. Details: \n",
      "Traceback (most recent call last):\n",
      "  File \"/opt/conda/lib/python3.9/site-packages/sklearn/model_selection/_validation.py\", line 593, in _fit_and_score\n",
      "    estimator.fit(X_train, y_train, **fit_params)\n",
      "  File \"/opt/conda/lib/python3.9/site-packages/sklearn/tree/_classes.py\", line 1247, in fit\n",
      "    super().fit(\n",
      "  File \"/opt/conda/lib/python3.9/site-packages/sklearn/tree/_classes.py\", line 350, in fit\n",
      "    criterion = CRITERIA_REG[self.criterion](self.n_outputs_,\n",
      "KeyError: 'absolute_error'\n",
      "\n",
      "  warnings.warn(\"Estimator fit failed. The score on this train-test\"\n",
      "/opt/conda/lib/python3.9/site-packages/sklearn/model_selection/_validation.py:610: FitFailedWarning: Estimator fit failed. The score on this train-test partition for these parameters will be set to nan. Details: \n",
      "Traceback (most recent call last):\n",
      "  File \"/opt/conda/lib/python3.9/site-packages/sklearn/model_selection/_validation.py\", line 593, in _fit_and_score\n",
      "    estimator.fit(X_train, y_train, **fit_params)\n",
      "  File \"/opt/conda/lib/python3.9/site-packages/sklearn/tree/_classes.py\", line 1247, in fit\n",
      "    super().fit(\n",
      "  File \"/opt/conda/lib/python3.9/site-packages/sklearn/tree/_classes.py\", line 350, in fit\n",
      "    criterion = CRITERIA_REG[self.criterion](self.n_outputs_,\n",
      "KeyError: 'absolute_error'\n",
      "\n",
      "  warnings.warn(\"Estimator fit failed. The score on this train-test\"\n",
      "/opt/conda/lib/python3.9/site-packages/sklearn/model_selection/_validation.py:610: FitFailedWarning: Estimator fit failed. The score on this train-test partition for these parameters will be set to nan. Details: \n",
      "Traceback (most recent call last):\n",
      "  File \"/opt/conda/lib/python3.9/site-packages/sklearn/model_selection/_validation.py\", line 593, in _fit_and_score\n",
      "    estimator.fit(X_train, y_train, **fit_params)\n",
      "  File \"/opt/conda/lib/python3.9/site-packages/sklearn/tree/_classes.py\", line 1247, in fit\n",
      "    super().fit(\n",
      "  File \"/opt/conda/lib/python3.9/site-packages/sklearn/tree/_classes.py\", line 350, in fit\n",
      "    criterion = CRITERIA_REG[self.criterion](self.n_outputs_,\n",
      "KeyError: 'absolute_error'\n",
      "\n",
      "  warnings.warn(\"Estimator fit failed. The score on this train-test\"\n",
      "/opt/conda/lib/python3.9/site-packages/sklearn/model_selection/_search.py:918: UserWarning: One or more of the test scores are non-finite: [         nan          nan          nan          nan          nan\n",
      " -12.81317144          nan          nan          nan          nan\n",
      "          nan          nan          nan          nan          nan\n",
      " -12.20209096 -12.19395989 -12.19358858 -12.1941204  -12.19408434]\n",
      "  warnings.warn(\n"
     ]
    },
    {
     "name": "stdout",
     "output_type": "stream",
     "text": [
      "{'criterion': 'poisson', 'max_depth': 7}\n",
      "smape: -12.193588583060805\n"
     ]
    }
   ],
   "source": [
    "\n",
    "model = DecisionTreeRegressor()\n",
    "grid_space={'max_depth':range(5,10),'criterion':['squared_error', 'friedman_mse', 'absolute_error', 'poisson']}\n",
    "grid = GridSearchCV(model,param_grid=grid_space,cv=5,scoring=smape_score, n_jobs = -1)\n",
    "model_grid = grid.fit(features_train_rough, target_train_rough)\n",
    "\n",
    "pd.options.mode.chained_assignment = None\n",
    "\n",
    "print(model_grid.best_params_)\n",
    "print('smape:', model_grid.best_score_)"
   ]
  },
  {
   "cell_type": "markdown",
   "metadata": {
    "id": "KdBiJhu43iuq"
   },
   "source": [
    "Проверим на адекватность данные модели:"
   ]
  },
  {
   "cell_type": "code",
   "execution_count": null,
   "metadata": {
    "id": "jhQWiZOH3iuq",
    "outputId": "ba4e264e-8c5b-4c03-d804-da275c05cf97"
   },
   "outputs": [
    {
     "name": "stdout",
     "output_type": "stream",
     "text": [
      "tree smape: 10.3698462237245\n",
      "dummy smape: 10.379799283438471\n"
     ]
    }
   ],
   "source": [
    "model = DecisionTreeRegressor(max_depth = 7, criterion = 'poisson')\n",
    "model.fit(features_train_rough, target_train_rough)\n",
    "rough_pred = model.predict(features_test_rough)\n",
    "full_target_rough = full.loc[features_test_rough.index, 'rougher.output.recovery']\n",
    "print('tree smape:',smape(full_target_rough, rough_pred))\n",
    "\n",
    "dummy = DummyRegressor(strategy=\"mean\")\n",
    "dummy.fit(features_train_rough, target_train_rough)\n",
    "full_target_final = full.loc[features_test_final.index, 'final.output.recovery']\n",
    "dummy_pred = dummy.predict(features_test_rough)\n",
    "print('dummy smape:',smape(full_target_rough, dummy_pred))\n"
   ]
  },
  {
   "cell_type": "code",
   "execution_count": null,
   "metadata": {
    "id": "FpIerQFi3iuq",
    "outputId": "6c7bbeb0-1350-4c12-e634-15cb47182bf7"
   },
   "outputs": [
    {
     "name": "stdout",
     "output_type": "stream",
     "text": [
      "linear regression smape: 9.32332518990904\n",
      "dummy smape: 10.379799283438471\n"
     ]
    }
   ],
   "source": [
    "model = LinearRegression()\n",
    "model.fit(features_train_rough, target_train_rough)\n",
    "rough_pred = model.predict(features_test_rough)\n",
    "full_target_rough = full.loc[features_test_rough.index, 'rougher.output.recovery']\n",
    "print('linear regression smape:',smape(full_target_rough, rough_pred))\n",
    "\n",
    "dummy = DummyRegressor(strategy=\"mean\")\n",
    "dummy.fit(features_train_rough, target_train_rough)\n",
    "dummy_pred = dummy.predict(features_test_rough)\n",
    "print('dummy smape:',smape(full_target_rough, dummy_pred))\n"
   ]
  },
  {
   "cell_type": "markdown",
   "metadata": {
    "id": "fXJ3wzbm3iuq"
   },
   "source": [
    "Как видно, smape константной модели и дерева регрессии почти одинаковы, значит, дерево предсказывает значения целевого признака, которые не далеки от средних значений, предсказанных константной моделью. В то же время у линейной регрессии smape меньше, чем у дамми-регрессора, значит эта модель ведет себя адекватнее. Вычислим при помощи нее итоговое sMAPE для тестовой выборки."
   ]
  },
  {
   "cell_type": "code",
   "execution_count": null,
   "metadata": {
    "id": "K4XW6N9Q3iuq",
    "outputId": "c302b127-2a0d-453b-933a-17e18bdeb60b"
   },
   "outputs": [
    {
     "name": "stdout",
     "output_type": "stream",
     "text": [
      "sMAPE: 9.859480781388578\n"
     ]
    }
   ],
   "source": [
    "model = LinearRegression()\n",
    "model.fit(features_train_rough, target_train_rough)\n",
    "\n",
    "rough_pred = model.predict(features_test_rough)\n",
    "full_target = full.loc[features_test_rough.index, 'rougher.output.recovery']\n",
    "rough_smape = smape(full_target_rough, rough_pred)\n",
    "\n",
    "model = LinearRegression()\n",
    "model.fit(features_train_final, target_train_final)\n",
    "final_pred = model.predict(features_test_final)\n",
    "full_target = full.loc[features_test_final.index, 'final.output.recovery']\n",
    "final_smape = smape(full_target_final, final_pred)\n",
    "\n",
    "sMAPE = rough_smape * 0.25 + final_smape * 0.75\n",
    "print('sMAPE:',sMAPE)"
   ]
  },
  {
   "cell_type": "markdown",
   "metadata": {
    "id": "lrcHyRLiebTD"
   },
   "source": [
    "### Вывод\n",
    "Перед началом выполнения проекта была поставлена задача построить модель, предсказывающую коэффициент очистки золота из золотосодержащей руды. В ходе выполнения работы были обработаны и исследованы предоставленные данные, извучены доли концентратов различных металлов на каждой из стадий обработки руды, по формуле расчитана эффективность флотации, точность вычислений проверены метрикой MAE, написана функция вычисления sMAPE для проверки точности модели. После, были составленый две модели обучения - линейная регрессия и лес регрессии, с помощью кросс-валидации и sMAPE были вычислены их качества и точности. Модели были проверены на адекватность с помощью константной модели. Лучший результат показала модель линейной регрессии, где sMAPE составила 9.859"
   ]
  }
 ],
 "metadata": {
  "ExecuteTimeLog": [
   {
    "duration": 3822,
    "start_time": "2023-01-15T08:55:55.793Z"
   },
   {
    "duration": 123,
    "start_time": "2023-01-15T08:55:59.617Z"
   },
   {
    "duration": 0,
    "start_time": "2023-01-15T08:55:59.742Z"
   },
   {
    "duration": 0,
    "start_time": "2023-01-15T08:55:59.743Z"
   },
   {
    "duration": 0,
    "start_time": "2023-01-15T08:55:59.745Z"
   },
   {
    "duration": 0,
    "start_time": "2023-01-15T08:55:59.746Z"
   },
   {
    "duration": 0,
    "start_time": "2023-01-15T08:55:59.747Z"
   },
   {
    "duration": 0,
    "start_time": "2023-01-15T08:55:59.748Z"
   },
   {
    "duration": 0,
    "start_time": "2023-01-15T08:55:59.749Z"
   },
   {
    "duration": 0,
    "start_time": "2023-01-15T08:55:59.750Z"
   },
   {
    "duration": 0,
    "start_time": "2023-01-15T08:55:59.751Z"
   },
   {
    "duration": 0,
    "start_time": "2023-01-15T08:55:59.752Z"
   },
   {
    "duration": 0,
    "start_time": "2023-01-15T08:55:59.753Z"
   },
   {
    "duration": 0,
    "start_time": "2023-01-15T08:55:59.754Z"
   },
   {
    "duration": 0,
    "start_time": "2023-01-15T08:55:59.778Z"
   },
   {
    "duration": 1323,
    "start_time": "2023-01-15T08:57:11.654Z"
   },
   {
    "duration": 4,
    "start_time": "2023-01-15T08:57:36.124Z"
   },
   {
    "duration": 1728,
    "start_time": "2023-01-15T08:57:36.130Z"
   },
   {
    "duration": 31,
    "start_time": "2023-01-15T08:57:37.860Z"
   },
   {
    "duration": 23,
    "start_time": "2023-01-15T08:57:37.893Z"
   },
   {
    "duration": 16,
    "start_time": "2023-01-15T08:57:37.917Z"
   },
   {
    "duration": 22,
    "start_time": "2023-01-15T08:57:37.935Z"
   },
   {
    "duration": 34,
    "start_time": "2023-01-15T08:57:37.959Z"
   },
   {
    "duration": 45,
    "start_time": "2023-01-15T08:57:37.994Z"
   },
   {
    "duration": 7,
    "start_time": "2023-01-15T08:57:38.043Z"
   },
   {
    "duration": 133,
    "start_time": "2023-01-15T08:57:38.051Z"
   },
   {
    "duration": 15,
    "start_time": "2023-01-15T08:57:38.185Z"
   },
   {
    "duration": 555,
    "start_time": "2023-01-15T08:57:38.202Z"
   },
   {
    "duration": 7,
    "start_time": "2023-01-15T08:57:38.758Z"
   },
   {
    "duration": 60,
    "start_time": "2023-01-15T08:57:38.779Z"
   },
   {
    "duration": 57,
    "start_time": "2023-01-15T08:57:38.842Z"
   },
   {
    "duration": 12,
    "start_time": "2023-01-15T08:57:57.160Z"
   },
   {
    "duration": 3,
    "start_time": "2023-01-15T09:07:00.272Z"
   },
   {
    "duration": 1923,
    "start_time": "2023-01-15T09:07:00.277Z"
   },
   {
    "duration": 22,
    "start_time": "2023-01-15T09:07:02.202Z"
   },
   {
    "duration": 22,
    "start_time": "2023-01-15T09:07:02.226Z"
   },
   {
    "duration": 31,
    "start_time": "2023-01-15T09:07:02.251Z"
   },
   {
    "duration": 8,
    "start_time": "2023-01-15T09:07:02.284Z"
   },
   {
    "duration": 26,
    "start_time": "2023-01-15T09:07:02.294Z"
   },
   {
    "duration": 15,
    "start_time": "2023-01-15T09:07:02.321Z"
   },
   {
    "duration": 5,
    "start_time": "2023-01-15T09:07:02.338Z"
   },
   {
    "duration": 140,
    "start_time": "2023-01-15T09:07:02.345Z"
   },
   {
    "duration": 14,
    "start_time": "2023-01-15T09:07:02.486Z"
   },
   {
    "duration": 489,
    "start_time": "2023-01-15T09:07:02.502Z"
   },
   {
    "duration": 5,
    "start_time": "2023-01-15T09:07:02.992Z"
   },
   {
    "duration": 80,
    "start_time": "2023-01-15T09:07:03.000Z"
   },
   {
    "duration": 42,
    "start_time": "2023-01-15T09:07:03.082Z"
   },
   {
    "duration": 5,
    "start_time": "2023-01-15T09:07:03.126Z"
   },
   {
    "duration": 11,
    "start_time": "2023-01-15T09:07:03.132Z"
   },
   {
    "duration": 4564,
    "start_time": "2023-01-15T09:07:03.144Z"
   },
   {
    "duration": 5,
    "start_time": "2023-01-15T09:07:07.710Z"
   },
   {
    "duration": 850,
    "start_time": "2023-01-15T09:07:07.717Z"
   },
   {
    "duration": 857,
    "start_time": "2023-01-15T09:07:08.568Z"
   },
   {
    "duration": 7,
    "start_time": "2023-01-15T09:07:09.426Z"
   },
   {
    "duration": 1143,
    "start_time": "2023-01-15T09:07:09.434Z"
   },
   {
    "duration": 1091,
    "start_time": "2023-01-15T09:07:10.579Z"
   },
   {
    "duration": 1196,
    "start_time": "2023-01-15T09:07:11.672Z"
   },
   {
    "duration": 1090,
    "start_time": "2023-01-15T09:07:12.869Z"
   },
   {
    "duration": 5,
    "start_time": "2023-01-15T09:07:13.961Z"
   },
   {
    "duration": 10,
    "start_time": "2023-01-15T09:07:13.977Z"
   },
   {
    "duration": 2194,
    "start_time": "2023-01-15T09:07:13.989Z"
   },
   {
    "duration": 4,
    "start_time": "2023-01-15T09:07:35.039Z"
   },
   {
    "duration": 542,
    "start_time": "2023-01-15T09:07:38.537Z"
   },
   {
    "duration": 3,
    "start_time": "2023-01-15T09:09:50.860Z"
   },
   {
    "duration": 208,
    "start_time": "2023-01-15T09:09:53.977Z"
   },
   {
    "duration": 5,
    "start_time": "2023-01-15T09:10:57.213Z"
   },
   {
    "duration": 477,
    "start_time": "2023-01-15T09:10:59.604Z"
   },
   {
    "duration": 63,
    "start_time": "2023-01-15T09:12:17.623Z"
   },
   {
    "duration": 4,
    "start_time": "2023-01-15T09:12:25.730Z"
   },
   {
    "duration": 481,
    "start_time": "2023-01-15T09:12:28.298Z"
   },
   {
    "duration": 4,
    "start_time": "2023-01-15T09:14:08.396Z"
   },
   {
    "duration": 545,
    "start_time": "2023-01-15T09:14:10.738Z"
   },
   {
    "duration": 8,
    "start_time": "2023-01-15T09:14:56.044Z"
   },
   {
    "duration": 7,
    "start_time": "2023-01-15T09:16:18.548Z"
   },
   {
    "duration": 9,
    "start_time": "2023-01-15T09:17:34.991Z"
   },
   {
    "duration": 3,
    "start_time": "2023-01-15T09:17:59.620Z"
   },
   {
    "duration": 3,
    "start_time": "2023-01-15T09:18:16.981Z"
   },
   {
    "duration": 8,
    "start_time": "2023-01-15T09:18:28.922Z"
   },
   {
    "duration": 4,
    "start_time": "2023-01-15T09:18:34.466Z"
   },
   {
    "duration": 4,
    "start_time": "2023-01-15T09:19:52.960Z"
   },
   {
    "duration": 64,
    "start_time": "2023-01-15T09:20:09.562Z"
   },
   {
    "duration": 4,
    "start_time": "2023-01-15T09:20:18.833Z"
   },
   {
    "duration": 4,
    "start_time": "2023-01-15T09:20:22.294Z"
   },
   {
    "duration": 4,
    "start_time": "2023-01-15T09:21:44.821Z"
   },
   {
    "duration": 535,
    "start_time": "2023-01-15T09:21:48.644Z"
   },
   {
    "duration": 4,
    "start_time": "2023-01-15T09:22:49.474Z"
   },
   {
    "duration": 607,
    "start_time": "2023-01-15T09:22:53.576Z"
   },
   {
    "duration": 2135,
    "start_time": "2023-01-15T09:31:16.360Z"
   },
   {
    "duration": 1343,
    "start_time": "2023-01-15T09:31:18.498Z"
   },
   {
    "duration": 36,
    "start_time": "2023-01-15T09:31:19.843Z"
   },
   {
    "duration": 26,
    "start_time": "2023-01-15T09:31:19.880Z"
   },
   {
    "duration": 23,
    "start_time": "2023-01-15T09:31:19.910Z"
   },
   {
    "duration": 18,
    "start_time": "2023-01-15T09:31:19.935Z"
   },
   {
    "duration": 43,
    "start_time": "2023-01-15T09:31:19.954Z"
   },
   {
    "duration": 29,
    "start_time": "2023-01-15T09:31:19.999Z"
   },
   {
    "duration": 23,
    "start_time": "2023-01-15T09:31:20.030Z"
   },
   {
    "duration": 117,
    "start_time": "2023-01-15T09:31:20.055Z"
   },
   {
    "duration": 15,
    "start_time": "2023-01-15T09:31:20.174Z"
   },
   {
    "duration": 478,
    "start_time": "2023-01-15T09:31:20.191Z"
   },
   {
    "duration": 11,
    "start_time": "2023-01-15T09:31:20.671Z"
   },
   {
    "duration": 61,
    "start_time": "2023-01-15T09:31:20.685Z"
   },
   {
    "duration": 57,
    "start_time": "2023-01-15T09:31:20.748Z"
   },
   {
    "duration": 4,
    "start_time": "2023-01-15T09:31:20.807Z"
   },
   {
    "duration": 9,
    "start_time": "2023-01-15T09:31:20.813Z"
   },
   {
    "duration": 4183,
    "start_time": "2023-01-15T09:31:20.824Z"
   },
   {
    "duration": 4,
    "start_time": "2023-01-15T09:31:25.009Z"
   },
   {
    "duration": 709,
    "start_time": "2023-01-15T09:31:25.015Z"
   },
   {
    "duration": 896,
    "start_time": "2023-01-15T09:31:25.726Z"
   },
   {
    "duration": 7,
    "start_time": "2023-01-15T09:31:26.624Z"
   },
   {
    "duration": 1124,
    "start_time": "2023-01-15T09:31:26.633Z"
   },
   {
    "duration": 1197,
    "start_time": "2023-01-15T09:31:27.759Z"
   },
   {
    "duration": 1123,
    "start_time": "2023-01-15T09:31:28.957Z"
   },
   {
    "duration": 1172,
    "start_time": "2023-01-15T09:31:30.083Z"
   },
   {
    "duration": 5,
    "start_time": "2023-01-15T09:31:31.257Z"
   },
   {
    "duration": 506,
    "start_time": "2023-01-15T09:31:31.279Z"
   },
   {
    "duration": 45,
    "start_time": "2023-01-15T19:36:32.757Z"
   },
   {
    "duration": 1601,
    "start_time": "2023-01-15T19:36:39.143Z"
   },
   {
    "duration": 1645,
    "start_time": "2023-01-15T19:36:40.747Z"
   },
   {
    "duration": 43,
    "start_time": "2023-01-15T19:36:42.394Z"
   },
   {
    "duration": 18,
    "start_time": "2023-01-15T19:36:42.440Z"
   },
   {
    "duration": 17,
    "start_time": "2023-01-15T19:36:42.460Z"
   },
   {
    "duration": 16,
    "start_time": "2023-01-15T19:36:42.479Z"
   },
   {
    "duration": 35,
    "start_time": "2023-01-15T19:36:42.497Z"
   },
   {
    "duration": 16,
    "start_time": "2023-01-15T19:36:42.534Z"
   },
   {
    "duration": 7,
    "start_time": "2023-01-15T19:36:42.552Z"
   },
   {
    "duration": 158,
    "start_time": "2023-01-15T19:36:42.563Z"
   },
   {
    "duration": 0,
    "start_time": "2023-01-15T19:36:42.723Z"
   },
   {
    "duration": 0,
    "start_time": "2023-01-15T19:36:42.724Z"
   },
   {
    "duration": 0,
    "start_time": "2023-01-15T19:36:42.726Z"
   },
   {
    "duration": 0,
    "start_time": "2023-01-15T19:36:42.727Z"
   },
   {
    "duration": 0,
    "start_time": "2023-01-15T19:36:42.728Z"
   },
   {
    "duration": 0,
    "start_time": "2023-01-15T19:36:42.729Z"
   },
   {
    "duration": 0,
    "start_time": "2023-01-15T19:36:42.731Z"
   },
   {
    "duration": 0,
    "start_time": "2023-01-15T19:36:42.732Z"
   },
   {
    "duration": 0,
    "start_time": "2023-01-15T19:36:42.734Z"
   },
   {
    "duration": 0,
    "start_time": "2023-01-15T19:36:42.735Z"
   },
   {
    "duration": 0,
    "start_time": "2023-01-15T19:36:42.736Z"
   },
   {
    "duration": 0,
    "start_time": "2023-01-15T19:36:42.738Z"
   },
   {
    "duration": 0,
    "start_time": "2023-01-15T19:36:42.739Z"
   },
   {
    "duration": 0,
    "start_time": "2023-01-15T19:36:42.741Z"
   },
   {
    "duration": 0,
    "start_time": "2023-01-15T19:36:42.742Z"
   },
   {
    "duration": 0,
    "start_time": "2023-01-15T19:36:42.744Z"
   },
   {
    "duration": 0,
    "start_time": "2023-01-15T19:36:42.745Z"
   },
   {
    "duration": 0,
    "start_time": "2023-01-15T19:36:42.746Z"
   },
   {
    "duration": 0,
    "start_time": "2023-01-15T19:36:42.748Z"
   },
   {
    "duration": 0,
    "start_time": "2023-01-15T19:36:42.750Z"
   },
   {
    "duration": 0,
    "start_time": "2023-01-15T19:36:42.751Z"
   },
   {
    "duration": 10,
    "start_time": "2023-01-15T19:41:26.979Z"
   },
   {
    "duration": 8,
    "start_time": "2023-01-15T19:47:54.746Z"
   },
   {
    "duration": 10,
    "start_time": "2023-01-15T19:59:23.232Z"
   },
   {
    "duration": 8,
    "start_time": "2023-01-15T19:59:25.359Z"
   },
   {
    "duration": 4540,
    "start_time": "2023-01-15T19:59:27.058Z"
   },
   {
    "duration": 12,
    "start_time": "2023-01-15T20:10:35.855Z"
   },
   {
    "duration": 1458,
    "start_time": "2023-01-15T20:10:40.349Z"
   },
   {
    "duration": 1790,
    "start_time": "2023-01-15T20:10:41.809Z"
   },
   {
    "duration": 31,
    "start_time": "2023-01-15T20:10:43.600Z"
   },
   {
    "duration": 17,
    "start_time": "2023-01-15T20:10:43.633Z"
   },
   {
    "duration": 13,
    "start_time": "2023-01-15T20:10:43.652Z"
   },
   {
    "duration": 6,
    "start_time": "2023-01-15T20:10:43.666Z"
   },
   {
    "duration": 53,
    "start_time": "2023-01-15T20:10:43.673Z"
   },
   {
    "duration": 20,
    "start_time": "2023-01-15T20:10:43.730Z"
   },
   {
    "duration": 5,
    "start_time": "2023-01-15T20:10:43.752Z"
   },
   {
    "duration": 11,
    "start_time": "2023-01-15T20:10:43.759Z"
   },
   {
    "duration": 11,
    "start_time": "2023-01-15T20:10:43.772Z"
   },
   {
    "duration": 487,
    "start_time": "2023-01-15T20:10:43.785Z"
   },
   {
    "duration": 7,
    "start_time": "2023-01-15T20:10:44.273Z"
   },
   {
    "duration": 72,
    "start_time": "2023-01-15T20:10:44.283Z"
   },
   {
    "duration": 35,
    "start_time": "2023-01-15T20:10:44.357Z"
   },
   {
    "duration": 4,
    "start_time": "2023-01-15T20:10:44.393Z"
   },
   {
    "duration": 26,
    "start_time": "2023-01-15T20:10:44.398Z"
   },
   {
    "duration": 4074,
    "start_time": "2023-01-15T20:10:44.430Z"
   },
   {
    "duration": 11,
    "start_time": "2023-01-15T20:10:48.506Z"
   },
   {
    "duration": 765,
    "start_time": "2023-01-15T20:10:48.519Z"
   },
   {
    "duration": 858,
    "start_time": "2023-01-15T20:10:49.287Z"
   },
   {
    "duration": 90,
    "start_time": "2023-01-15T20:10:50.147Z"
   },
   {
    "duration": 1157,
    "start_time": "2023-01-15T20:10:50.239Z"
   },
   {
    "duration": 1108,
    "start_time": "2023-01-15T20:10:51.398Z"
   },
   {
    "duration": 1291,
    "start_time": "2023-01-15T20:10:52.515Z"
   },
   {
    "duration": 1274,
    "start_time": "2023-01-15T20:10:53.808Z"
   },
   {
    "duration": 4,
    "start_time": "2023-01-15T20:10:55.084Z"
   },
   {
    "duration": 632,
    "start_time": "2023-01-15T20:10:55.090Z"
   },
   {
    "duration": 815,
    "start_time": "2023-01-15T20:10:55.725Z"
   },
   {
    "duration": 1936,
    "start_time": "2023-01-15T20:10:56.616Z"
   },
   {
    "duration": 1962,
    "start_time": "2023-01-15T20:10:58.554Z"
   },
   {
    "duration": 7,
    "start_time": "2023-01-15T21:19:16.945Z"
   },
   {
    "duration": 69,
    "start_time": "2023-01-15T21:45:23.872Z"
   },
   {
    "duration": 1603,
    "start_time": "2023-01-15T21:45:38.723Z"
   },
   {
    "duration": 1660,
    "start_time": "2023-01-15T21:45:40.328Z"
   },
   {
    "duration": 30,
    "start_time": "2023-01-15T21:45:41.990Z"
   },
   {
    "duration": 31,
    "start_time": "2023-01-15T21:45:42.022Z"
   },
   {
    "duration": 20,
    "start_time": "2023-01-15T21:45:42.054Z"
   },
   {
    "duration": 32,
    "start_time": "2023-01-15T21:45:42.075Z"
   },
   {
    "duration": 41,
    "start_time": "2023-01-15T21:45:42.109Z"
   },
   {
    "duration": 38,
    "start_time": "2023-01-15T21:45:42.152Z"
   },
   {
    "duration": 9,
    "start_time": "2023-01-15T21:45:42.191Z"
   },
   {
    "duration": 25,
    "start_time": "2023-01-15T21:45:42.202Z"
   },
   {
    "duration": 28,
    "start_time": "2023-01-15T21:45:42.228Z"
   },
   {
    "duration": 500,
    "start_time": "2023-01-15T21:45:42.258Z"
   },
   {
    "duration": 7,
    "start_time": "2023-01-15T21:45:42.760Z"
   },
   {
    "duration": 77,
    "start_time": "2023-01-15T21:45:42.768Z"
   },
   {
    "duration": 45,
    "start_time": "2023-01-15T21:45:42.847Z"
   },
   {
    "duration": 15,
    "start_time": "2023-01-15T21:45:42.894Z"
   },
   {
    "duration": 16,
    "start_time": "2023-01-15T21:45:42.910Z"
   },
   {
    "duration": 4230,
    "start_time": "2023-01-15T21:45:42.928Z"
   },
   {
    "duration": 4,
    "start_time": "2023-01-15T21:45:47.160Z"
   },
   {
    "duration": 922,
    "start_time": "2023-01-15T21:45:47.165Z"
   },
   {
    "duration": 789,
    "start_time": "2023-01-15T21:45:48.089Z"
   },
   {
    "duration": 482,
    "start_time": "2023-01-15T21:45:48.880Z"
   },
   {
    "duration": 1315,
    "start_time": "2023-01-15T21:45:49.398Z"
   },
   {
    "duration": 1427,
    "start_time": "2023-01-15T21:45:50.715Z"
   },
   {
    "duration": 1377,
    "start_time": "2023-01-15T21:45:52.144Z"
   },
   {
    "duration": 1427,
    "start_time": "2023-01-15T21:45:53.524Z"
   },
   {
    "duration": 6,
    "start_time": "2023-01-15T21:45:54.954Z"
   },
   {
    "duration": 674,
    "start_time": "2023-01-15T21:45:54.964Z"
   },
   {
    "duration": 1001,
    "start_time": "2023-01-15T21:45:55.640Z"
   },
   {
    "duration": 2016,
    "start_time": "2023-01-15T21:45:56.643Z"
   },
   {
    "duration": 2050,
    "start_time": "2023-01-15T21:45:58.661Z"
   },
   {
    "duration": 1420,
    "start_time": "2023-01-15T21:58:40.833Z"
   },
   {
    "duration": 147,
    "start_time": "2023-01-15T21:59:17.902Z"
   },
   {
    "duration": 478,
    "start_time": "2023-01-15T21:59:29.130Z"
   },
   {
    "duration": 503,
    "start_time": "2023-01-15T21:59:40.879Z"
   },
   {
    "duration": 554,
    "start_time": "2023-01-15T21:59:46.845Z"
   },
   {
    "duration": 501,
    "start_time": "2023-01-15T21:59:52.150Z"
   },
   {
    "duration": 1429,
    "start_time": "2023-01-15T22:07:41.409Z"
   },
   {
    "duration": 14,
    "start_time": "2023-01-15T22:08:33.836Z"
   },
   {
    "duration": 411,
    "start_time": "2023-01-15T22:09:06.096Z"
   },
   {
    "duration": 4,
    "start_time": "2023-01-15T22:09:19.416Z"
   },
   {
    "duration": 376,
    "start_time": "2023-01-15T22:09:57.034Z"
   },
   {
    "duration": 8,
    "start_time": "2023-01-15T22:10:11.687Z"
   },
   {
    "duration": 6,
    "start_time": "2023-01-15T22:10:33.818Z"
   },
   {
    "duration": 458,
    "start_time": "2023-01-15T22:11:17.219Z"
   },
   {
    "duration": 7,
    "start_time": "2023-01-15T22:11:41.364Z"
   },
   {
    "duration": 404,
    "start_time": "2023-01-15T22:11:43.565Z"
   },
   {
    "duration": 4,
    "start_time": "2023-01-15T22:11:55.149Z"
   },
   {
    "duration": 462,
    "start_time": "2023-01-15T22:11:58.110Z"
   },
   {
    "duration": 862,
    "start_time": "2023-01-15T22:16:02.324Z"
   },
   {
    "duration": 4,
    "start_time": "2023-01-15T22:16:17.207Z"
   },
   {
    "duration": 784,
    "start_time": "2023-01-15T22:16:28.928Z"
   },
   {
    "duration": 804,
    "start_time": "2023-01-15T22:16:48.276Z"
   },
   {
    "duration": 884,
    "start_time": "2023-01-15T22:17:29.837Z"
   },
   {
    "duration": 1445,
    "start_time": "2023-01-15T22:17:42.115Z"
   },
   {
    "duration": 1611,
    "start_time": "2023-01-15T22:17:43.562Z"
   },
   {
    "duration": 24,
    "start_time": "2023-01-15T22:17:45.174Z"
   },
   {
    "duration": 17,
    "start_time": "2023-01-15T22:17:45.200Z"
   },
   {
    "duration": 13,
    "start_time": "2023-01-15T22:17:45.235Z"
   },
   {
    "duration": 6,
    "start_time": "2023-01-15T22:17:45.250Z"
   },
   {
    "duration": 25,
    "start_time": "2023-01-15T22:17:45.258Z"
   },
   {
    "duration": 13,
    "start_time": "2023-01-15T22:17:45.285Z"
   },
   {
    "duration": 6,
    "start_time": "2023-01-15T22:17:45.299Z"
   },
   {
    "duration": 9,
    "start_time": "2023-01-15T22:17:45.335Z"
   },
   {
    "duration": 13,
    "start_time": "2023-01-15T22:17:45.346Z"
   },
   {
    "duration": 442,
    "start_time": "2023-01-15T22:17:45.361Z"
   },
   {
    "duration": 7,
    "start_time": "2023-01-15T22:17:45.805Z"
   },
   {
    "duration": 69,
    "start_time": "2023-01-15T22:17:45.814Z"
   },
   {
    "duration": 34,
    "start_time": "2023-01-15T22:17:45.885Z"
   },
   {
    "duration": 16,
    "start_time": "2023-01-15T22:17:45.920Z"
   },
   {
    "duration": 9,
    "start_time": "2023-01-15T22:17:45.938Z"
   },
   {
    "duration": 4259,
    "start_time": "2023-01-15T22:17:45.948Z"
   },
   {
    "duration": 6,
    "start_time": "2023-01-15T22:17:50.209Z"
   },
   {
    "duration": 748,
    "start_time": "2023-01-15T22:17:50.216Z"
   },
   {
    "duration": 702,
    "start_time": "2023-01-15T22:17:50.966Z"
   },
   {
    "duration": 1490,
    "start_time": "2023-01-15T22:17:51.670Z"
   },
   {
    "duration": 425,
    "start_time": "2023-01-15T22:17:53.162Z"
   },
   {
    "duration": 383,
    "start_time": "2023-01-15T22:17:53.589Z"
   },
   {
    "duration": 396,
    "start_time": "2023-01-15T22:17:53.973Z"
   },
   {
    "duration": 402,
    "start_time": "2023-01-15T22:17:54.370Z"
   },
   {
    "duration": 3,
    "start_time": "2023-01-15T22:17:54.774Z"
   },
   {
    "duration": 6,
    "start_time": "2023-01-15T22:17:54.780Z"
   },
   {
    "duration": 402,
    "start_time": "2023-01-15T22:17:54.788Z"
   },
   {
    "duration": 4,
    "start_time": "2023-01-15T22:17:55.192Z"
   },
   {
    "duration": 546,
    "start_time": "2023-01-15T22:17:55.198Z"
   },
   {
    "duration": 902,
    "start_time": "2023-01-15T22:17:55.747Z"
   },
   {
    "duration": 1835,
    "start_time": "2023-01-15T22:17:56.737Z"
   },
   {
    "duration": 1893,
    "start_time": "2023-01-15T22:17:58.573Z"
   },
   {
    "duration": 50,
    "start_time": "2023-01-15T22:18:36.080Z"
   },
   {
    "duration": 8,
    "start_time": "2023-01-15T22:18:39.690Z"
   },
   {
    "duration": 14,
    "start_time": "2023-01-15T22:21:29.669Z"
   },
   {
    "duration": 406,
    "start_time": "2023-01-15T22:21:37.774Z"
   },
   {
    "duration": 412,
    "start_time": "2023-01-15T22:22:12.235Z"
   },
   {
    "duration": 678,
    "start_time": "2023-01-15T22:23:06.905Z"
   },
   {
    "duration": 491,
    "start_time": "2023-01-15T22:23:09.415Z"
   },
   {
    "duration": 462,
    "start_time": "2023-01-15T22:23:46.723Z"
   },
   {
    "duration": 1321,
    "start_time": "2023-01-15T22:24:55.270Z"
   },
   {
    "duration": 1475,
    "start_time": "2023-01-15T22:24:56.593Z"
   },
   {
    "duration": 25,
    "start_time": "2023-01-15T22:24:58.070Z"
   },
   {
    "duration": 16,
    "start_time": "2023-01-15T22:24:58.097Z"
   },
   {
    "duration": 31,
    "start_time": "2023-01-15T22:24:58.115Z"
   },
   {
    "duration": 7,
    "start_time": "2023-01-15T22:24:58.148Z"
   },
   {
    "duration": 23,
    "start_time": "2023-01-15T22:24:58.157Z"
   },
   {
    "duration": 14,
    "start_time": "2023-01-15T22:24:58.182Z"
   },
   {
    "duration": 5,
    "start_time": "2023-01-15T22:24:58.197Z"
   },
   {
    "duration": 35,
    "start_time": "2023-01-15T22:24:58.204Z"
   },
   {
    "duration": 12,
    "start_time": "2023-01-15T22:24:58.241Z"
   },
   {
    "duration": 477,
    "start_time": "2023-01-15T22:24:58.255Z"
   },
   {
    "duration": 6,
    "start_time": "2023-01-15T22:24:58.736Z"
   },
   {
    "duration": 56,
    "start_time": "2023-01-15T22:24:58.745Z"
   },
   {
    "duration": 53,
    "start_time": "2023-01-15T22:24:58.803Z"
   },
   {
    "duration": 4,
    "start_time": "2023-01-15T22:24:58.858Z"
   },
   {
    "duration": 15,
    "start_time": "2023-01-15T22:24:58.864Z"
   },
   {
    "duration": 4184,
    "start_time": "2023-01-15T22:24:58.880Z"
   },
   {
    "duration": 4,
    "start_time": "2023-01-15T22:25:03.065Z"
   },
   {
    "duration": 693,
    "start_time": "2023-01-15T22:25:03.071Z"
   },
   {
    "duration": 710,
    "start_time": "2023-01-15T22:25:03.767Z"
   },
   {
    "duration": 1390,
    "start_time": "2023-01-15T22:25:04.478Z"
   },
   {
    "duration": 508,
    "start_time": "2023-01-15T22:25:05.870Z"
   },
   {
    "duration": 513,
    "start_time": "2023-01-15T22:25:06.380Z"
   },
   {
    "duration": 489,
    "start_time": "2023-01-15T22:25:06.895Z"
   },
   {
    "duration": 396,
    "start_time": "2023-01-15T22:25:07.386Z"
   },
   {
    "duration": 4,
    "start_time": "2023-01-15T22:25:07.783Z"
   },
   {
    "duration": 687,
    "start_time": "2023-01-15T22:25:07.788Z"
   },
   {
    "duration": 417,
    "start_time": "2023-01-15T22:25:08.477Z"
   },
   {
    "duration": 476,
    "start_time": "2023-01-15T22:25:08.895Z"
   },
   {
    "duration": 4,
    "start_time": "2023-01-15T22:25:09.373Z"
   },
   {
    "duration": 463,
    "start_time": "2023-01-15T22:25:09.379Z"
   },
   {
    "duration": 999,
    "start_time": "2023-01-15T22:25:09.846Z"
   },
   {
    "duration": 1978,
    "start_time": "2023-01-15T22:25:10.935Z"
   },
   {
    "duration": 2064,
    "start_time": "2023-01-15T22:25:12.915Z"
   },
   {
    "duration": 5,
    "start_time": "2023-01-15T22:25:28.058Z"
   },
   {
    "duration": 761,
    "start_time": "2023-01-15T22:30:06.378Z"
   },
   {
    "duration": 897,
    "start_time": "2023-01-15T22:30:22.477Z"
   },
   {
    "duration": 693,
    "start_time": "2023-01-15T22:30:27.169Z"
   },
   {
    "duration": 750,
    "start_time": "2023-01-15T22:30:37.742Z"
   },
   {
    "duration": 41,
    "start_time": "2023-01-15T22:32:05.915Z"
   },
   {
    "duration": 719,
    "start_time": "2023-01-15T22:32:16.931Z"
   },
   {
    "duration": 49,
    "start_time": "2023-01-15T22:36:45.277Z"
   },
   {
    "duration": 50,
    "start_time": "2023-01-15T22:36:48.134Z"
   },
   {
    "duration": 49,
    "start_time": "2023-01-15T22:36:49.897Z"
   },
   {
    "duration": 47,
    "start_time": "2023-01-15T22:36:58.234Z"
   },
   {
    "duration": 965,
    "start_time": "2023-01-15T22:37:35.728Z"
   },
   {
    "duration": 919,
    "start_time": "2023-01-15T22:39:12.735Z"
   },
   {
    "duration": 716,
    "start_time": "2023-01-15T22:39:18.911Z"
   },
   {
    "duration": 460,
    "start_time": "2023-01-15T22:39:19.629Z"
   },
   {
    "duration": 398,
    "start_time": "2023-01-15T22:39:20.091Z"
   },
   {
    "duration": 765,
    "start_time": "2023-01-15T22:40:22.246Z"
   },
   {
    "duration": 12,
    "start_time": "2023-01-15T22:41:20.670Z"
   },
   {
    "duration": 3,
    "start_time": "2023-01-15T23:11:59.238Z"
   },
   {
    "duration": 4,
    "start_time": "2023-01-16T00:41:05.749Z"
   },
   {
    "duration": 4,
    "start_time": "2023-01-16T00:41:32.035Z"
   },
   {
    "duration": 3,
    "start_time": "2023-01-16T00:45:30.634Z"
   },
   {
    "duration": 998,
    "start_time": "2023-01-16T00:45:31.646Z"
   },
   {
    "duration": 852,
    "start_time": "2023-01-16T00:46:24.083Z"
   },
   {
    "duration": 443,
    "start_time": "2023-01-16T00:48:29.597Z"
   },
   {
    "duration": 1325,
    "start_time": "2023-01-16T00:48:34.795Z"
   },
   {
    "duration": 1451,
    "start_time": "2023-01-16T00:48:36.122Z"
   },
   {
    "duration": 25,
    "start_time": "2023-01-16T00:48:37.575Z"
   },
   {
    "duration": 34,
    "start_time": "2023-01-16T00:48:37.601Z"
   },
   {
    "duration": 13,
    "start_time": "2023-01-16T00:48:37.638Z"
   },
   {
    "duration": 9,
    "start_time": "2023-01-16T00:48:37.652Z"
   },
   {
    "duration": 30,
    "start_time": "2023-01-16T00:48:37.663Z"
   },
   {
    "duration": 21,
    "start_time": "2023-01-16T00:48:37.695Z"
   },
   {
    "duration": 8,
    "start_time": "2023-01-16T00:48:37.717Z"
   },
   {
    "duration": 9,
    "start_time": "2023-01-16T00:48:37.736Z"
   },
   {
    "duration": 13,
    "start_time": "2023-01-16T00:48:37.746Z"
   },
   {
    "duration": 487,
    "start_time": "2023-01-16T00:48:37.761Z"
   },
   {
    "duration": 9,
    "start_time": "2023-01-16T00:48:38.250Z"
   },
   {
    "duration": 81,
    "start_time": "2023-01-16T00:48:38.262Z"
   },
   {
    "duration": 55,
    "start_time": "2023-01-16T00:48:38.345Z"
   },
   {
    "duration": 4,
    "start_time": "2023-01-16T00:48:38.402Z"
   },
   {
    "duration": 23,
    "start_time": "2023-01-16T00:48:38.408Z"
   },
   {
    "duration": 4236,
    "start_time": "2023-01-16T00:48:38.433Z"
   },
   {
    "duration": 4,
    "start_time": "2023-01-16T00:48:42.671Z"
   },
   {
    "duration": 689,
    "start_time": "2023-01-16T00:48:42.677Z"
   },
   {
    "duration": 706,
    "start_time": "2023-01-16T00:48:43.368Z"
   },
   {
    "duration": 1410,
    "start_time": "2023-01-16T00:48:44.075Z"
   },
   {
    "duration": 513,
    "start_time": "2023-01-16T00:48:45.486Z"
   },
   {
    "duration": 391,
    "start_time": "2023-01-16T00:48:46.001Z"
   },
   {
    "duration": 499,
    "start_time": "2023-01-16T00:48:46.394Z"
   },
   {
    "duration": 389,
    "start_time": "2023-01-16T00:48:46.894Z"
   },
   {
    "duration": 12,
    "start_time": "2023-01-16T00:48:47.285Z"
   },
   {
    "duration": 5,
    "start_time": "2023-01-16T00:48:47.299Z"
   },
   {
    "duration": 11,
    "start_time": "2023-01-16T00:48:47.306Z"
   },
   {
    "duration": 618,
    "start_time": "2023-01-16T00:48:47.318Z"
   },
   {
    "duration": 703,
    "start_time": "2023-01-16T00:48:47.942Z"
   },
   {
    "duration": 1440,
    "start_time": "2023-01-16T00:48:48.742Z"
   },
   {
    "duration": 0,
    "start_time": "2023-01-16T00:48:50.183Z"
   },
   {
    "duration": 4,
    "start_time": "2023-01-16T00:52:28.655Z"
   },
   {
    "duration": 2719,
    "start_time": "2023-01-16T01:01:39.784Z"
   },
   {
    "duration": 5260,
    "start_time": "2023-01-16T01:04:34.768Z"
   },
   {
    "duration": 5606,
    "start_time": "2023-01-16T01:05:15.057Z"
   },
   {
    "duration": 5302,
    "start_time": "2023-01-16T01:06:09.854Z"
   },
   {
    "duration": 811,
    "start_time": "2023-01-16T01:07:47.896Z"
   },
   {
    "duration": 10638,
    "start_time": "2023-01-16T01:09:15.051Z"
   },
   {
    "duration": 1024,
    "start_time": "2023-01-16T01:10:14.811Z"
   },
   {
    "duration": 1035,
    "start_time": "2023-01-16T01:10:22.201Z"
   },
   {
    "duration": 852,
    "start_time": "2023-01-16T01:10:35.076Z"
   },
   {
    "duration": 5,
    "start_time": "2023-01-16T01:18:43.530Z"
   },
   {
    "duration": 3,
    "start_time": "2023-01-16T01:24:06.701Z"
   },
   {
    "duration": 10,
    "start_time": "2023-01-16T01:29:33.431Z"
   },
   {
    "duration": 11,
    "start_time": "2023-01-16T01:29:52.735Z"
   },
   {
    "duration": 10,
    "start_time": "2023-01-16T01:30:38.225Z"
   },
   {
    "duration": 7,
    "start_time": "2023-01-16T01:30:46.395Z"
   },
   {
    "duration": 10,
    "start_time": "2023-01-16T01:40:43.322Z"
   },
   {
    "duration": 6,
    "start_time": "2023-01-16T01:41:10.692Z"
   },
   {
    "duration": 958,
    "start_time": "2023-01-16T01:42:07.978Z"
   },
   {
    "duration": 993,
    "start_time": "2023-01-16T01:42:39.143Z"
   },
   {
    "duration": 812,
    "start_time": "2023-01-16T01:49:13.025Z"
   },
   {
    "duration": 10387,
    "start_time": "2023-01-16T01:49:23.734Z"
   },
   {
    "duration": 3,
    "start_time": "2023-01-16T02:04:05.331Z"
   },
   {
    "duration": 2117,
    "start_time": "2023-01-16T02:09:13.129Z"
   },
   {
    "duration": 326,
    "start_time": "2023-01-16T02:09:33.513Z"
   },
   {
    "duration": 285,
    "start_time": "2023-01-16T02:11:04.455Z"
   },
   {
    "duration": 278,
    "start_time": "2023-01-16T02:11:11.631Z"
   },
   {
    "duration": 315,
    "start_time": "2023-01-16T02:11:19.180Z"
   },
   {
    "duration": 301,
    "start_time": "2023-01-16T02:11:25.180Z"
   },
   {
    "duration": 1355,
    "start_time": "2023-01-16T02:15:54.232Z"
   },
   {
    "duration": 1587,
    "start_time": "2023-01-16T02:15:55.589Z"
   },
   {
    "duration": 26,
    "start_time": "2023-01-16T02:15:57.178Z"
   },
   {
    "duration": 41,
    "start_time": "2023-01-16T02:15:57.206Z"
   },
   {
    "duration": 14,
    "start_time": "2023-01-16T02:15:57.250Z"
   },
   {
    "duration": 6,
    "start_time": "2023-01-16T02:15:57.266Z"
   },
   {
    "duration": 24,
    "start_time": "2023-01-16T02:15:57.274Z"
   },
   {
    "duration": 36,
    "start_time": "2023-01-16T02:15:57.300Z"
   },
   {
    "duration": 6,
    "start_time": "2023-01-16T02:15:57.338Z"
   },
   {
    "duration": 14,
    "start_time": "2023-01-16T02:15:57.346Z"
   },
   {
    "duration": 13,
    "start_time": "2023-01-16T02:15:57.362Z"
   },
   {
    "duration": 443,
    "start_time": "2023-01-16T02:15:57.377Z"
   },
   {
    "duration": 15,
    "start_time": "2023-01-16T02:15:57.821Z"
   },
   {
    "duration": 58,
    "start_time": "2023-01-16T02:15:57.840Z"
   },
   {
    "duration": 55,
    "start_time": "2023-01-16T02:15:57.900Z"
   },
   {
    "duration": 5,
    "start_time": "2023-01-16T02:15:57.956Z"
   },
   {
    "duration": 11,
    "start_time": "2023-01-16T02:15:57.962Z"
   },
   {
    "duration": 4006,
    "start_time": "2023-01-16T02:15:57.975Z"
   },
   {
    "duration": 6,
    "start_time": "2023-01-16T02:16:01.983Z"
   },
   {
    "duration": 758,
    "start_time": "2023-01-16T02:16:01.990Z"
   },
   {
    "duration": 719,
    "start_time": "2023-01-16T02:16:02.749Z"
   },
   {
    "duration": 1418,
    "start_time": "2023-01-16T02:16:03.470Z"
   },
   {
    "duration": 401,
    "start_time": "2023-01-16T02:16:04.889Z"
   },
   {
    "duration": 385,
    "start_time": "2023-01-16T02:16:05.292Z"
   },
   {
    "duration": 399,
    "start_time": "2023-01-16T02:16:05.679Z"
   },
   {
    "duration": 395,
    "start_time": "2023-01-16T02:16:06.079Z"
   },
   {
    "duration": 12,
    "start_time": "2023-01-16T02:16:06.475Z"
   },
   {
    "duration": 6,
    "start_time": "2023-01-16T02:16:06.488Z"
   },
   {
    "duration": 20,
    "start_time": "2023-01-16T02:16:06.496Z"
   },
   {
    "duration": 628,
    "start_time": "2023-01-16T02:16:06.517Z"
   },
   {
    "duration": 10566,
    "start_time": "2023-01-16T02:16:07.146Z"
   },
   {
    "duration": 7,
    "start_time": "2023-01-16T02:16:17.713Z"
   },
   {
    "duration": 321,
    "start_time": "2023-01-16T02:16:17.722Z"
   },
   {
    "duration": 290,
    "start_time": "2023-01-16T02:16:40.539Z"
   },
   {
    "duration": 286,
    "start_time": "2023-01-16T02:33:10.593Z"
   },
   {
    "duration": 301,
    "start_time": "2023-01-16T02:42:10.436Z"
   },
   {
    "duration": 387,
    "start_time": "2023-01-16T02:42:19.181Z"
   },
   {
    "duration": 287,
    "start_time": "2023-01-16T02:42:32.140Z"
   },
   {
    "duration": 321,
    "start_time": "2023-01-16T02:48:52.237Z"
   },
   {
    "duration": 1012,
    "start_time": "2023-01-16T02:54:48.515Z"
   },
   {
    "duration": 292,
    "start_time": "2023-01-16T02:55:01.255Z"
   },
   {
    "duration": 312,
    "start_time": "2023-01-16T02:55:27.328Z"
   },
   {
    "duration": 163,
    "start_time": "2023-01-16T02:55:54.579Z"
   },
   {
    "duration": 275,
    "start_time": "2023-01-16T03:00:27.255Z"
   },
   {
    "duration": 163,
    "start_time": "2023-01-16T03:00:29.077Z"
   },
   {
    "duration": 293,
    "start_time": "2023-01-16T03:07:29.987Z"
   },
   {
    "duration": 213,
    "start_time": "2023-01-16T03:07:31.923Z"
   },
   {
    "duration": 302,
    "start_time": "2023-01-16T03:07:53.349Z"
   },
   {
    "duration": 130,
    "start_time": "2023-01-16T03:07:54.907Z"
   },
   {
    "duration": 459,
    "start_time": "2023-01-16T03:09:48.081Z"
   },
   {
    "duration": 365,
    "start_time": "2023-01-16T03:10:31.574Z"
   },
   {
    "duration": 531,
    "start_time": "2023-01-16T03:10:45.608Z"
   },
   {
    "duration": 411,
    "start_time": "2023-01-16T03:10:51.334Z"
   },
   {
    "duration": 502,
    "start_time": "2023-01-16T03:10:59.240Z"
   },
   {
    "duration": 550,
    "start_time": "2023-01-16T03:11:12.391Z"
   },
   {
    "duration": 420,
    "start_time": "2023-01-16T03:11:24.316Z"
   },
   {
    "duration": 58,
    "start_time": "2023-01-16T03:12:06.904Z"
   },
   {
    "duration": 1513,
    "start_time": "2023-01-16T03:12:49.241Z"
   },
   {
    "duration": 1770,
    "start_time": "2023-01-16T03:12:50.756Z"
   },
   {
    "duration": 42,
    "start_time": "2023-01-16T03:12:52.528Z"
   },
   {
    "duration": 32,
    "start_time": "2023-01-16T03:12:52.572Z"
   },
   {
    "duration": 33,
    "start_time": "2023-01-16T03:12:52.608Z"
   },
   {
    "duration": 6,
    "start_time": "2023-01-16T03:12:52.642Z"
   },
   {
    "duration": 35,
    "start_time": "2023-01-16T03:12:52.650Z"
   },
   {
    "duration": 23,
    "start_time": "2023-01-16T03:12:52.686Z"
   },
   {
    "duration": 7,
    "start_time": "2023-01-16T03:12:52.711Z"
   },
   {
    "duration": 43,
    "start_time": "2023-01-16T03:12:52.719Z"
   },
   {
    "duration": 22,
    "start_time": "2023-01-16T03:12:52.764Z"
   },
   {
    "duration": 472,
    "start_time": "2023-01-16T03:12:52.788Z"
   },
   {
    "duration": 8,
    "start_time": "2023-01-16T03:12:53.262Z"
   },
   {
    "duration": 90,
    "start_time": "2023-01-16T03:12:53.273Z"
   },
   {
    "duration": 49,
    "start_time": "2023-01-16T03:12:53.365Z"
   },
   {
    "duration": 4,
    "start_time": "2023-01-16T03:12:53.416Z"
   },
   {
    "duration": 18,
    "start_time": "2023-01-16T03:12:53.421Z"
   },
   {
    "duration": 4124,
    "start_time": "2023-01-16T03:12:53.440Z"
   },
   {
    "duration": 5,
    "start_time": "2023-01-16T03:12:57.565Z"
   },
   {
    "duration": 844,
    "start_time": "2023-01-16T03:12:57.572Z"
   },
   {
    "duration": 756,
    "start_time": "2023-01-16T03:12:58.418Z"
   },
   {
    "duration": 1463,
    "start_time": "2023-01-16T03:12:59.176Z"
   },
   {
    "duration": 454,
    "start_time": "2023-01-16T03:13:00.641Z"
   },
   {
    "duration": 494,
    "start_time": "2023-01-16T03:13:01.097Z"
   },
   {
    "duration": 504,
    "start_time": "2023-01-16T03:13:01.594Z"
   },
   {
    "duration": 521,
    "start_time": "2023-01-16T03:13:02.101Z"
   },
   {
    "duration": 22,
    "start_time": "2023-01-16T03:13:02.624Z"
   },
   {
    "duration": 91,
    "start_time": "2023-01-16T03:13:02.648Z"
   },
   {
    "duration": 33,
    "start_time": "2023-01-16T03:13:02.741Z"
   },
   {
    "duration": 775,
    "start_time": "2023-01-16T03:13:02.775Z"
   },
   {
    "duration": 11,
    "start_time": "2023-01-16T03:13:03.637Z"
   },
   {
    "duration": 10633,
    "start_time": "2023-01-16T03:13:03.736Z"
   },
   {
    "duration": 306,
    "start_time": "2023-01-16T03:13:14.371Z"
   },
   {
    "duration": 155,
    "start_time": "2023-01-16T03:13:14.680Z"
   },
   {
    "duration": 607,
    "start_time": "2023-01-16T03:13:14.838Z"
   },
   {
    "duration": 306,
    "start_time": "2023-01-16T03:14:56.402Z"
   },
   {
    "duration": 64,
    "start_time": "2023-01-16T03:14:58.276Z"
   },
   {
    "duration": 1323,
    "start_time": "2023-01-16T03:17:29.783Z"
   },
   {
    "duration": 1606,
    "start_time": "2023-01-16T03:17:31.108Z"
   },
   {
    "duration": 33,
    "start_time": "2023-01-16T03:17:32.716Z"
   },
   {
    "duration": 16,
    "start_time": "2023-01-16T03:17:32.752Z"
   },
   {
    "duration": 13,
    "start_time": "2023-01-16T03:17:32.770Z"
   },
   {
    "duration": 5,
    "start_time": "2023-01-16T03:17:32.785Z"
   },
   {
    "duration": 54,
    "start_time": "2023-01-16T03:17:32.791Z"
   },
   {
    "duration": 14,
    "start_time": "2023-01-16T03:17:32.847Z"
   },
   {
    "duration": 6,
    "start_time": "2023-01-16T03:17:32.862Z"
   },
   {
    "duration": 11,
    "start_time": "2023-01-16T03:17:32.870Z"
   },
   {
    "duration": 14,
    "start_time": "2023-01-16T03:17:32.883Z"
   },
   {
    "duration": 456,
    "start_time": "2023-01-16T03:17:32.898Z"
   },
   {
    "duration": 7,
    "start_time": "2023-01-16T03:17:33.356Z"
   },
   {
    "duration": 75,
    "start_time": "2023-01-16T03:17:33.365Z"
   },
   {
    "duration": 3,
    "start_time": "2023-01-16T03:17:33.442Z"
   },
   {
    "duration": 9,
    "start_time": "2023-01-16T03:17:33.447Z"
   },
   {
    "duration": 4285,
    "start_time": "2023-01-16T03:17:33.457Z"
   },
   {
    "duration": 4,
    "start_time": "2023-01-16T03:17:37.744Z"
   },
   {
    "duration": 733,
    "start_time": "2023-01-16T03:17:37.749Z"
   },
   {
    "duration": 789,
    "start_time": "2023-01-16T03:17:38.484Z"
   },
   {
    "duration": 1421,
    "start_time": "2023-01-16T03:17:39.275Z"
   },
   {
    "duration": 506,
    "start_time": "2023-01-16T03:17:40.697Z"
   },
   {
    "duration": 485,
    "start_time": "2023-01-16T03:17:41.205Z"
   },
   {
    "duration": 493,
    "start_time": "2023-01-16T03:17:41.692Z"
   },
   {
    "duration": 446,
    "start_time": "2023-01-16T03:17:42.187Z"
   },
   {
    "duration": 17,
    "start_time": "2023-01-16T03:17:42.635Z"
   },
   {
    "duration": 16,
    "start_time": "2023-01-16T03:17:42.654Z"
   },
   {
    "duration": 33,
    "start_time": "2023-01-16T03:17:42.676Z"
   },
   {
    "duration": 934,
    "start_time": "2023-01-16T03:17:42.711Z"
   },
   {
    "duration": 11237,
    "start_time": "2023-01-16T03:17:43.646Z"
   },
   {
    "duration": 330,
    "start_time": "2023-01-16T03:17:54.884Z"
   },
   {
    "duration": 230,
    "start_time": "2023-01-16T03:17:55.215Z"
   },
   {
    "duration": 691,
    "start_time": "2023-01-16T03:17:55.447Z"
   },
   {
    "duration": 53,
    "start_time": "2023-01-16T16:54:50.736Z"
   },
   {
    "duration": 44,
    "start_time": "2023-03-03T22:53:07.215Z"
   },
   {
    "duration": 1489,
    "start_time": "2023-03-03T22:53:11.808Z"
   },
   {
    "duration": 1891,
    "start_time": "2023-03-03T22:53:13.300Z"
   },
   {
    "duration": 21,
    "start_time": "2023-03-03T22:53:15.193Z"
   },
   {
    "duration": 15,
    "start_time": "2023-03-03T22:53:15.216Z"
   },
   {
    "duration": 12,
    "start_time": "2023-03-03T22:53:15.232Z"
   },
   {
    "duration": 5,
    "start_time": "2023-03-03T22:53:15.245Z"
   },
   {
    "duration": 47,
    "start_time": "2023-03-03T22:53:15.251Z"
   },
   {
    "duration": 12,
    "start_time": "2023-03-03T22:53:15.299Z"
   },
   {
    "duration": 5,
    "start_time": "2023-03-03T22:53:15.312Z"
   },
   {
    "duration": 10,
    "start_time": "2023-03-03T22:53:15.318Z"
   },
   {
    "duration": 12,
    "start_time": "2023-03-03T22:53:15.329Z"
   },
   {
    "duration": 404,
    "start_time": "2023-03-03T22:53:15.342Z"
   },
   {
    "duration": 6,
    "start_time": "2023-03-03T22:53:15.748Z"
   },
   {
    "duration": 77,
    "start_time": "2023-03-03T22:53:15.756Z"
   },
   {
    "duration": 31,
    "start_time": "2023-03-03T22:53:15.834Z"
   },
   {
    "duration": 4,
    "start_time": "2023-03-03T22:53:15.867Z"
   },
   {
    "duration": 24,
    "start_time": "2023-03-03T22:53:15.873Z"
   },
   {
    "duration": 4105,
    "start_time": "2023-03-03T22:53:15.899Z"
   },
   {
    "duration": 5,
    "start_time": "2023-03-03T22:53:20.005Z"
   },
   {
    "duration": 670,
    "start_time": "2023-03-03T22:53:20.011Z"
   },
   {
    "duration": 711,
    "start_time": "2023-03-03T22:53:20.683Z"
   },
   {
    "duration": 1249,
    "start_time": "2023-03-03T22:53:21.396Z"
   },
   {
    "duration": 389,
    "start_time": "2023-03-03T22:53:22.647Z"
   },
   {
    "duration": 375,
    "start_time": "2023-03-03T22:53:23.038Z"
   },
   {
    "duration": 395,
    "start_time": "2023-03-03T22:53:23.415Z"
   },
   {
    "duration": 411,
    "start_time": "2023-03-03T22:53:23.811Z"
   },
   {
    "duration": 11,
    "start_time": "2023-03-03T22:53:24.223Z"
   },
   {
    "duration": 36,
    "start_time": "2023-03-03T22:53:24.235Z"
   },
   {
    "duration": 13,
    "start_time": "2023-03-03T22:53:24.273Z"
   },
   {
    "duration": 917,
    "start_time": "2023-03-03T22:53:24.287Z"
   },
   {
    "duration": 9599,
    "start_time": "2023-03-03T22:53:25.293Z"
   },
   {
    "duration": 274,
    "start_time": "2023-03-03T22:53:34.893Z"
   },
   {
    "duration": 132,
    "start_time": "2023-03-03T22:53:35.168Z"
   },
   {
    "duration": 401,
    "start_time": "2023-03-03T22:53:35.392Z"
   }
  ],
  "colab": {
   "provenance": []
  },
  "kernelspec": {
   "display_name": "Python 3 (ipykernel)",
   "language": "python",
   "name": "python3"
  },
  "language_info": {
   "codemirror_mode": {
    "name": "ipython",
    "version": 3
   },
   "file_extension": ".py",
   "mimetype": "text/x-python",
   "name": "python",
   "nbconvert_exporter": "python",
   "pygments_lexer": "ipython3",
   "version": "3.9.5"
  },
  "toc": {
   "base_numbering": 1,
   "nav_menu": {},
   "number_sections": true,
   "sideBar": true,
   "skip_h1_title": true,
   "title_cell": "Table of Contents",
   "title_sidebar": "Contents",
   "toc_cell": false,
   "toc_position": {},
   "toc_section_display": true,
   "toc_window_display": false
  }
 },
 "nbformat": 4,
 "nbformat_minor": 0
}
