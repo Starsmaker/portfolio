{
 "cells": [
  {
   "cell_type": "markdown",
   "metadata": {
    "id": "bJMWVumuaqrR"
   },
   "source": [
    "## Подготовка данных"
   ]
  },
  {
   "cell_type": "code",
   "execution_count": null,
   "metadata": {
    "id": "4h8xZ2w9HiR7"
   },
   "outputs": [],
   "source": [
    "import pandas as pd\n",
    "from sklearn.model_selection import train_test_split\n",
    "from sklearn.preprocessing import OneHotEncoder \n",
    "from sklearn.preprocessing import OrdinalEncoder\n",
    "import numpy as np\n",
    "from sklearn.preprocessing import StandardScaler\n",
    "from sklearn.linear_model import LinearRegression\n",
    "from sklearn.model_selection import GridSearchCV\n",
    "from sklearn.metrics import mean_squared_error as MSE\n",
    "from math import sqrt\n",
    "import xgboost as xg\n",
    "import lightgbm as lgb\n",
    "import matplotlib.pyplot as plt"
   ]
  },
  {
   "cell_type": "code",
   "execution_count": null,
   "metadata": {
    "colab": {
     "base_uri": "https://localhost:8080/"
    },
    "id": "lPAEdzlHpSU_",
    "outputId": "274958da-fe1e-4b7d-f4c9-30972e8afe33"
   },
   "outputs": [],
   "source": [
    "df = pd.read_csv('/datasets/autos.csv')"
   ]
  },
  {
   "cell_type": "code",
   "execution_count": null,
   "metadata": {
    "colab": {
     "base_uri": "https://localhost:8080/"
    },
    "id": "7CqdP93vHn2c",
    "outputId": "6c695ca6-5b11-4d87-85f4-87949ae5cb19"
   },
   "outputs": [],
   "source": [
    "df.info()"
   ]
  },
  {
   "cell_type": "code",
   "execution_count": null,
   "metadata": {
    "colab": {
     "base_uri": "https://localhost:8080/"
    },
    "id": "0Ubb99FCbf8T",
    "outputId": "b4c6ca7f-d3cf-44d0-a8ea-a7c566dd8cdb"
   },
   "outputs": [],
   "source": [
    "df.columns"
   ]
  },
  {
   "cell_type": "markdown",
   "metadata": {
    "id": "kNTH07i8dGmY"
   },
   "source": [
    "Удалим столбцы, не нужные для обучения - это столбцы с информацией о дате скачивания анкеты из базы, дате создания анкеты, количестве информации автомобиля, почтовом индексом владельца анкеты и дате последней активности пользователя"
   ]
  },
  {
   "cell_type": "code",
   "execution_count": null,
   "metadata": {
    "id": "i7I5_kEtfRdm"
   },
   "outputs": [],
   "source": [
    "df = df.drop(['DateCrawled','RegistrationMonth','DateCreated', 'NumberOfPictures','PostalCode','LastSeen'], axis = 1)"
   ]
  },
  {
   "cell_type": "code",
   "execution_count": null,
   "metadata": {
    "colab": {
     "base_uri": "https://localhost:8080/",
     "height": 363
    },
    "id": "Iu83UoAchJ1L",
    "outputId": "40546de4-25a3-4d53-dab2-3fb1a6dc30c5"
   },
   "outputs": [],
   "source": [
    "df.head(10)"
   ]
  },
  {
   "cell_type": "markdown",
   "metadata": {
    "id": "2K5Hi-UVY1gz"
   },
   "source": [
    "Рассмотрим уникальные значения в категориальных признаках"
   ]
  },
  {
   "cell_type": "code",
   "execution_count": null,
   "metadata": {
    "id": "91LweZ7fY8y5"
   },
   "outputs": [],
   "source": [
    "df_categorical = ['VehicleType','Gearbox', 'Model',\n",
    "       'FuelType', 'Brand']"
   ]
  },
  {
   "cell_type": "code",
   "execution_count": null,
   "metadata": {
    "colab": {
     "base_uri": "https://localhost:8080/"
    },
    "id": "KX5VUGEiaI2T",
    "outputId": "24555a04-0b46-49b8-cc56-ad754a75e6f8"
   },
   "outputs": [],
   "source": [
    "for i in df_categorical:\n",
    "    print(i)\n",
    "    print(df[i].unique())\n",
    "    print()"
   ]
  },
  {
   "cell_type": "markdown",
   "metadata": {
    "id": "1-yQ_P0Df4Iy"
   },
   "source": [
    "Уникальные значения признаков 'Brand' и 'Model' слишком многочислены, да и один бренд может иметь как дорогие, так и дешевые модели автомобилей, поэтому данные признаки не являются показательными. Во избежание длительного обучения, удалим данные столбцы."
   ]
  },
  {
   "cell_type": "code",
   "execution_count": null,
   "metadata": {
    "id": "_7F3ucDHiTBv"
   },
   "outputs": [],
   "source": [
    "df = df.drop(['Brand','Model'], axis = 1)"
   ]
  },
  {
   "cell_type": "markdown",
   "metadata": {
    "id": "KJCEsrqMkj8a"
   },
   "source": [
    "Теперь избавимся от явных дубликатов и пропущенных значений "
   ]
  },
  {
   "cell_type": "code",
   "execution_count": null,
   "metadata": {
    "colab": {
     "base_uri": "https://localhost:8080/"
    },
    "id": "0p2uh_Yya3pc",
    "outputId": "18858f7c-3a23-47d4-b1d6-442c1b8d029c"
   },
   "outputs": [],
   "source": [
    "df.isna().sum()/df.isna().count()"
   ]
  },
  {
   "cell_type": "markdown",
   "metadata": {
    "id": "3n4Eiatov5Ad"
   },
   "source": [
    "Пропуски в столбце \"Repaired\" предположительно означают, что машина не была отремонтирована перед выставлением на продажу, поэтому их заполним значением \"no\""
   ]
  },
  {
   "cell_type": "code",
   "execution_count": null,
   "metadata": {
    "id": "9uoWIC9awIRg"
   },
   "outputs": [],
   "source": [
    "df.loc[df['Repaired'].isna() == True, 'Repaired'] = 'no'"
   ]
  },
  {
   "cell_type": "markdown",
   "metadata": {
    "id": "Bz0kJ6Hs0PgE"
   },
   "source": [
    "Пропуски в столбцах 'FuelType', 'VehicleType' и 'Gearbox' заполним модами"
   ]
  },
  {
   "cell_type": "code",
   "execution_count": null,
   "metadata": {
    "id": "ZgZ-9Aac0Qe6"
   },
   "outputs": [],
   "source": [
    "df.loc[df['FuelType'].isna() == True, 'FuelType'] = df['FuelType'].mode()[0]\n",
    "df.loc[df['Gearbox'].isna() == True, 'Gearbox'] = df['Gearbox'].mode()[0]\n",
    "df.loc[df['VehicleType'].isna() == True, 'VehicleType'] = df['VehicleType'].mode()[0]"
   ]
  },
  {
   "cell_type": "code",
   "execution_count": null,
   "metadata": {
    "colab": {
     "base_uri": "https://localhost:8080/"
    },
    "id": "L3VARXCdjXl0",
    "outputId": "f92687a3-842f-422c-abe7-12c26b22ec71",
    "scrolled": true
   },
   "outputs": [],
   "source": [
    "df.isna().sum()/df.isna().count()"
   ]
  },
  {
   "cell_type": "code",
   "execution_count": null,
   "metadata": {
    "colab": {
     "base_uri": "https://localhost:8080/"
    },
    "id": "RL9eTBdVjbBB",
    "outputId": "a38743e5-53c7-4550-ba17-6876b463d448",
    "scrolled": true
   },
   "outputs": [],
   "source": [
    "df.info()"
   ]
  },
  {
   "cell_type": "code",
   "execution_count": null,
   "metadata": {
    "colab": {
     "base_uri": "https://localhost:8080/",
     "height": 341
    },
    "id": "_42mFT4N_fY6",
    "outputId": "b2a8ffaf-75b8-49f8-b941-74e022153ed1"
   },
   "outputs": [],
   "source": [
    "df['RegistrationYear'].plot( kind = 'box',figsize = (5, 5))\n",
    "plt.ylim(1900,2100)"
   ]
  },
  {
   "cell_type": "code",
   "execution_count": null,
   "metadata": {
    "id": "oUJjh_dP_qlq"
   },
   "outputs": [],
   "source": [
    "df = df.query('RegistrationYear > 1980 and RegistrationYear < 2022')"
   ]
  },
  {
   "cell_type": "code",
   "execution_count": null,
   "metadata": {
    "colab": {
     "base_uri": "https://localhost:8080/",
     "height": 337
    },
    "id": "IgtcTogKESRs",
    "outputId": "d2fcc4db-9f16-43d7-f354-08a284b2b8e8"
   },
   "outputs": [],
   "source": [
    "df['Price'].plot( kind = 'box',figsize = (5, 5))\n"
   ]
  },
  {
   "cell_type": "code",
   "execution_count": null,
   "metadata": {
    "id": "B2QPfaZS41ja"
   },
   "outputs": [],
   "source": [
    "df = df.query('Price > 300 and Price < 15000')"
   ]
  },
  {
   "cell_type": "code",
   "execution_count": null,
   "metadata": {
    "colab": {
     "base_uri": "https://localhost:8080/",
     "height": 341
    },
    "id": "gubbn8sMFMQ9",
    "outputId": "a47efc20-7ca2-4ce6-a59c-2fd0ca330e29"
   },
   "outputs": [],
   "source": [
    "df['Power'].plot( kind = 'box',figsize = (5, 5))\n",
    "plt.ylim(0,1000)"
   ]
  },
  {
   "cell_type": "code",
   "execution_count": null,
   "metadata": {
    "id": "bH1K9Ri1DutJ"
   },
   "outputs": [],
   "source": [
    "df = df.query('Power > 70 and Power < 500')"
   ]
  },
  {
   "cell_type": "code",
   "execution_count": null,
   "metadata": {
    "colab": {
     "base_uri": "https://localhost:8080/"
    },
    "id": "WiqwdqVKFpRa",
    "outputId": "a07e9603-bc77-4865-ff1b-3d6f1d6f1a72"
   },
   "outputs": [],
   "source": [
    "np.sort(df['Kilometer'].unique())"
   ]
  },
  {
   "cell_type": "markdown",
   "metadata": {
    "id": "9BvW4ij3CqLN"
   },
   "source": [
    "Разделим выборку на тренировочную, валидационную и тестовую"
   ]
  },
  {
   "cell_type": "code",
   "execution_count": null,
   "metadata": {
    "id": "2GP5wCbsDlmG"
   },
   "outputs": [],
   "source": [
    "df_target = df['Price']\n",
    "df_features = df.drop('Price', axis = 1)"
   ]
  },
  {
   "cell_type": "code",
   "execution_count": null,
   "metadata": {
    "id": "tANN6pnnDa2z"
   },
   "outputs": [],
   "source": [
    "df_temp_features, df_test_features, df_temp_target, df_test_target = train_test_split( df_features, df_target, test_size = 0.2)\n",
    "df_train_features, df_valid_features, df_train_target, df_valid_target = train_test_split( df_temp_features, df_temp_target,test_size = 0.25)"
   ]
  },
  {
   "cell_type": "markdown",
   "metadata": {
    "id": "w7QPeBgYLjRN"
   },
   "source": [
    "Категориальные признаки нужно закодировать, а количественные стандартизировать. Для кодирования данных для модели линейной регрессии будем использовать OHE, для остальных - OrdinalEncoder."
   ]
  },
  {
   "cell_type": "code",
   "execution_count": null,
   "metadata": {
    "id": "26_kFj7xIy14"
   },
   "outputs": [],
   "source": [
    "ohe_encoder = OneHotEncoder(drop='first')\n",
    "var_categorical = ['VehicleType','Gearbox','FuelType','Repaired']\n",
    "ohe_encoder.fit(df_train_features[var_categorical ])\n",
    "\n",
    "def ohe_encode(features, encoder):\n",
    "    arr = encoder.transform(features[var_categorical]).toarray()\n",
    "    col = []\n",
    "    for i in encoder.categories_:\n",
    "        c = 0\n",
    "        for j in i:\n",
    "            if c == 0:\n",
    "                c += 1\n",
    "            else:\n",
    "                col.append(j)\n",
    "    features_ohe = pd.DataFrame(arr, columns = col)\n",
    "    features_ohe = features_ohe.astype(int)\n",
    "    return features_ohe\n",
    "    \n",
    "features_train_ohe = ohe_encode(df_train_features, ohe_encoder)\n",
    "features_test_ohe = ohe_encode(df_test_features, ohe_encoder)\n",
    "features_valid_ohe = ohe_encode(df_valid_features, ohe_encoder)"
   ]
  },
  {
   "cell_type": "code",
   "execution_count": null,
   "metadata": {
    "id": "DfbKop5aUpCI"
   },
   "outputs": [],
   "source": [
    "oe_encoder = OrdinalEncoder()\n",
    "var_categorical = ['VehicleType','Gearbox','FuelType','Repaired']\n",
    "oe_encoder.fit(df_train_features[var_categorical])\n",
    "\n",
    "def oe_encode(features, encoder):\n",
    "    arr = oe_encoder.transform(features[var_categorical])\n",
    "    features_oe = pd.DataFrame(data = arr, columns = var_categorical)\n",
    "    features_oe = features_oe.astype(int)\n",
    "    return features_oe\n",
    "\n",
    "features_train_oe = oe_encode(df_train_features, oe_encoder)\n",
    "features_test_oe = oe_encode(df_test_features, oe_encoder)\n",
    "features_valid_oe = oe_encode(df_valid_features, oe_encoder)"
   ]
  },
  {
   "cell_type": "code",
   "execution_count": null,
   "metadata": {
    "id": "kq3A443bclFy"
   },
   "outputs": [],
   "source": [
    "scaler = StandardScaler()\n",
    "var_countable = ['RegistrationYear','Kilometer','Power']\n",
    "scaler.fit(df_train_features[var_countable])\n",
    "def scale(features, scaler):\n",
    "    arr = scaler.transform(features[var_countable])\n",
    "    data = pd.DataFrame(data = arr, columns = var_countable)\n",
    "    return data\n",
    "\n",
    "\n",
    "features_train_st = scale(df_train_features, scaler)\n",
    "features_test_st = scale(df_test_features, scaler)\n",
    "features_valid_st = scale(df_valid_features, scaler)"
   ]
  },
  {
   "cell_type": "code",
   "execution_count": null,
   "metadata": {
    "id": "rLy15wJpiKbp"
   },
   "outputs": [],
   "source": [
    "features_train_oe = pd.concat([features_train_oe, features_train_st], axis = 1)\n",
    "features_test_oe = pd.concat([features_test_oe, features_test_st], axis = 1)\n",
    "features_valid_oe = pd.concat([features_valid_oe, features_valid_st], axis = 1)\n",
    "\n",
    "features_train_ohe = pd.concat([features_train_ohe, features_train_st], axis = 1)\n",
    "features_test_ohe = pd.concat([features_test_ohe, features_test_st], axis = 1)\n",
    "features_valid_ohe = pd.concat([features_valid_ohe, features_valid_st], axis = 1)"
   ]
  },
  {
   "cell_type": "markdown",
   "metadata": {
    "id": "bTlRfYbIbAPP"
   },
   "source": [
    "## Обучение моделей"
   ]
  },
  {
   "cell_type": "markdown",
   "metadata": {
    "id": "tpAQZ9UIUYeR"
   },
   "source": [
    "LIGHTGBM Regressor:"
   ]
  },
  {
   "cell_type": "code",
   "execution_count": null,
   "metadata": {
    "colab": {
     "base_uri": "https://localhost:8080/"
    },
    "id": "AM8gTiqbHfIL",
    "outputId": "e01f66b5-1575-4260-8117-997e52760317"
   },
   "outputs": [],
   "source": [
    "%%timeit\n",
    "model = lgb.LGBMRegressor()\n",
    "model.fit(features_train_oe, df_train_target)"
   ]
  },
  {
   "cell_type": "markdown",
   "metadata": {
    "id": "wTbUJHOIHtFP"
   },
   "source": [
    "Модель обучается за 3.7 +- 1.6 секунд "
   ]
  },
  {
   "cell_type": "code",
   "execution_count": null,
   "metadata": {
    "id": "v4nDHe8yUXuO"
   },
   "outputs": [],
   "source": [
    "model = lgb.LGBMRegressor()\n",
    "grid_space = {'boosting_type':['gbdt', 'dart', 'rf'],'num_leaves':range(20,41,10), 'n_estimators':range(100, 161,20)}\n",
    "grid = GridSearchCV(model, param_grid = grid_space, cv=2, scoring = 'neg_root_mean_squared_error', n_jobs = -1 )"
   ]
  },
  {
   "cell_type": "code",
   "execution_count": null,
   "metadata": {
    "colab": {
     "base_uri": "https://localhost:8080/",
     "height": 1000
    },
    "id": "wXrmSwA6WE7K",
    "outputId": "6478c4ad-969b-4fdc-f6a7-f6720f26a162",
    "scrolled": true
   },
   "outputs": [],
   "source": [
    "model_grid = grid.fit(features_train_oe, df_train_target)\n",
    "\n",
    "print(model_grid.best_params_)\n",
    "print('RMSE:', model_grid.best_score_)"
   ]
  },
  {
   "cell_type": "markdown",
   "metadata": {
    "id": "DWwFM-ptbz2K"
   },
   "source": [
    "{'boosting_type': 'gbdt', 'n_estimators': 160, 'num_leaves': 40}\n",
    "RMSE: -1999.5516975956489\n",
    "3min 20s ± 1.58 s per loop (mean ± std. dev. of 7 runs, 1 loop each)"
   ]
  },
  {
   "cell_type": "markdown",
   "metadata": {
    "id": "MKAVaZHJ2rWM"
   },
   "source": [
    "В результате подбора гиперпараметров и обучения модель бустинга LIGHTGBM показала значение метрики RMSE по модулю в 1999.555, что удовлетворяет условию заказчика."
   ]
  },
  {
   "cell_type": "markdown",
   "metadata": {
    "id": "OQIdbJNF7BCh"
   },
   "source": [
    "Проверка на валидационной выборке:"
   ]
  },
  {
   "cell_type": "code",
   "execution_count": null,
   "metadata": {
    "colab": {
     "base_uri": "https://localhost:8080/"
    },
    "id": "GcavQBLj7DJH",
    "outputId": "bb85faa7-1420-44e0-97fb-27d8727759b0"
   },
   "outputs": [],
   "source": [
    "model = lgb.LGBMRegressor(boosting_type = 'gbdt', n_estimators = 160, num_leaves =40)\n",
    "model.fit(features_train_oe, df_train_target)"
   ]
  },
  {
   "cell_type": "code",
   "execution_count": null,
   "metadata": {
    "colab": {
     "base_uri": "https://localhost:8080/"
    },
    "id": "kKwtPbc5IbFi",
    "outputId": "2795f8ec-09b5-4c6e-e33c-83975b572580"
   },
   "outputs": [],
   "source": [
    "%%timeit\n",
    "pred = model.predict(features_valid_oe)\n",
    "print(sqrt(MSE(df_valid_target, pred)))"
   ]
  },
  {
   "cell_type": "markdown",
   "metadata": {
    "id": "kW1CC16kBbf3"
   },
   "source": [
    "Время предсказания модели - 642 мс +- 305 мс"
   ]
  },
  {
   "cell_type": "markdown",
   "metadata": {
    "id": "fFE_e8pxege7"
   },
   "source": [
    "XGB Regressor:\n"
   ]
  },
  {
   "cell_type": "code",
   "execution_count": null,
   "metadata": {
    "colab": {
     "base_uri": "https://localhost:8080/"
    },
    "id": "h9jO1J0OIxw0",
    "outputId": "340db3de-0a4d-4897-9e5d-5917b9894bef"
   },
   "outputs": [],
   "source": [
    "%%timeit\n",
    "model_1 = xg.XGBRegressor()\n",
    "model_1.fit(features_train_oe, df_train_target)"
   ]
  },
  {
   "cell_type": "markdown",
   "metadata": {
    "id": "3ovP1UgRJ2dZ"
   },
   "source": [
    "Модель обучается за 11 с +- 1 с "
   ]
  },
  {
   "cell_type": "code",
   "execution_count": null,
   "metadata": {
    "id": "yrD9hQvZlUR0"
   },
   "outputs": [],
   "source": [
    "model_1 = xg.XGBRegressor()\n",
    "grid_space_1 = {'max_depth':range(5,10), 'n_estimators':(1,10), 'max_leaves':(10,50)}\n",
    "grid_1 = GridSearchCV(model_1, param_grid = grid_space_1, cv = 5, scoring = 'neg_root_mean_squared_error', n_jobs = -1)"
   ]
  },
  {
   "cell_type": "code",
   "execution_count": null,
   "metadata": {
    "id": "FLhL26ezD1u5"
   },
   "outputs": [],
   "source": [
    "model_grid_1 = grid_1.fit(features_train_oe, df_train_target)\n",
    "print(model_grid_1.best_params_)\n",
    "print('RMSE:', model_grid_1.best_score_)"
   ]
  },
  {
   "cell_type": "markdown",
   "metadata": {
    "id": "gI2eEQe4IQh7"
   },
   "source": [
    "{'max_depth': 9, 'max_leaves': 10, 'n_estimators': 10}\n",
    "RMSE: -2032.0607909695304\n",
    "1min 37s ± 1.32 s per loop (mean ± std. dev. of 7 runs, 1 loop each)"
   ]
  },
  {
   "cell_type": "markdown",
   "metadata": {
    "id": "5FCnwFI-3Io5"
   },
   "source": [
    "В результате обучения XGB регрессора было достигнуто значения метрики RMSE по модулю в 2030, что не сильно уступает значению предудущей модели. По времени обучения XGB Regressor уступает предыдущей модели."
   ]
  },
  {
   "cell_type": "markdown",
   "metadata": {
    "id": "-iodjNtI8RwG"
   },
   "source": [
    "Проверка на валидационной выборке:"
   ]
  },
  {
   "cell_type": "code",
   "execution_count": null,
   "metadata": {
    "colab": {
     "base_uri": "https://localhost:8080/"
    },
    "id": "arryqo3dJyHS",
    "outputId": "55041c44-2b70-4518-ea3e-b0e464685275"
   },
   "outputs": [],
   "source": [
    "model_1 = xg.XGBRegressor(max_depth = 9, max_leaves = 10, n_estimators =  10)\n",
    "model_1.fit(features_train_oe, df_train_target)"
   ]
  },
  {
   "cell_type": "code",
   "execution_count": null,
   "metadata": {
    "id": "wqKDbeLu8SZB"
   },
   "outputs": [],
   "source": [
    "%%timeit\n",
    "pred_1 = model_1.predict(features_valid_oe)\n",
    "print(sqrt(MSE(df_valid_target, pred_1)))"
   ]
  },
  {
   "cell_type": "markdown",
   "metadata": {
    "id": "Om4FunByBgs9"
   },
   "source": [
    "Время предсказания модели - 95 мс +- 9.6 мс"
   ]
  },
  {
   "cell_type": "markdown",
   "metadata": {
    "id": "ZtQZTHph5hAI"
   },
   "source": [
    "Линейная регрессия:"
   ]
  },
  {
   "cell_type": "code",
   "execution_count": null,
   "metadata": {
    "colab": {
     "base_uri": "https://localhost:8080/"
    },
    "id": "sr6uWvLsKm35",
    "outputId": "ea6bcd11-742b-44d0-d58d-14d5ca05df91"
   },
   "outputs": [],
   "source": [
    "%%timeit\n",
    "model_2 = LinearRegression()\n",
    "model_2.fit(features_train_ohe, df_train_target)"
   ]
  },
  {
   "cell_type": "markdown",
   "metadata": {
    "id": "wTdgRtlkK4Qc"
   },
   "source": [
    "Модель обучается за 293 мс ± 41.9 мс"
   ]
  },
  {
   "cell_type": "code",
   "execution_count": null,
   "metadata": {
    "id": "HSZmF9pQ6GZg"
   },
   "outputs": [],
   "source": [
    "model_2 = LinearRegression()\n",
    "grid_space_2 = {'fit_intercept':[True, False], 'copy_X':[True, False], 'positive':[True, False],'n_jobs':[-1, 1]}\n",
    "grid_2 = GridSearchCV(model_2, param_grid = grid_space_2, cv = 5, scoring='neg_root_mean_squared_error', n_jobs = -1)"
   ]
  },
  {
   "cell_type": "code",
   "execution_count": null,
   "metadata": {
    "id": "-57-S6al_2vd"
   },
   "outputs": [],
   "source": [
    "%%timeit\n",
    "model_grid_2 = grid_2.fit(features_train_ohe, df_train_target)\n",
    "\n",
    "print(model_grid_2.best_params_)\n",
    "print('RMSE:', model_grid_2.best_score_)"
   ]
  },
  {
   "cell_type": "markdown",
   "metadata": {
    "id": "3AeTlDaTUUG_"
   },
   "source": [
    "{'copy_X': True, 'fit_intercept': True, 'n_jobs': -1, 'positive': False}\n",
    "RMSE: -3597.557531282143\n",
    "17.9 s ± 2.4 s per loop (mean ± std. dev. of 7 runs, 1 loop each)"
   ]
  },
  {
   "cell_type": "markdown",
   "metadata": {
    "id": "4MgczyGh3rrq"
   },
   "source": [
    "Значение метрики RMSE линейной регрессии составило 3597.55 по модулю, что не удовлетворяет требованиям заказчика. Обучалась модель 293 мс. Проверку на валидационной выборке смысла делать нет."
   ]
  },
  {
   "cell_type": "markdown",
   "metadata": {
    "id": "TYP-NAJu9ZFW"
   },
   "source": [
    "## Анализ моделей\n"
   ]
  },
  {
   "cell_type": "markdown",
   "metadata": {
    "id": "_28oyrIKXdBM"
   },
   "source": [
    "Наилучшее значение метрики RMSE показала модель LightGBM Regressor. XGB Regressor несильно уступает в точности предсказания, но обучается медленне. Однако, предказывает данная модель быстрее, чем LightGBM Regressor.  Линейная регрессия, хоть и тратит меньше всего времени на обучение, выдает неудовлетворительную RMSE. В итоге, для предсказания рекомендую использовать именно LightGBM Regressor. Проверим его на тестовой выборке. \n"
   ]
  },
  {
   "cell_type": "code",
   "execution_count": null,
   "metadata": {
    "colab": {
     "base_uri": "https://localhost:8080/"
    },
    "id": "JwYTu1Vl-10F",
    "outputId": "a6402835-788c-43d1-e311-37773692058d"
   },
   "outputs": [],
   "source": [
    "model_final = lgb.LGBMRegressor(boosting_type = 'gbdt', n_estimators = 160, num_leaves =40)\n",
    "model_final.fit(features_train_oe, df_train_target)\n",
    "pred_final = model_final.predict(features_test_oe)\n",
    "\n",
    "print(sqrt(MSE(df_test_target, pred_final)))"
   ]
  },
  {
   "cell_type": "markdown",
   "metadata": {
    "id": "8bC7gCvC_S9_"
   },
   "source": [
    "Проверка на тестовой выборке увенчалась успехом - значение метрики RMSE удовлетворяет условию."
   ]
  }
 ],
 "metadata": {
  "ExecuteTimeLog": [
   {
    "duration": 4770,
    "start_time": "2023-03-07T08:43:15.689Z"
   }
  ],
  "colab": {
   "provenance": []
  },
  "kernelspec": {
   "display_name": "Python 3 (ipykernel)",
   "language": "python",
   "name": "python3"
  },
  "language_info": {
   "codemirror_mode": {
    "name": "ipython",
    "version": 3
   },
   "file_extension": ".py",
   "mimetype": "text/x-python",
   "name": "python",
   "nbconvert_exporter": "python",
   "pygments_lexer": "ipython3",
   "version": "3.9.5"
  },
  "toc": {
   "base_numbering": 1,
   "nav_menu": {},
   "number_sections": true,
   "sideBar": true,
   "skip_h1_title": true,
   "title_cell": "Table of Contents",
   "title_sidebar": "Contents",
   "toc_cell": false,
   "toc_position": {},
   "toc_section_display": true,
   "toc_window_display": false
  }
 },
 "nbformat": 4,
 "nbformat_minor": 1
}
