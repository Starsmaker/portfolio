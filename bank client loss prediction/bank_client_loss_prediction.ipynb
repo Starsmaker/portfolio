{
  "cells": [
    {
      "cell_type": "markdown",
      "metadata": {
        "id": "u8DsIqRoGGmi"
      },
      "source": [
        "<h1>Содержание<span class=\"tocSkip\"></span></h1>\n",
        "<div class=\"toc\"><ul class=\"toc-item\"><li><span><a href=\"#Подготовка-данных\" data-toc-modified-id=\"Подготовка-данных-1\"><span class=\"toc-item-num\">1&nbsp;&nbsp;</span>Подготовка данных</a></span></li><li><span><a href=\"#Исследование-задачи\" data-toc-modified-id=\"Исследование-задачи-2\"><span class=\"toc-item-num\">2&nbsp;&nbsp;</span>Исследование задачи</a></span></li><li><span><a href=\"#Борьба-с-дисбалансом\" data-toc-modified-id=\"Борьба-с-дисбалансом-3\"><span class=\"toc-item-num\">3&nbsp;&nbsp;</span>Борьба с дисбалансом</a></span></li><li><span><a href=\"#Тестирование-модели\" data-toc-modified-id=\"Тестирование-модели-4\"><span class=\"toc-item-num\">4&nbsp;&nbsp;</span>Тестирование модели</a></span></li><li><span><a href=\"#Чек-лист-готовности-проекта\" data-toc-modified-id=\"Чек-лист-готовности-проекта-5\"><span class=\"toc-item-num\">5&nbsp;&nbsp;</span>Чек-лист готовности проекта</a></span></li></ul></div>"
      ]
    },
    {
      "cell_type": "markdown",
      "metadata": {
        "id": "p-_-9KWyGKmm"
      },
      "source": [
        "# Отток клиентов"
      ]
    },
    {
      "cell_type": "markdown",
      "metadata": {
        "id": "P04K1aT2GNNF"
      },
      "source": [
        "\n",
        "### Цель работы:\n",
        "Нужно спрогнозировать, уйдёт клиент из банка в ближайшее время или нет на основе исторических данных о поведении клиентов и расторжении договоров с банком.\n",
        "\n",
        "\n",
        "\n"
      ]
    },
    {
      "cell_type": "markdown",
      "metadata": {
        "id": "7q1UPrEmGT9M"
      },
      "source": [
        "### Подготовка данных"
      ]
    },
    {
      "cell_type": "code",
      "execution_count": null,
      "metadata": {
        "id": "T231T9ahEKBj"
      },
      "outputs": [],
      "source": [
        "import pandas as pd\n",
        "import matplotlib.pyplot as plt\n",
        "from sklearn.preprocessing import StandardScaler\n",
        "from sklearn.model_selection import train_test_split\n",
        "from sklearn.ensemble import RandomForestClassifier\n",
        "from sklearn.linear_model import LogisticRegression\n",
        "from sklearn.metrics import f1_score\n",
        "from sklearn.metrics import roc_auc_score, roc_curve\n",
        "from sklearn.utils import shuffle\n",
        "import numpy as np\n",
        "from sklearn.metrics import precision_score, recall_score\n",
        "df = pd.read_csv('/content/drive/MyDrive/Churn.csv')"
      ]
    },
    {
      "cell_type": "code",
      "execution_count": null,
      "metadata": {
        "colab": {
          "base_uri": "https://localhost:8080/",
          "height": 206
        },
        "id": "ndfFT4PRFxg9",
        "outputId": "f8bb1da0-c180-4bc4-b462-d4fc7a0b1b8c"
      },
      "outputs": [
        {
          "data": {
            "text/html": [
              "\n",
              "  <div id=\"df-4186fd73-8fcc-4c56-b6cb-e7df7791e300\">\n",
              "    <div class=\"colab-df-container\">\n",
              "      <div>\n",
              "<style scoped>\n",
              "    .dataframe tbody tr th:only-of-type {\n",
              "        vertical-align: middle;\n",
              "    }\n",
              "\n",
              "    .dataframe tbody tr th {\n",
              "        vertical-align: top;\n",
              "    }\n",
              "\n",
              "    .dataframe thead th {\n",
              "        text-align: right;\n",
              "    }\n",
              "</style>\n",
              "<table border=\"1\" class=\"dataframe\">\n",
              "  <thead>\n",
              "    <tr style=\"text-align: right;\">\n",
              "      <th></th>\n",
              "      <th>RowNumber</th>\n",
              "      <th>CustomerId</th>\n",
              "      <th>Surname</th>\n",
              "      <th>CreditScore</th>\n",
              "      <th>Geography</th>\n",
              "      <th>Gender</th>\n",
              "      <th>Age</th>\n",
              "      <th>Tenure</th>\n",
              "      <th>Balance</th>\n",
              "      <th>NumOfProducts</th>\n",
              "      <th>HasCrCard</th>\n",
              "      <th>IsActiveMember</th>\n",
              "      <th>EstimatedSalary</th>\n",
              "      <th>Exited</th>\n",
              "    </tr>\n",
              "  </thead>\n",
              "  <tbody>\n",
              "    <tr>\n",
              "      <th>0</th>\n",
              "      <td>1</td>\n",
              "      <td>15634602</td>\n",
              "      <td>Hargrave</td>\n",
              "      <td>619</td>\n",
              "      <td>France</td>\n",
              "      <td>Female</td>\n",
              "      <td>42</td>\n",
              "      <td>2.0</td>\n",
              "      <td>0.00</td>\n",
              "      <td>1</td>\n",
              "      <td>1</td>\n",
              "      <td>1</td>\n",
              "      <td>101348.88</td>\n",
              "      <td>1</td>\n",
              "    </tr>\n",
              "    <tr>\n",
              "      <th>1</th>\n",
              "      <td>2</td>\n",
              "      <td>15647311</td>\n",
              "      <td>Hill</td>\n",
              "      <td>608</td>\n",
              "      <td>Spain</td>\n",
              "      <td>Female</td>\n",
              "      <td>41</td>\n",
              "      <td>1.0</td>\n",
              "      <td>83807.86</td>\n",
              "      <td>1</td>\n",
              "      <td>0</td>\n",
              "      <td>1</td>\n",
              "      <td>112542.58</td>\n",
              "      <td>0</td>\n",
              "    </tr>\n",
              "    <tr>\n",
              "      <th>2</th>\n",
              "      <td>3</td>\n",
              "      <td>15619304</td>\n",
              "      <td>Onio</td>\n",
              "      <td>502</td>\n",
              "      <td>France</td>\n",
              "      <td>Female</td>\n",
              "      <td>42</td>\n",
              "      <td>8.0</td>\n",
              "      <td>159660.80</td>\n",
              "      <td>3</td>\n",
              "      <td>1</td>\n",
              "      <td>0</td>\n",
              "      <td>113931.57</td>\n",
              "      <td>1</td>\n",
              "    </tr>\n",
              "    <tr>\n",
              "      <th>3</th>\n",
              "      <td>4</td>\n",
              "      <td>15701354</td>\n",
              "      <td>Boni</td>\n",
              "      <td>699</td>\n",
              "      <td>France</td>\n",
              "      <td>Female</td>\n",
              "      <td>39</td>\n",
              "      <td>1.0</td>\n",
              "      <td>0.00</td>\n",
              "      <td>2</td>\n",
              "      <td>0</td>\n",
              "      <td>0</td>\n",
              "      <td>93826.63</td>\n",
              "      <td>0</td>\n",
              "    </tr>\n",
              "    <tr>\n",
              "      <th>4</th>\n",
              "      <td>5</td>\n",
              "      <td>15737888</td>\n",
              "      <td>Mitchell</td>\n",
              "      <td>850</td>\n",
              "      <td>Spain</td>\n",
              "      <td>Female</td>\n",
              "      <td>43</td>\n",
              "      <td>2.0</td>\n",
              "      <td>125510.82</td>\n",
              "      <td>1</td>\n",
              "      <td>1</td>\n",
              "      <td>1</td>\n",
              "      <td>79084.10</td>\n",
              "      <td>0</td>\n",
              "    </tr>\n",
              "  </tbody>\n",
              "</table>\n",
              "</div>\n",
              "      <button class=\"colab-df-convert\" onclick=\"convertToInteractive('df-4186fd73-8fcc-4c56-b6cb-e7df7791e300')\"\n",
              "              title=\"Convert this dataframe to an interactive table.\"\n",
              "              style=\"display:none;\">\n",
              "        \n",
              "  <svg xmlns=\"http://www.w3.org/2000/svg\" height=\"24px\"viewBox=\"0 0 24 24\"\n",
              "       width=\"24px\">\n",
              "    <path d=\"M0 0h24v24H0V0z\" fill=\"none\"/>\n",
              "    <path d=\"M18.56 5.44l.94 2.06.94-2.06 2.06-.94-2.06-.94-.94-2.06-.94 2.06-2.06.94zm-11 1L8.5 8.5l.94-2.06 2.06-.94-2.06-.94L8.5 2.5l-.94 2.06-2.06.94zm10 10l.94 2.06.94-2.06 2.06-.94-2.06-.94-.94-2.06-.94 2.06-2.06.94z\"/><path d=\"M17.41 7.96l-1.37-1.37c-.4-.4-.92-.59-1.43-.59-.52 0-1.04.2-1.43.59L10.3 9.45l-7.72 7.72c-.78.78-.78 2.05 0 2.83L4 21.41c.39.39.9.59 1.41.59.51 0 1.02-.2 1.41-.59l7.78-7.78 2.81-2.81c.8-.78.8-2.07 0-2.86zM5.41 20L4 18.59l7.72-7.72 1.47 1.35L5.41 20z\"/>\n",
              "  </svg>\n",
              "      </button>\n",
              "      \n",
              "  <style>\n",
              "    .colab-df-container {\n",
              "      display:flex;\n",
              "      flex-wrap:wrap;\n",
              "      gap: 12px;\n",
              "    }\n",
              "\n",
              "    .colab-df-convert {\n",
              "      background-color: #E8F0FE;\n",
              "      border: none;\n",
              "      border-radius: 50%;\n",
              "      cursor: pointer;\n",
              "      display: none;\n",
              "      fill: #1967D2;\n",
              "      height: 32px;\n",
              "      padding: 0 0 0 0;\n",
              "      width: 32px;\n",
              "    }\n",
              "\n",
              "    .colab-df-convert:hover {\n",
              "      background-color: #E2EBFA;\n",
              "      box-shadow: 0px 1px 2px rgba(60, 64, 67, 0.3), 0px 1px 3px 1px rgba(60, 64, 67, 0.15);\n",
              "      fill: #174EA6;\n",
              "    }\n",
              "\n",
              "    [theme=dark] .colab-df-convert {\n",
              "      background-color: #3B4455;\n",
              "      fill: #D2E3FC;\n",
              "    }\n",
              "\n",
              "    [theme=dark] .colab-df-convert:hover {\n",
              "      background-color: #434B5C;\n",
              "      box-shadow: 0px 1px 3px 1px rgba(0, 0, 0, 0.15);\n",
              "      filter: drop-shadow(0px 1px 2px rgba(0, 0, 0, 0.3));\n",
              "      fill: #FFFFFF;\n",
              "    }\n",
              "  </style>\n",
              "\n",
              "      <script>\n",
              "        const buttonEl =\n",
              "          document.querySelector('#df-4186fd73-8fcc-4c56-b6cb-e7df7791e300 button.colab-df-convert');\n",
              "        buttonEl.style.display =\n",
              "          google.colab.kernel.accessAllowed ? 'block' : 'none';\n",
              "\n",
              "        async function convertToInteractive(key) {\n",
              "          const element = document.querySelector('#df-4186fd73-8fcc-4c56-b6cb-e7df7791e300');\n",
              "          const dataTable =\n",
              "            await google.colab.kernel.invokeFunction('convertToInteractive',\n",
              "                                                     [key], {});\n",
              "          if (!dataTable) return;\n",
              "\n",
              "          const docLinkHtml = 'Like what you see? Visit the ' +\n",
              "            '<a target=\"_blank\" href=https://colab.research.google.com/notebooks/data_table.ipynb>data table notebook</a>'\n",
              "            + ' to learn more about interactive tables.';\n",
              "          element.innerHTML = '';\n",
              "          dataTable['output_type'] = 'display_data';\n",
              "          await google.colab.output.renderOutput(dataTable, element);\n",
              "          const docLink = document.createElement('div');\n",
              "          docLink.innerHTML = docLinkHtml;\n",
              "          element.appendChild(docLink);\n",
              "        }\n",
              "      </script>\n",
              "    </div>\n",
              "  </div>\n",
              "  "
            ],
            "text/plain": [
              "   RowNumber  CustomerId   Surname  CreditScore Geography  Gender  Age  \\\n",
              "0          1    15634602  Hargrave          619    France  Female   42   \n",
              "1          2    15647311      Hill          608     Spain  Female   41   \n",
              "2          3    15619304      Onio          502    France  Female   42   \n",
              "3          4    15701354      Boni          699    France  Female   39   \n",
              "4          5    15737888  Mitchell          850     Spain  Female   43   \n",
              "\n",
              "   Tenure    Balance  NumOfProducts  HasCrCard  IsActiveMember  \\\n",
              "0     2.0       0.00              1          1               1   \n",
              "1     1.0   83807.86              1          0               1   \n",
              "2     8.0  159660.80              3          1               0   \n",
              "3     1.0       0.00              2          0               0   \n",
              "4     2.0  125510.82              1          1               1   \n",
              "\n",
              "   EstimatedSalary  Exited  \n",
              "0        101348.88       1  \n",
              "1        112542.58       0  \n",
              "2        113931.57       1  \n",
              "3         93826.63       0  \n",
              "4         79084.10       0  "
            ]
          },
          "execution_count": 4,
          "metadata": {},
          "output_type": "execute_result"
        }
      ],
      "source": [
        "df.head(5)"
      ]
    },
    {
      "cell_type": "code",
      "execution_count": null,
      "metadata": {
        "colab": {
          "base_uri": "https://localhost:8080/"
        },
        "id": "BC9im9a8Hc1J",
        "outputId": "057bc6a0-d221-48ea-b647-7a4e28b80ab8"
      },
      "outputs": [
        {
          "data": {
            "text/plain": [
              "RowNumber          0.000000\n",
              "CustomerId         0.000000\n",
              "Surname            0.000000\n",
              "CreditScore        0.000000\n",
              "Geography          0.000000\n",
              "Gender             0.000000\n",
              "Age                0.000000\n",
              "Tenure             0.099989\n",
              "Balance            0.000000\n",
              "NumOfProducts      0.000000\n",
              "HasCrCard          0.000000\n",
              "IsActiveMember     0.000000\n",
              "EstimatedSalary    0.000000\n",
              "Exited             0.000000\n",
              "dtype: float64"
            ]
          },
          "execution_count": 5,
          "metadata": {},
          "output_type": "execute_result"
        }
      ],
      "source": [
        "df.isna().sum()/df.count()"
      ]
    },
    {
      "cell_type": "markdown",
      "metadata": {
        "id": "yDkcwGGBHd_c"
      },
      "source": [
        "Обнаружены пропуски в столбце Tenure. Доля пропусков меньше одного процента, поэтому удалим объеты их содержащие."
      ]
    },
    {
      "cell_type": "code",
      "execution_count": null,
      "metadata": {
        "id": "TNqZ7f38IR4-"
      },
      "outputs": [],
      "source": [
        "df[df['Tenure'].isna() == True] = df['Tenure'].median()"
      ]
    },
    {
      "cell_type": "markdown",
      "metadata": {
        "id": "YJdl2XTgPSNG"
      },
      "source": [
        "Проверим датафрейм на наличие явных дубликатов."
      ]
    },
    {
      "cell_type": "code",
      "execution_count": null,
      "metadata": {
        "colab": {
          "base_uri": "https://localhost:8080/"
        },
        "id": "lWJ7hYUEo8BO",
        "outputId": "69745dc6-b27e-45d8-dfd3-72c045e452a7"
      },
      "outputs": [
        {
          "data": {
            "text/plain": [
              "0       False\n",
              "1       False\n",
              "2       False\n",
              "3       False\n",
              "4       False\n",
              "        ...  \n",
              "9995    False\n",
              "9996    False\n",
              "9997    False\n",
              "9998    False\n",
              "9999     True\n",
              "Length: 10000, dtype: bool"
            ]
          },
          "execution_count": 7,
          "metadata": {},
          "output_type": "execute_result"
        }
      ],
      "source": [
        "df.duplicated()"
      ]
    },
    {
      "cell_type": "markdown",
      "metadata": {
        "id": "IKyQirH3MVrS"
      },
      "source": [
        "Обнаружились явные дубликаты, удалим их."
      ]
    },
    {
      "cell_type": "code",
      "execution_count": null,
      "metadata": {
        "id": "fwq5nMq8OiEI"
      },
      "outputs": [],
      "source": [
        "df = df.drop_duplicates()"
      ]
    },
    {
      "cell_type": "markdown",
      "metadata": {
        "id": "G5_kOV7rNNd8"
      },
      "source": [
        "Проверим целевой признак на наличие аномальных значений."
      ]
    },
    {
      "cell_type": "code",
      "execution_count": null,
      "metadata": {
        "colab": {
          "base_uri": "https://localhost:8080/"
        },
        "id": "_LW6O70cNUNQ",
        "outputId": "5ab5e525-79b2-4bca-9086-eba2e71e22f2"
      },
      "outputs": [
        {
          "data": {
            "text/plain": [
              "array([1, 0, 5])"
            ]
          },
          "execution_count": 9,
          "metadata": {},
          "output_type": "execute_result"
        }
      ],
      "source": [
        "df.Exited.unique()"
      ]
    },
    {
      "cell_type": "markdown",
      "metadata": {
        "id": "-Ebz5eYBNYVF"
      },
      "source": [
        "Класс Exited - бинарный. Ничего кроме нулей и единиц в нем быть не должно, поэтому объекты с пятерками в целевом признаке явно аномальные. Удалим их."
      ]
    },
    {
      "cell_type": "code",
      "execution_count": null,
      "metadata": {
        "id": "6Oxc2JSQOtjT"
      },
      "outputs": [],
      "source": [
        "df = df.query('Exited == 1 or Exited == 0')"
      ]
    },
    {
      "cell_type": "markdown",
      "metadata": {
        "id": "n1ZoTnw_ItBi"
      },
      "source": [
        "Для обучения моделям не понадобятся столбцы с id, фамилиями и дополнительными индексами, поэтому их удалим."
      ]
    },
    {
      "cell_type": "code",
      "execution_count": null,
      "metadata": {
        "id": "k6O2tFkeJGhe"
      },
      "outputs": [],
      "source": [
        "df = df.drop(['Surname', 'CustomerId', 'RowNumber'], axis = 1)"
      ]
    },
    {
      "cell_type": "code",
      "execution_count": null,
      "metadata": {
        "colab": {
          "base_uri": "https://localhost:8080/"
        },
        "id": "MQdnAJ7FJL89",
        "outputId": "29e9fa6e-5325-4ef4-956b-01cd1eb09eba"
      },
      "outputs": [
        {
          "data": {
            "text/plain": [
              "Index(['CreditScore', 'Geography', 'Gender', 'Age', 'Tenure', 'Balance',\n",
              "       'NumOfProducts', 'HasCrCard', 'IsActiveMember', 'EstimatedSalary',\n",
              "       'Exited'],\n",
              "      dtype='object')"
            ]
          },
          "execution_count": 12,
          "metadata": {},
          "output_type": "execute_result"
        }
      ],
      "source": [
        "df.columns"
      ]
    },
    {
      "cell_type": "markdown",
      "metadata": {
        "id": "7vn-03Z3JOiW"
      },
      "source": [
        "Преобразуем категориальные признаки. Так как поставлена задача классификации, то будем использовать OHE - кодирование.\n",
        "\n",
        "\n"
      ]
    },
    {
      "cell_type": "code",
      "execution_count": null,
      "metadata": {
        "id": "1kSSF798afbn"
      },
      "outputs": [],
      "source": [
        "df = pd.get_dummies(df, drop_first=True)"
      ]
    },
    {
      "cell_type": "markdown",
      "metadata": {
        "id": "NNSqRcqLazMd"
      },
      "source": [
        "Разделим выборки на тренировочную, валидационную и тестовую"
      ]
    },
    {
      "cell_type": "code",
      "execution_count": null,
      "metadata": {
        "id": "dVX33SHfUzz2"
      },
      "outputs": [],
      "source": [
        "target = df['Exited']\n",
        "features = df.drop('Exited', axis = 1)\n",
        "features_remaining, features_test, target_remaining, target_test = train_test_split(features,\n",
        "                                                                                    target,\n",
        "                                                                                    test_size=0.2,\n",
        "                                                                                    random_state=12345)\n",
        "features_train, features_valid, target_train, target_valid = train_test_split(features_remaining,\n",
        "                                                                              target_remaining,\n",
        "                                                                              test_size=0.25,\n",
        "                                                                              random_state=12345)\n"
      ]
    },
    {
      "cell_type": "markdown",
      "metadata": {
        "id": "bUqWSq1PU0pV"
      },
      "source": [
        "Стандартизируем количественные признаки"
      ]
    },
    {
      "cell_type": "code",
      "execution_count": null,
      "metadata": {
        "id": "rRt4WyBHWq2Z"
      },
      "outputs": [],
      "source": [
        "numeric = ['CreditScore', 'Age', 'Tenure', 'Balance', 'EstimatedSalary', 'NumOfProducts']\n",
        "scaler = StandardScaler()\n",
        "scaler.fit(features_train[numeric])\n",
        "\n",
        "features_train[numeric] = scaler.transform(features_train[numeric])\n",
        "features_valid[numeric] = scaler.transform(features_valid[numeric])\n",
        "features_test[numeric] = scaler.transform(features_test[numeric])"
      ]
    },
    {
      "cell_type": "markdown",
      "metadata": {
        "id": "jWxpuWV8XKJo"
      },
      "source": [
        "## Исследование задачи"
      ]
    },
    {
      "cell_type": "markdown",
      "metadata": {
        "id": "SyRaNtqhpTgd"
      },
      "source": [
        "Исследуем баланс классов"
      ]
    },
    {
      "cell_type": "code",
      "execution_count": null,
      "metadata": {
        "colab": {
          "base_uri": "https://localhost:8080/"
        },
        "id": "24O1Lzj5pjbr",
        "outputId": "b3f5aa48-dd32-445b-bbe2-1cc498ed6a11"
      },
      "outputs": [
        {
          "data": {
            "text/plain": [
              "0.2039379606203938"
            ]
          },
          "execution_count": 16,
          "metadata": {},
          "output_type": "execute_result"
        }
      ],
      "source": [
        "df['Exited'].sum()/df['Exited'].count()"
      ]
    },
    {
      "cell_type": "markdown",
      "metadata": {
        "id": "NG8_XP5mr9Nu"
      },
      "source": [
        "Замечен дисбаланс классов. Сначала изучим модели без учета дисбаланса."
      ]
    },
    {
      "cell_type": "markdown",
      "metadata": {
        "id": "1wrA7A5hs3NJ"
      },
      "source": [
        "###1. Лес решений"
      ]
    },
    {
      "cell_type": "markdown",
      "metadata": {
        "id": "3_mTrEEz2wUA"
      },
      "source": [
        "Определим максимальную высоту деревьев. Точность модели будем определять по метрике F1."
      ]
    },
    {
      "cell_type": "code",
      "execution_count": null,
      "metadata": {
        "colab": {
          "base_uri": "https://localhost:8080/"
        },
        "id": "NZbXCkBZtaq4",
        "outputId": "b0df4517-a5f7-4a36-bc52-3f8a217a390b"
      },
      "outputs": [
        {
          "name": "stdout",
          "output_type": "stream",
          "text": [
            "f1: 0.5570934256055363 | 14\n"
          ]
        }
      ],
      "source": [
        "max_score = 0\n",
        "best_depth = 0\n",
        "for depth in range(10,51,1):\n",
        "  forest = RandomForestClassifier(n_estimators=20,\n",
        "                                  max_depth=depth,\n",
        "                                  random_state=12345)\n",
        "  forest.fit(features_train, target_train)\n",
        "  predicted_valid = forest.predict(features_valid)\n",
        "  score = f1_score(target_valid, predicted_valid)\n",
        "  if score > max_score:\n",
        "    max_score = score\n",
        "    best_depth = depth\n",
        "\n",
        "print('f1:', max_score, '|', best_depth)\n",
        "\n"
      ]
    },
    {
      "cell_type": "markdown",
      "metadata": {
        "id": "EJNwVeoP22-x"
      },
      "source": [
        "Подберем оптимальное количество деревьев"
      ]
    },
    {
      "cell_type": "code",
      "execution_count": null,
      "metadata": {
        "colab": {
          "base_uri": "https://localhost:8080/"
        },
        "id": "A8UfmeqS28EX",
        "outputId": "b4e20443-55f9-4569-d042-2005a9ab1ac6"
      },
      "outputs": [
        {
          "name": "stdout",
          "output_type": "stream",
          "text": [
            "f1: 0.5629370629370629 | 37\n"
          ]
        }
      ],
      "source": [
        "max_score = 0\n",
        "best_est = 0\n",
        "for est in range(10,100,1):\n",
        "  forest = RandomForestClassifier(n_estimators=est,\n",
        "                                  max_depth=14,\n",
        "                                  random_state=12345)\n",
        "  forest.fit(features_train, target_train)\n",
        "  predicted_valid = forest.predict(features_valid)\n",
        "  score = f1_score(target_valid, predicted_valid)\n",
        "  if score > max_score:\n",
        "    max_score = score\n",
        "    best_est = est\n",
        "\n",
        "print('f1:', max_score, '|', best_est)\n"
      ]
    },
    {
      "cell_type": "markdown",
      "metadata": {
        "id": "eDS0kjWe_QSS"
      },
      "source": [
        "Вычислим также AUC-ROC данной модели:"
      ]
    },
    {
      "cell_type": "code",
      "execution_count": null,
      "metadata": {
        "colab": {
          "base_uri": "https://localhost:8080/"
        },
        "id": "TB-uXECL_Rh7",
        "outputId": "03c830e0-c4a1-415b-fb7c-96b6c065076e"
      },
      "outputs": [
        {
          "name": "stdout",
          "output_type": "stream",
          "text": [
            "AUC-ROC: 0.8241778816480754\n"
          ]
        }
      ],
      "source": [
        "forest = RandomForestClassifier(n_estimators=37,\n",
        "                                  max_depth=14,\n",
        "                                  random_state=12345)\n",
        "forest.fit(features_train, target_train)\n",
        "predicted_valid = forest.predict_proba(features_valid)\n",
        "predicted_valid_one = predicted_valid[:,1]\n",
        "auc = roc_auc_score(target_valid, predicted_valid_one)\n",
        "print('AUC-ROC:',auc)"
      ]
    },
    {
      "cell_type": "markdown",
      "metadata": {
        "id": "XbUONy9Nc3tp"
      },
      "source": [
        "###2. Логистическая регрессия"
      ]
    },
    {
      "cell_type": "code",
      "execution_count": null,
      "metadata": {
        "colab": {
          "base_uri": "https://localhost:8080/"
        },
        "id": "6zv1f1K_GFsC",
        "outputId": "c2da67c9-ce41-4b7f-d779-679d3ee41290"
      },
      "outputs": [
        {
          "name": "stdout",
          "output_type": "stream",
          "text": [
            "f1: 0.3004115226337448\n",
            "AUC-ROC: 0.772597434855259\n"
          ]
        }
      ],
      "source": [
        "model = LogisticRegression(random_state=12345, solver='liblinear')\n",
        "model.fit(features_train, target_train)\n",
        "\n",
        "predicted_valid = model.predict(features_valid)\n",
        "probabilities_valid = model.predict_proba(features_valid)\n",
        "probabilities_one_valid = probabilities_valid[:, 1]\n",
        "\n",
        "f1 = f1_score(target_valid, predicted_valid)\n",
        "print('f1:',f1)\n",
        "auc_roc = roc_auc_score(target_valid, probabilities_one_valid)\n",
        "print('AUC-ROC:',auc_roc)"
      ]
    },
    {
      "cell_type": "markdown",
      "metadata": {
        "id": "HJ00TVGg6ApB"
      },
      "source": [
        "Как показывает результат вычисления, обе модели плохо выдерживают проверку метрикой F1. Метрика AUC-ROC показывает результат лучше, но этого все равно не достаточно для того, чтобы применять эти модели на практике."
      ]
    },
    {
      "cell_type": "markdown",
      "metadata": {
        "id": "WCuNhrshiv4Z"
      },
      "source": [
        "## Борьба с дисбалансом"
      ]
    },
    {
      "cell_type": "markdown",
      "metadata": {
        "id": "mCbv165ti15w"
      },
      "source": [
        "Теперь сбалансируем модели несколькими способами. Первый способ - добавление параметра \"balanced\" для взвешивания классов."
      ]
    },
    {
      "cell_type": "code",
      "execution_count": null,
      "metadata": {
        "colab": {
          "base_uri": "https://localhost:8080/"
        },
        "id": "QTMASmb1jGlf",
        "outputId": "20edd6e5-860c-4674-ef4d-228f4b9a276b"
      },
      "outputs": [
        {
          "name": "stdout",
          "output_type": "stream",
          "text": [
            "AUC-ROC: 0.8348452859443917\n",
            "f1: 0.5546218487394958\n"
          ]
        }
      ],
      "source": [
        "forest = RandomForestClassifier(n_estimators=37,\n",
        "                                  max_depth=14,\n",
        "                                  random_state=12345,\n",
        "                                class_weight = 'balanced')\n",
        "forest.fit(features_train, target_train)\n",
        "predicted_valid = forest.predict_proba(features_valid)\n",
        "predicted_valid_one = predicted_valid[:,1]\n",
        "auc = roc_auc_score(target_valid, predicted_valid_one)\n",
        "print('AUC-ROC:',auc)\n",
        "predicted_valid = forest.predict(features_valid)\n",
        "print('f1:', f1_score(target_valid, predicted_valid))\n",
        "\n",
        "\n"
      ]
    },
    {
      "cell_type": "code",
      "execution_count": null,
      "metadata": {
        "colab": {
          "base_uri": "https://localhost:8080/"
        },
        "id": "jbCL4RpejXiE",
        "outputId": "5a96551e-48df-4b27-e8a5-0db8eb7be97a"
      },
      "outputs": [
        {
          "name": "stdout",
          "output_type": "stream",
          "text": [
            "f1: 0.49506903353057197\n",
            "AUC-ROC: 0.7747783347634317\n"
          ]
        }
      ],
      "source": [
        "model = LogisticRegression(random_state=12345, solver='liblinear', class_weight = 'balanced')\n",
        "model.fit(features_train, target_train)\n",
        "\n",
        "predicted_valid = model.predict(features_valid)\n",
        "probabilities_valid = model.predict_proba(features_valid)\n",
        "probabilities_one_valid = probabilities_valid[:, 1]\n",
        "\n",
        "f1 = f1_score(target_valid, predicted_valid)\n",
        "print('f1:',f1)\n",
        "auc = roc_auc_score(target_valid, probabilities_one_valid)\n",
        "print('AUC-ROC:',auc)"
      ]
    },
    {
      "cell_type": "markdown",
      "metadata": {
        "id": "YR6LZuOtjyiL"
      },
      "source": [
        "Можно заметить знаметное увеличение метрики f1 у логистической регрессии. Метрика леса решений осталась почти той же. Использовать данный способ балансировки - не луйший вариант."
      ]
    },
    {
      "cell_type": "markdown",
      "metadata": {
        "id": "oW04croGklzi"
      },
      "source": [
        "Следующий метод балансировки - увеличение выборки."
      ]
    },
    {
      "cell_type": "code",
      "execution_count": null,
      "metadata": {
        "id": "6qxX2eaOkrKG"
      },
      "outputs": [],
      "source": [
        "def upsample(features, target, repeat):\n",
        "    features_zeros = features[target == 0]\n",
        "    features_ones = features[target == 1]\n",
        "    target_zeros = target[target == 0]\n",
        "    target_ones = target[target == 1]\n",
        "\n",
        "    features_upsampled = pd.concat([features_zeros] + [features_ones] * repeat)\n",
        "    target_upsampled = pd.concat([target_zeros] + [target_ones] * repeat)\n",
        "\n",
        "    features_upsampled, target_upsampled = shuffle(features_upsampled,\n",
        "                                                   target_upsampled,\n",
        "                                                   random_state=12345)\n",
        "\n",
        "    return features_upsampled, target_upsampled\n",
        "\n",
        "repeat = round((df['Exited'].count() - df['Exited'].sum())/df['Exited'].sum())\n",
        "features_upsampled, target_upsampled = upsample(features_train, target_train, repeat)"
      ]
    },
    {
      "cell_type": "markdown",
      "metadata": {
        "id": "4CKZX_hHp9iF"
      },
      "source": [
        "Теперь обучим модели на увеличенных выборках."
      ]
    },
    {
      "cell_type": "code",
      "execution_count": null,
      "metadata": {
        "colab": {
          "base_uri": "https://localhost:8080/"
        },
        "id": "mBi5jJQunzra",
        "outputId": "81ec58bb-735f-46d5-e486-8e84d915063a"
      },
      "outputs": [
        {
          "name": "stdout",
          "output_type": "stream",
          "text": [
            "AUC-ROC: 0.772597434855259\n",
            "f1: 0.6048502139800285\n"
          ]
        }
      ],
      "source": [
        "forest = RandomForestClassifier(n_estimators=37,\n",
        "                                  max_depth=14,\n",
        "                                  random_state=12345)\n",
        "forest.fit(features_upsampled, target_upsampled)\n",
        "predicted_valid = forest.predict_proba(features_valid)\n",
        "predicted_valid_one = predicted_valid[:,1]\n",
        "auc = roc_auc_score(target_valid, predicted_valid_one)\n",
        "print('AUC-ROC:',auc_roc)\n",
        "predicted_valid = forest.predict(features_valid)\n",
        "print('f1:', f1_score(target_valid, predicted_valid))"
      ]
    },
    {
      "cell_type": "code",
      "execution_count": null,
      "metadata": {
        "colab": {
          "base_uri": "https://localhost:8080/"
        },
        "id": "Me-tQBvfoOXU",
        "outputId": "1a6a06f6-d17a-4f7a-ba49-a076d240c997"
      },
      "outputs": [
        {
          "name": "stdout",
          "output_type": "stream",
          "text": [
            "f1: 0.4956605593056895\n",
            "AUC-ROC: 0.7748272591789732\n"
          ]
        }
      ],
      "source": [
        "model = LogisticRegression(random_state=12345, solver='liblinear')\n",
        "model.fit(features_upsampled, target_upsampled)\n",
        "\n",
        "predicted_valid = model.predict(features_valid)\n",
        "probabilities_valid = model.predict_proba(features_valid)\n",
        "probabilities_one_valid = probabilities_valid[:, 1]\n",
        "\n",
        "f1 = f1_score(target_valid, predicted_valid)\n",
        "print('f1:',f1)\n",
        "auc_roc = roc_auc_score(target_valid, probabilities_one_valid)\n",
        "print('AUC-ROC:',auc_roc)"
      ]
    },
    {
      "cell_type": "markdown",
      "metadata": {
        "id": "mMFE54krobAB"
      },
      "source": [
        "F1 для леса решений перешагнула порог в 0.59, а значит ее можно будет использовать на тестовой выборке. Для логистической регрессии значение метрики f1 почти не изменилось."
      ]
    },
    {
      "cell_type": "markdown",
      "metadata": {
        "id": "MEXLwC8xtEc4"
      },
      "source": [
        "Третий метод балансировки - уменьшение выборки:"
      ]
    },
    {
      "cell_type": "code",
      "execution_count": null,
      "metadata": {
        "id": "mszJ689yvOoQ"
      },
      "outputs": [],
      "source": [
        "def downsample(features, target, fraction):\n",
        "    features_zeros = features[target == 0]\n",
        "    features_ones = features[target == 1]\n",
        "    target_zeros = target[target == 0]\n",
        "    target_ones = target[target == 1]\n",
        "\n",
        "    features_downsampled = pd.concat(\n",
        "        [features_zeros.sample(frac=fraction, random_state=12345)] + [features_ones])\n",
        "    target_downsampled = pd.concat(\n",
        "        [target_zeros.sample(frac=fraction, random_state=12345)] + [target_ones])\n",
        "\n",
        "    features_downsampled, target_downsampled = shuffle(\n",
        "        features_downsampled, target_downsampled, random_state=12345)\n",
        "\n",
        "    return features_downsampled, target_downsampled\n",
        "\n",
        "features_downsampled, target_downsampled = downsample(features_train, target_train, 0.25)\n"
      ]
    },
    {
      "cell_type": "markdown",
      "metadata": {
        "id": "zEzlbWZ4ynld"
      },
      "source": [
        "Обучим модели на уменьшенных выборках."
      ]
    },
    {
      "cell_type": "code",
      "execution_count": null,
      "metadata": {
        "colab": {
          "base_uri": "https://localhost:8080/"
        },
        "id": "tAQ1jyF4yr5u",
        "outputId": "b5bb7c17-17f9-4a21-b808-65f6082f2fde"
      },
      "outputs": [
        {
          "name": "stdout",
          "output_type": "stream",
          "text": [
            "AUC-ROC: 0.7748272591789732\n",
            "f1: 0.5655471289274105\n"
          ]
        }
      ],
      "source": [
        "forest = RandomForestClassifier(n_estimators=37,\n",
        "                                  max_depth=14,\n",
        "                                  random_state=12345)\n",
        "forest.fit(features_downsampled, target_downsampled)\n",
        "predicted_valid = forest.predict_proba(features_valid)\n",
        "predicted_valid_one = predicted_valid[:,1]\n",
        "auc = roc_auc_score(target_valid, predicted_valid_one)\n",
        "print('AUC-ROC:',auc_roc)\n",
        "predicted_valid = forest.predict(features_valid)\n",
        "print('f1:', f1_score(target_valid, predicted_valid))"
      ]
    },
    {
      "cell_type": "code",
      "execution_count": null,
      "metadata": {
        "colab": {
          "base_uri": "https://localhost:8080/"
        },
        "id": "EMWiJ9b0ys8i",
        "outputId": "1fb5eb0b-7eec-41fd-8d1e-0257355026a1"
      },
      "outputs": [
        {
          "name": "stdout",
          "output_type": "stream",
          "text": [
            "f1: 0.5\n",
            "AUC-ROC: 0.7754858570804919\n"
          ]
        }
      ],
      "source": [
        "model = LogisticRegression(random_state=12345, solver='liblinear')\n",
        "model.fit(features_downsampled, target_downsampled)\n",
        "\n",
        "predicted_valid = model.predict(features_valid)\n",
        "probabilities_valid = model.predict_proba(features_valid)\n",
        "probabilities_one_valid = probabilities_valid[:, 1]\n",
        "\n",
        "f1 = f1_score(target_valid, predicted_valid)\n",
        "print('f1:',f1)\n",
        "auc_roc = roc_auc_score(target_valid, probabilities_one_valid)\n",
        "print('AUC-ROC:',auc_roc)"
      ]
    },
    {
      "cell_type": "markdown",
      "metadata": {
        "id": "7SKvdnEuy4Eb"
      },
      "source": [
        "Данный метод оказался еще хуже предыдущего: f1 для леса скатилась ниже пороговой отметки в 0.59, а прирост к метрике f1 логистической регрессии всего около 0.05"
      ]
    },
    {
      "cell_type": "markdown",
      "metadata": {
        "id": "xOJ17K7g8cwh"
      },
      "source": [
        "Итого, самый лучший результат показал лес решений, сбалансированный методом увеличения выборки."
      ]
    },
    {
      "cell_type": "markdown",
      "metadata": {
        "id": "2voH8nQu-I12"
      },
      "source": [
        "## Тестирование модели"
      ]
    },
    {
      "cell_type": "markdown",
      "metadata": {
        "id": "V5OMUUHp-9W8"
      },
      "source": [
        "Протестируем лучшую модель на тестовой выборке."
      ]
    },
    {
      "cell_type": "code",
      "execution_count": null,
      "metadata": {
        "colab": {
          "base_uri": "https://localhost:8080/"
        },
        "id": "vU0_CKqwBBmU",
        "outputId": "a4dfd706-5da2-4b08-f8b3-85d25e5dc6ba"
      },
      "outputs": [
        {
          "name": "stdout",
          "output_type": "stream",
          "text": [
            "AUC-ROC: 0.7754858570804919\n",
            "f1: 0.5914718019257221\n"
          ]
        }
      ],
      "source": [
        "forest = RandomForestClassifier(n_estimators=37,\n",
        "                                  max_depth=14,\n",
        "                                  random_state=12345)\n",
        "forest.fit(features_upsampled, target_upsampled)\n",
        "predicted_valid = forest.predict_proba(features_test)\n",
        "predicted_valid_one = predicted_valid[:,1]\n",
        "auc = roc_auc_score(target_test, predicted_valid_one)\n",
        "print('AUC-ROC:',auc_roc)\n",
        "predicted_valid = forest.predict(features_test)\n",
        "print('f1:', f1_score(target_test, predicted_valid))"
      ]
    },
    {
      "cell_type": "markdown",
      "metadata": {
        "id": "io63JMcKPRcm"
      },
      "source": [
        "Метрика f1 на тестовой выборке составила 0.591, что удовлетворяет условию задачи."
      ]
    },
    {
      "cell_type": "markdown",
      "metadata": {
        "id": "BGGaqM0DaWJh"
      },
      "source": [
        "Построим для данной модели ROC кривую"
      ]
    },
    {
      "cell_type": "code",
      "execution_count": null,
      "metadata": {
        "colab": {
          "base_uri": "https://localhost:8080/",
          "height": 295
        },
        "id": "8j5Zcj3habZv",
        "outputId": "855778ff-8d24-47a3-937d-5594b9e008d4"
      },
      "outputs": [
        {
          "data": {
            "image/png": "[encoded data removed]",
            "text/plain": [
              "<Figure size 432x288 with 1 Axes>"
            ]
          },
          "metadata": {
            "needs_background": "light"
          },
          "output_type": "display_data"
        }
      ],
      "source": [
        "probabilities_test = forest.predict_proba(features_test)\n",
        "probabilities_one_test = probabilities_test[:, 1]\n",
        "\n",
        "fpr, tpr, thresholds = roc_curve(target_test, probabilities_one_test)\n",
        "plt.figure()\n",
        "\n",
        "plt.plot(fpr, tpr)\n",
        "plt.plot([0, 1], [0, 1], linestyle='--')\n",
        "\n",
        "plt.xlim([0,1])\n",
        "plt.ylim([0,1])\n",
        "\n",
        "plt.xlabel(\"False Positive Rate\")\n",
        "plt.ylabel(\"True Positive Rate\")\n",
        "\n",
        "plt.title(\"ROC-кривая\")\n",
        "plt.show()"
      ]
    },
    {
      "cell_type": "markdown",
      "metadata": {
        "id": "DUYt84i6dGJu"
      },
      "source": [
        "ROC-кривая наглядно демонстрирует отличие итоговой модели от случайной: график зависимости TPR от FPR заметно выше линейной фунции константной модели, что подтверждает рание вычисления AUC-ROC: 0.775 > 0.5."
      ]
    },
    {
      "cell_type": "markdown",
      "metadata": {
        "id": "UeoDAFuxeyHK"
      },
      "source": [
        "###Вывод: В ходе проделанной работы были изучены данные, содержащиеся в датасете, проведена их предобработка, экспериментальным путем найдена наиболее точная модель, тестирование которой на тестовой выборке дало показатели 0.59 для F1-score и 0.775 для AUC-ROC."
      ]
    },
    {
      "cell_type": "code",
      "execution_count": null,
      "metadata": {
        "id": "G5PO7XnXeq9_"
      },
      "outputs": [],
      "source": []
    }
  ],
  "metadata": {
    "colab": {
      "collapsed_sections": [
        "1wrA7A5hs3NJ",
        "XbUONy9Nc3tp"
      ],
      "provenance": []
    },
    "kernelspec": {
      "display_name": "Python 3",
      "name": "python3"
    },
    "language_info": {
      "name": "python"
    }
  },
  "nbformat": 4,
  "nbformat_minor": 0
}
