{
  "cells": [
    {
      "cell_type": "markdown",
      "metadata": {
        "id": "FLr-Tkrl_bJQ"
      },
      "source": [
        "# Выбор локации для скважины"
      ]
    },
    {
      "cell_type": "markdown",
      "metadata": {
        "id": "ZlezjMCW_bJQ"
      },
      "source": [
        "### Цель\n",
        " Построить модель машинного обучения, которая поможет определить регион, где добыча принесёт наибольшую прибыль на основании информации о трех регионах нефтедобычи. Проанализируйте возможную прибыль и риски техникой *Bootstrap.*\n",
        "\n",
        "Шаги для выбора локации:\n",
        "\n",
        "- В избранном регионе ищут месторождения, для каждого определяют значения признаков;\n",
        "- Строят модель и оценивают объём запасов;\n",
        "- Выбирают месторождения с самым высокими оценками значений. Количество месторождений зависит от бюджета компании и стоимости разработки одной скважины;\n",
        "- Прибыль равна суммарной прибыли отобранных месторождений."
      ]
    },
    {
      "cell_type": "markdown",
      "metadata": {
        "id": "2DtO8hap_bJR"
      },
      "source": [
        "## Загрузка и подготовка данных"
      ]
    },
    {
      "cell_type": "code",
      "execution_count": null,
      "metadata": {
        "id": "cROpuTdt_bJR"
      },
      "outputs": [],
      "source": [
        "import numpy as np\n",
        "import pandas as pd\n",
        "from sklearn.model_selection import train_test_split\n",
        "from sklearn.linear_model import LinearRegression\n",
        "from sklearn.preprocessing import StandardScaler\n",
        "from sklearn.metrics import f1_score\n",
        "from sklearn.metrics import mean_squared_error as mse"
      ]
    },
    {
      "cell_type": "code",
      "execution_count": null,
      "metadata": {
        "id": "iXkTF3ok_bJT"
      },
      "outputs": [],
      "source": [
        "df0 = pd.read_csv('/datasets/geo_data_0.csv')\n",
        "df1 = pd.read_csv('/datasets/geo_data_1.csv')\n",
        "df2 = pd.read_csv('/datasets/geo_data_2.csv')"
      ]
    },
    {
      "cell_type": "code",
      "execution_count": null,
      "metadata": {
        "scrolled": true,
        "id": "GHcGk3mp_bJT",
        "outputId": "815dd880-d6df-46aa-9b4b-4eea82b4278a"
      },
      "outputs": [
        {
          "name": "stdout",
          "output_type": "stream",
          "text": [
            "<class 'pandas.core.frame.DataFrame'>\n",
            "RangeIndex: 100000 entries, 0 to 99999\n",
            "Data columns (total 5 columns):\n",
            " #   Column   Non-Null Count   Dtype  \n",
            "---  ------   --------------   -----  \n",
            " 0   id       100000 non-null  object \n",
            " 1   f0       100000 non-null  float64\n",
            " 2   f1       100000 non-null  float64\n",
            " 3   f2       100000 non-null  float64\n",
            " 4   product  100000 non-null  float64\n",
            "dtypes: float64(4), object(1)\n",
            "memory usage: 3.8+ MB\n",
            "None\n",
            "\n",
            "<class 'pandas.core.frame.DataFrame'>\n",
            "RangeIndex: 100000 entries, 0 to 99999\n",
            "Data columns (total 5 columns):\n",
            " #   Column   Non-Null Count   Dtype  \n",
            "---  ------   --------------   -----  \n",
            " 0   id       100000 non-null  object \n",
            " 1   f0       100000 non-null  float64\n",
            " 2   f1       100000 non-null  float64\n",
            " 3   f2       100000 non-null  float64\n",
            " 4   product  100000 non-null  float64\n",
            "dtypes: float64(4), object(1)\n",
            "memory usage: 3.8+ MB\n",
            "None\n",
            "\n",
            "<class 'pandas.core.frame.DataFrame'>\n",
            "RangeIndex: 100000 entries, 0 to 99999\n",
            "Data columns (total 5 columns):\n",
            " #   Column   Non-Null Count   Dtype  \n",
            "---  ------   --------------   -----  \n",
            " 0   id       100000 non-null  object \n",
            " 1   f0       100000 non-null  float64\n",
            " 2   f1       100000 non-null  float64\n",
            " 3   f2       100000 non-null  float64\n",
            " 4   product  100000 non-null  float64\n",
            "dtypes: float64(4), object(1)\n",
            "memory usage: 3.8+ MB\n",
            "None\n"
          ]
        }
      ],
      "source": [
        "print(df0.info())\n",
        "print()\n",
        "print(df1.info())\n",
        "print()\n",
        "print(df2.info())"
      ]
    },
    {
      "cell_type": "markdown",
      "metadata": {
        "id": "6DWSmEJt_bJU"
      },
      "source": [
        "Видно, что датафреймы содержат по 10000 объектов. Все признаки объектов количественные."
      ]
    },
    {
      "cell_type": "code",
      "execution_count": null,
      "metadata": {
        "scrolled": true,
        "id": "RvsGZR7C_bJU",
        "outputId": "3e95c298-4b5a-4fe2-899a-4615b57045ca"
      },
      "outputs": [
        {
          "data": {
            "text/html": [
              "<div>\n",
              "<style scoped>\n",
              "    .dataframe tbody tr th:only-of-type {\n",
              "        vertical-align: middle;\n",
              "    }\n",
              "\n",
              "    .dataframe tbody tr th {\n",
              "        vertical-align: top;\n",
              "    }\n",
              "\n",
              "    .dataframe thead th {\n",
              "        text-align: right;\n",
              "    }\n",
              "</style>\n",
              "<table border=\"1\" class=\"dataframe\">\n",
              "  <thead>\n",
              "    <tr style=\"text-align: right;\">\n",
              "      <th></th>\n",
              "      <th>id</th>\n",
              "      <th>f0</th>\n",
              "      <th>f1</th>\n",
              "      <th>f2</th>\n",
              "      <th>product</th>\n",
              "    </tr>\n",
              "  </thead>\n",
              "  <tbody>\n",
              "    <tr>\n",
              "      <th>0</th>\n",
              "      <td>txEyH</td>\n",
              "      <td>0.705745</td>\n",
              "      <td>-0.497823</td>\n",
              "      <td>1.221170</td>\n",
              "      <td>105.280062</td>\n",
              "    </tr>\n",
              "    <tr>\n",
              "      <th>1</th>\n",
              "      <td>2acmU</td>\n",
              "      <td>1.334711</td>\n",
              "      <td>-0.340164</td>\n",
              "      <td>4.365080</td>\n",
              "      <td>73.037750</td>\n",
              "    </tr>\n",
              "    <tr>\n",
              "      <th>2</th>\n",
              "      <td>409Wp</td>\n",
              "      <td>1.022732</td>\n",
              "      <td>0.151990</td>\n",
              "      <td>1.419926</td>\n",
              "      <td>85.265647</td>\n",
              "    </tr>\n",
              "    <tr>\n",
              "      <th>3</th>\n",
              "      <td>iJLyR</td>\n",
              "      <td>-0.032172</td>\n",
              "      <td>0.139033</td>\n",
              "      <td>2.978566</td>\n",
              "      <td>168.620776</td>\n",
              "    </tr>\n",
              "    <tr>\n",
              "      <th>4</th>\n",
              "      <td>Xdl7t</td>\n",
              "      <td>1.988431</td>\n",
              "      <td>0.155413</td>\n",
              "      <td>4.751769</td>\n",
              "      <td>154.036647</td>\n",
              "    </tr>\n",
              "  </tbody>\n",
              "</table>\n",
              "</div>"
            ],
            "text/plain": [
              "      id        f0        f1        f2     product\n",
              "0  txEyH  0.705745 -0.497823  1.221170  105.280062\n",
              "1  2acmU  1.334711 -0.340164  4.365080   73.037750\n",
              "2  409Wp  1.022732  0.151990  1.419926   85.265647\n",
              "3  iJLyR -0.032172  0.139033  2.978566  168.620776\n",
              "4  Xdl7t  1.988431  0.155413  4.751769  154.036647"
            ]
          },
          "execution_count": 5,
          "metadata": {},
          "output_type": "execute_result"
        }
      ],
      "source": [
        "df0.head()"
      ]
    },
    {
      "cell_type": "markdown",
      "metadata": {
        "id": "KyQE8kTE_bJU"
      },
      "source": [
        "По условию, значения в столбце id уникальны, значит они дублируют функцию индекса датафрейма. Удалим их."
      ]
    },
    {
      "cell_type": "code",
      "execution_count": null,
      "metadata": {
        "id": "4Q40GH9v_bJU"
      },
      "outputs": [],
      "source": [
        "df0, df1, df2 = df0.drop('id', axis = 1), df1.drop('id', axis = 1), df2.drop('id', axis = 1)"
      ]
    },
    {
      "cell_type": "markdown",
      "metadata": {
        "id": "9jYp5VD2_bJU"
      },
      "source": [
        "Разделим выборки на тестовые и валидационные"
      ]
    },
    {
      "cell_type": "code",
      "execution_count": null,
      "metadata": {
        "id": "OcYV3N5L_bJU"
      },
      "outputs": [],
      "source": [
        "def split(data):\n",
        "    features = data.drop('product', axis = 1)\n",
        "    target = data['product']\n",
        "    features_train, features_valid, target_train, target_valid = train_test_split(features, target, test_size = 0.25, random_state = 123456)\n",
        "    return features_train, features_valid, target_train, target_valid"
      ]
    },
    {
      "cell_type": "markdown",
      "metadata": {
        "id": "R9j9Olip_bJV"
      },
      "source": [
        "Для удобства заключим тестовые и валидационные выборки каждого датасета в ассоциативный массив"
      ]
    },
    {
      "cell_type": "code",
      "execution_count": null,
      "metadata": {
        "id": "NaKRNttn_bJV"
      },
      "outputs": [],
      "source": [
        "\n",
        "samples = {}\n",
        "df_list = [df0, df1, df2]\n",
        "for i,j in zip(df_list, range(3)):\n",
        "    temp_list = []\n",
        "    features_train, features_valid, target_train, target_valid = split(i)\n",
        "\n",
        "    temp_list.append(features_train)\n",
        "    temp_list.append(features_valid)\n",
        "    temp_list.append(target_train)\n",
        "    temp_list.append(target_valid)\n",
        "\n",
        "    samples[j] = temp_list\n"
      ]
    },
    {
      "cell_type": "markdown",
      "metadata": {
        "id": "Ku5iGw5m_bJV"
      },
      "source": [
        "Стандартизируем данные:"
      ]
    },
    {
      "cell_type": "code",
      "execution_count": null,
      "metadata": {
        "id": "WFNi3-Jf_bJV"
      },
      "outputs": [],
      "source": [
        "def standartize(features, scaler):\n",
        "    arr = scaler.transform(features)\n",
        "    features_st = pd.DataFrame(arr, columns = features.columns)\n",
        "    return features_st\n",
        "\n",
        "for i in samples:\n",
        "    scaler = StandardScaler()\n",
        "    scaler.fit(samples[i][0])\n",
        "    samples[i][0] = standartize(samples[i][0], scaler)\n",
        "    samples[i][1] = standartize(samples[i][1], scaler)"
      ]
    },
    {
      "cell_type": "markdown",
      "metadata": {
        "id": "wuR_FdCc_bJV"
      },
      "source": [
        "Данные готовы для обучения модели"
      ]
    },
    {
      "cell_type": "markdown",
      "metadata": {
        "id": "CKJHO4Pa_bJV"
      },
      "source": [
        "## Обучение и проверка модели"
      ]
    },
    {
      "cell_type": "code",
      "execution_count": null,
      "metadata": {
        "scrolled": true,
        "id": "M_V2Gmc8_bJV",
        "outputId": "796dcfd3-5747-42c2-a45e-1cf15e990331"
      },
      "outputs": [
        {
          "name": "stdout",
          "output_type": "stream",
          "text": [
            "region 0 product_mean: 92.49286560032228 | rmse: 37.80046993478272\n",
            "region 1 product_mean: 69.03055429593262 | rmse: 0.8904933206270059\n",
            "region 2 product_mean: 94.84835708988288 | rmse: 39.98039278339241\n"
          ]
        }
      ],
      "source": [
        "predictions_list = []\n",
        "\n",
        "for i in range(3):\n",
        "    model = LinearRegression()\n",
        "    model.fit(samples[i][0], samples[i][2])\n",
        "    predictions = model.predict(samples[i][1])\n",
        "    predictions = pd.Series(predictions, index = samples[i][3].index)\n",
        "    predictions_list.append(predictions)\n",
        "    product_mean = predictions.mean()\n",
        "    rmse = mse(samples[i][3], predictions, squared = False)\n",
        "\n",
        "    print('region',i,'product_mean:',product_mean,'|', 'rmse:', rmse)\n"
      ]
    },
    {
      "cell_type": "markdown",
      "metadata": {
        "id": "cPJ-00XM_bJW"
      },
      "source": [
        "В результате обучения трех моделей для предсказания количества сырья для каждого региона стало ясно, что наибольшее среднее количество сырья приходится на нулевой и второй регион. Однако наибольшей точности достигла модель, обучающаяся на датасете первого региона: RMSE здесь составила 0.89"
      ]
    },
    {
      "cell_type": "markdown",
      "metadata": {
        "id": "aXhKaGUt_bJW"
      },
      "source": [
        "## Подготовка к расчёту прибыли"
      ]
    },
    {
      "cell_type": "markdown",
      "metadata": {
        "id": "OG3TtSGA_bJW"
      },
      "source": [
        "Рассчитаем необходимый средний минимум добычи в регионе:"
      ]
    },
    {
      "cell_type": "code",
      "execution_count": null,
      "metadata": {
        "scrolled": false,
        "id": "awpZ4e1r_bJW",
        "outputId": "d6e8b4c7-a5e5-45f6-912c-e1e4c8e21dad"
      },
      "outputs": [
        {
          "name": "stdout",
          "output_type": "stream",
          "text": [
            "111.11111111111111\n"
          ]
        }
      ],
      "source": [
        "barell_profit = 450_000\n",
        "budget = 10**10\n",
        "min_amount = budget/(barell_profit*200)\n",
        "print(min_amount)"
      ]
    },
    {
      "cell_type": "markdown",
      "metadata": {
        "id": "JXy_QrJG_bJX"
      },
      "source": [
        "Необходимый минимум добычи из скважины оказался больше, чем средние значения что предсказала каждая из моделей. Пока что можно предположить, что наименее перспективным для инвестиций будет регион номер один, так как метрика RMSE модели, предсказывающей количество продукта для данного региона оказалась очень близка к нулю, а само среднее значение - ниже необходимого минимума. Однако, в выборке мог быть большой разброс данных, и так как необходимо выбрать регион лишь по 200 лучшим скважинам, то выводы стоит делать уже после проведения бутстрепа."
      ]
    },
    {
      "cell_type": "markdown",
      "metadata": {
        "id": "YQotBtlM_bJX"
      },
      "source": [
        "Напишем функцию для определения прибыли по выбранным скважинам и предсказаниям модели"
      ]
    },
    {
      "cell_type": "code",
      "execution_count": null,
      "metadata": {
        "id": "Mt9u8vg-_bJX"
      },
      "outputs": [],
      "source": [
        "def get_profit(target, predicted):\n",
        "    best_preds = predicted.sort_values(ascending = False)\n",
        "    best_wells = target[best_preds.index][:200]\n",
        "    income = best_wells.sum() * barell_profit\n",
        "    return income - budget"
      ]
    },
    {
      "cell_type": "markdown",
      "metadata": {
        "id": "rw2j0yol_bJX"
      },
      "source": [
        "## Расчёт прибыли и рисков"
      ]
    },
    {
      "cell_type": "markdown",
      "metadata": {
        "id": "YQNtHPMr_bJX"
      },
      "source": [
        "Проведем бутстреп:"
      ]
    },
    {
      "cell_type": "code",
      "execution_count": null,
      "metadata": {
        "id": "u_BAujIo_bJX",
        "outputId": "34585231-d699-413f-d951-34fbf40e0c07"
      },
      "outputs": [
        {
          "name": "stdout",
          "output_type": "stream",
          "text": [
            "---------------Регион 0 :--------------------\n",
            "Доверительный интервал: от -44127667.247095145 до 1018572401.7182902\n",
            "Риск уйти в минус: 0.034\n",
            "\n",
            "---------------Регион 1 :--------------------\n",
            "Доверительный интервал: от 90961941.11778933 до 918656675.8367736\n",
            "Риск уйти в минус: 0.01\n",
            "\n",
            "---------------Регион 2 :--------------------\n",
            "Доверительный интервал: от -112083846.38237537 до 931287435.5839065\n",
            "Риск уйти в минус: 0.067\n",
            "\n"
          ]
        }
      ],
      "source": [
        "state = np.random.RandomState(12345)\n",
        "\n",
        "for i in range(3):\n",
        "    profit_list = []\n",
        "    for j in range(1000):\n",
        "        subsample = samples[i][3].sample(n = 500, replace=True, random_state=state)\n",
        "        predictions = predictions_list[i][subsample.index]\n",
        "        profit = get_profit(subsample, predictions)\n",
        "        profit_list.append(profit)\n",
        "\n",
        "    profit_list = pd.Series(profit_list)\n",
        "    lower = profit_list.quantile(0.025)\n",
        "    upper = profit_list.quantile(0.975)\n",
        "    risk = (profit_list < 0).mean()\n",
        "    print('---------------Регион', i, \":--------------------\")\n",
        "    print('Доверительный интервал: от', lower, 'до',upper)\n",
        "    print('Риск уйти в минус:', risk)\n",
        "    print()"
      ]
    },
    {
      "cell_type": "markdown",
      "metadata": {
        "id": "cYIsrdib_bJY"
      },
      "source": [
        "По результатам бутстрепа теперь можно с уверенностью сказать, что не стоит сторой регион рассматривать - слишком большой риск уйти в минус, и нижний порог доверительного интервала в 95 процентов отрицателен. Теперь также известно, что не лучшей идеей будет инвестировать в развитие нулевого региона: хоть верхний порог доверительного интервала и самый высокий из всех регионов, нижни порог отрицательный, поэтому тут так же есть риск получить отрицательную прибыль. Самый оптимальный вариант - регион номер 1."
      ]
    },
    {
      "cell_type": "code",
      "execution_count": null,
      "metadata": {
        "id": "loK2rUcq_bJZ"
      },
      "outputs": [],
      "source": []
    }
  ],
  "metadata": {
    "ExecuteTimeLog": [
      {
        "duration": 61,
        "start_time": "2023-01-11T15:34:18.821Z"
      },
      {
        "duration": 7,
        "start_time": "2023-01-11T15:34:21.752Z"
      },
      {
        "duration": 370,
        "start_time": "2023-01-11T15:34:24.262Z"
      },
      {
        "duration": 693,
        "start_time": "2023-01-11T15:34:24.633Z"
      },
      {
        "duration": 17,
        "start_time": "2023-01-11T15:34:25.328Z"
      },
      {
        "duration": 11,
        "start_time": "2023-01-11T15:34:51.326Z"
      },
      {
        "duration": 41,
        "start_time": "2023-01-11T15:34:54.585Z"
      },
      {
        "duration": 11,
        "start_time": "2023-01-11T15:34:58.625Z"
      },
      {
        "duration": 11,
        "start_time": "2023-01-11T15:44:07.690Z"
      },
      {
        "duration": 10,
        "start_time": "2023-01-11T15:44:17.784Z"
      },
      {
        "duration": 30,
        "start_time": "2023-01-11T15:50:44.466Z"
      },
      {
        "duration": 23,
        "start_time": "2023-01-11T15:50:55.120Z"
      },
      {
        "duration": 13,
        "start_time": "2023-01-11T16:00:30.017Z"
      },
      {
        "duration": 3,
        "start_time": "2023-01-11T16:04:21.434Z"
      },
      {
        "duration": 28,
        "start_time": "2023-01-11T16:05:47.507Z"
      },
      {
        "duration": 4,
        "start_time": "2023-01-11T16:06:03.346Z"
      },
      {
        "duration": 17,
        "start_time": "2023-01-11T16:06:05.658Z"
      },
      {
        "duration": 766,
        "start_time": "2023-01-11T16:06:13.817Z"
      },
      {
        "duration": 52,
        "start_time": "2023-01-11T16:06:18.219Z"
      },
      {
        "duration": 52,
        "start_time": "2023-01-11T22:55:23.884Z"
      },
      {
        "duration": 3,
        "start_time": "2023-01-11T22:55:27.337Z"
      },
      {
        "duration": 7,
        "start_time": "2023-01-11T22:55:28.256Z"
      },
      {
        "duration": 1081,
        "start_time": "2023-01-11T22:55:35.649Z"
      },
      {
        "duration": 618,
        "start_time": "2023-01-11T22:55:36.732Z"
      },
      {
        "duration": 33,
        "start_time": "2023-01-11T22:55:37.351Z"
      },
      {
        "duration": 14,
        "start_time": "2023-01-11T22:55:37.385Z"
      },
      {
        "duration": 16,
        "start_time": "2023-01-11T22:55:37.401Z"
      },
      {
        "duration": 9,
        "start_time": "2023-01-11T22:55:37.419Z"
      },
      {
        "duration": 108,
        "start_time": "2023-01-11T22:55:37.429Z"
      },
      {
        "duration": 0,
        "start_time": "2023-01-11T22:55:37.539Z"
      },
      {
        "duration": 0,
        "start_time": "2023-01-11T22:55:37.540Z"
      },
      {
        "duration": 30,
        "start_time": "2023-01-11T22:56:16.570Z"
      },
      {
        "duration": 29,
        "start_time": "2023-01-11T22:56:22.803Z"
      },
      {
        "duration": 16,
        "start_time": "2023-01-11T22:56:46.684Z"
      },
      {
        "duration": 25,
        "start_time": "2023-01-11T22:57:09.608Z"
      },
      {
        "duration": 30,
        "start_time": "2023-01-11T22:57:28.403Z"
      },
      {
        "duration": 30,
        "start_time": "2023-01-11T23:02:58.743Z"
      },
      {
        "duration": 24,
        "start_time": "2023-01-11T23:03:02.524Z"
      },
      {
        "duration": 24,
        "start_time": "2023-01-11T23:04:06.488Z"
      },
      {
        "duration": 48,
        "start_time": "2023-01-11T23:05:00.119Z"
      },
      {
        "duration": 44,
        "start_time": "2023-01-11T23:05:12.992Z"
      },
      {
        "duration": 62,
        "start_time": "2023-01-11T23:05:49.205Z"
      },
      {
        "duration": 24,
        "start_time": "2023-01-11T23:07:34.645Z"
      },
      {
        "duration": 20,
        "start_time": "2023-01-11T23:10:16.816Z"
      },
      {
        "duration": 20,
        "start_time": "2023-01-11T23:10:24.132Z"
      },
      {
        "duration": 17,
        "start_time": "2023-01-11T23:10:34.252Z"
      },
      {
        "duration": 46,
        "start_time": "2023-01-11T23:12:07.477Z"
      },
      {
        "duration": 35,
        "start_time": "2023-01-11T23:12:35.783Z"
      },
      {
        "duration": 34,
        "start_time": "2023-01-11T23:12:54.124Z"
      },
      {
        "duration": 21,
        "start_time": "2023-01-11T23:15:16.110Z"
      },
      {
        "duration": 32,
        "start_time": "2023-01-11T23:15:19.369Z"
      },
      {
        "duration": 33,
        "start_time": "2023-01-11T23:15:26.287Z"
      },
      {
        "duration": 30,
        "start_time": "2023-01-11T23:15:30.796Z"
      },
      {
        "duration": 25,
        "start_time": "2023-01-11T23:15:34.311Z"
      },
      {
        "duration": 29,
        "start_time": "2023-01-11T23:15:38.975Z"
      },
      {
        "duration": 34,
        "start_time": "2023-01-11T23:52:49.413Z"
      },
      {
        "duration": 29,
        "start_time": "2023-01-11T23:52:57.688Z"
      },
      {
        "duration": 35,
        "start_time": "2023-01-11T23:53:11.196Z"
      },
      {
        "duration": 29,
        "start_time": "2023-01-11T23:53:23.898Z"
      },
      {
        "duration": 55,
        "start_time": "2023-01-11T23:53:52.386Z"
      },
      {
        "duration": 28,
        "start_time": "2023-01-11T23:53:58.168Z"
      },
      {
        "duration": 3,
        "start_time": "2023-01-11T23:55:10.681Z"
      },
      {
        "duration": 3,
        "start_time": "2023-01-12T00:06:03.764Z"
      },
      {
        "duration": 3,
        "start_time": "2023-01-12T00:06:09.025Z"
      },
      {
        "duration": 54,
        "start_time": "2023-01-12T00:11:29.033Z"
      },
      {
        "duration": 256,
        "start_time": "2023-01-12T00:19:44.965Z"
      },
      {
        "duration": 83,
        "start_time": "2023-01-12T00:19:52.739Z"
      },
      {
        "duration": 70,
        "start_time": "2023-01-12T00:19:55.755Z"
      },
      {
        "duration": 4,
        "start_time": "2023-01-12T00:20:57.393Z"
      },
      {
        "duration": 8,
        "start_time": "2023-01-12T00:21:06.529Z"
      },
      {
        "duration": 4,
        "start_time": "2023-01-12T00:21:16.594Z"
      },
      {
        "duration": 4,
        "start_time": "2023-01-12T00:21:20.105Z"
      },
      {
        "duration": 163,
        "start_time": "2023-01-12T00:22:00.660Z"
      },
      {
        "duration": 133,
        "start_time": "2023-01-12T00:27:22.483Z"
      },
      {
        "duration": 86,
        "start_time": "2023-01-12T00:40:29.836Z"
      },
      {
        "duration": 151,
        "start_time": "2023-01-12T00:41:06.066Z"
      },
      {
        "duration": 206,
        "start_time": "2023-01-12T00:41:39.214Z"
      },
      {
        "duration": 152,
        "start_time": "2023-01-12T00:41:50.469Z"
      },
      {
        "duration": 6,
        "start_time": "2023-01-12T00:42:25.646Z"
      },
      {
        "duration": 6,
        "start_time": "2023-01-12T00:42:28.128Z"
      },
      {
        "duration": 4,
        "start_time": "2023-01-12T00:42:30.270Z"
      },
      {
        "duration": 212,
        "start_time": "2023-01-12T00:43:08.917Z"
      },
      {
        "duration": 125,
        "start_time": "2023-01-12T00:44:54.693Z"
      },
      {
        "duration": 155,
        "start_time": "2023-01-12T00:45:20.865Z"
      },
      {
        "duration": 158,
        "start_time": "2023-01-12T00:46:09.958Z"
      },
      {
        "duration": 50,
        "start_time": "2023-01-12T00:46:35.703Z"
      },
      {
        "duration": 265,
        "start_time": "2023-01-12T00:46:39.660Z"
      },
      {
        "duration": 93,
        "start_time": "2023-01-12T00:50:15.831Z"
      },
      {
        "duration": 3,
        "start_time": "2023-01-12T00:55:44.523Z"
      },
      {
        "duration": 2,
        "start_time": "2023-01-12T00:55:50.476Z"
      },
      {
        "duration": 3,
        "start_time": "2023-01-12T01:01:26.960Z"
      },
      {
        "duration": 4,
        "start_time": "2023-01-12T01:02:13.480Z"
      },
      {
        "duration": 3,
        "start_time": "2023-01-12T01:23:51.636Z"
      },
      {
        "duration": 4,
        "start_time": "2023-01-12T01:24:05.499Z"
      },
      {
        "duration": 4,
        "start_time": "2023-01-12T01:24:13.848Z"
      },
      {
        "duration": 4,
        "start_time": "2023-01-12T01:24:24.202Z"
      },
      {
        "duration": 4,
        "start_time": "2023-01-12T01:26:19.306Z"
      },
      {
        "duration": 4,
        "start_time": "2023-01-12T01:26:33.315Z"
      },
      {
        "duration": 3,
        "start_time": "2023-01-12T01:26:51.981Z"
      },
      {
        "duration": 106,
        "start_time": "2023-01-12T01:30:28.716Z"
      },
      {
        "duration": 3,
        "start_time": "2023-01-12T01:32:07.802Z"
      },
      {
        "duration": 1046,
        "start_time": "2023-01-12T01:32:11.516Z"
      },
      {
        "duration": 379,
        "start_time": "2023-01-12T01:32:12.564Z"
      },
      {
        "duration": 34,
        "start_time": "2023-01-12T01:32:12.945Z"
      },
      {
        "duration": 14,
        "start_time": "2023-01-12T01:32:12.980Z"
      },
      {
        "duration": 29,
        "start_time": "2023-01-12T01:32:12.996Z"
      },
      {
        "duration": 7,
        "start_time": "2023-01-12T01:32:13.027Z"
      },
      {
        "duration": 32,
        "start_time": "2023-01-12T01:32:13.035Z"
      },
      {
        "duration": 2,
        "start_time": "2023-01-12T01:32:13.069Z"
      },
      {
        "duration": 147,
        "start_time": "2023-01-12T01:32:13.073Z"
      },
      {
        "duration": 8,
        "start_time": "2023-01-12T01:32:13.222Z"
      },
      {
        "duration": 24,
        "start_time": "2023-01-12T01:32:29.772Z"
      },
      {
        "duration": 193,
        "start_time": "2023-01-12T01:32:34.323Z"
      },
      {
        "duration": 3,
        "start_time": "2023-01-12T01:32:48.001Z"
      },
      {
        "duration": 31,
        "start_time": "2023-01-12T01:32:50.050Z"
      },
      {
        "duration": 27,
        "start_time": "2023-01-12T01:32:51.921Z"
      },
      {
        "duration": 45,
        "start_time": "2023-01-12T01:32:54.584Z"
      },
      {
        "duration": 251,
        "start_time": "2023-01-12T02:01:04.846Z"
      },
      {
        "duration": 216,
        "start_time": "2023-01-12T02:01:11.004Z"
      },
      {
        "duration": 160,
        "start_time": "2023-01-12T02:01:17.157Z"
      },
      {
        "duration": 160,
        "start_time": "2023-01-12T02:01:27.064Z"
      },
      {
        "duration": 169,
        "start_time": "2023-01-12T02:01:35.552Z"
      },
      {
        "duration": 303,
        "start_time": "2023-01-12T02:03:54.813Z"
      },
      {
        "duration": 53,
        "start_time": "2023-01-12T02:04:32.360Z"
      },
      {
        "duration": 141,
        "start_time": "2023-01-12T02:04:35.476Z"
      },
      {
        "duration": 155,
        "start_time": "2023-01-12T02:04:48.261Z"
      },
      {
        "duration": 120,
        "start_time": "2023-01-12T02:05:00.204Z"
      },
      {
        "duration": 162,
        "start_time": "2023-01-12T02:05:10.365Z"
      },
      {
        "duration": 188,
        "start_time": "2023-01-12T02:05:36.040Z"
      },
      {
        "duration": 216,
        "start_time": "2023-01-12T02:05:58.808Z"
      },
      {
        "duration": 3,
        "start_time": "2023-01-12T02:17:54.391Z"
      },
      {
        "duration": 3,
        "start_time": "2023-01-12T03:16:58.520Z"
      },
      {
        "duration": 156,
        "start_time": "2023-01-12T03:24:27.166Z"
      },
      {
        "duration": 62,
        "start_time": "2023-01-12T03:33:23.371Z"
      },
      {
        "duration": 10,
        "start_time": "2023-01-12T03:33:30.424Z"
      },
      {
        "duration": 140,
        "start_time": "2023-01-12T03:33:35.481Z"
      },
      {
        "duration": 11,
        "start_time": "2023-01-12T03:33:37.896Z"
      },
      {
        "duration": 10,
        "start_time": "2023-01-12T03:33:42.925Z"
      },
      {
        "duration": 16,
        "start_time": "2023-01-12T03:33:45.697Z"
      },
      {
        "duration": 4,
        "start_time": "2023-01-12T03:34:05.609Z"
      },
      {
        "duration": 3,
        "start_time": "2023-01-12T03:34:07.612Z"
      },
      {
        "duration": 17,
        "start_time": "2023-01-12T03:34:08.871Z"
      },
      {
        "duration": 15,
        "start_time": "2023-01-12T03:34:31.958Z"
      },
      {
        "duration": 16,
        "start_time": "2023-01-12T03:34:40.260Z"
      },
      {
        "duration": 15,
        "start_time": "2023-01-12T03:34:47.408Z"
      },
      {
        "duration": 5,
        "start_time": "2023-01-12T03:35:01.800Z"
      },
      {
        "duration": 1301,
        "start_time": "2023-01-12T03:36:01.743Z"
      },
      {
        "duration": 1234,
        "start_time": "2023-01-12T03:36:27.244Z"
      },
      {
        "duration": 13,
        "start_time": "2023-01-12T03:38:01.603Z"
      },
      {
        "duration": 12,
        "start_time": "2023-01-12T03:38:16.403Z"
      },
      {
        "duration": 31,
        "start_time": "2023-01-12T03:38:22.455Z"
      },
      {
        "duration": 50,
        "start_time": "2023-01-12T03:40:31.505Z"
      },
      {
        "duration": 1270,
        "start_time": "2023-01-12T03:40:52.760Z"
      },
      {
        "duration": 3817,
        "start_time": "2023-01-12T03:41:05.421Z"
      },
      {
        "duration": 3940,
        "start_time": "2023-01-12T03:41:23.026Z"
      },
      {
        "duration": 3757,
        "start_time": "2023-01-12T03:41:53.171Z"
      },
      {
        "duration": 3810,
        "start_time": "2023-01-12T03:42:53.444Z"
      },
      {
        "duration": 17,
        "start_time": "2023-01-12T03:43:29.309Z"
      },
      {
        "duration": 3797,
        "start_time": "2023-01-12T03:43:53.617Z"
      },
      {
        "duration": 3879,
        "start_time": "2023-01-12T03:44:04.116Z"
      },
      {
        "duration": 3936,
        "start_time": "2023-01-12T04:00:01.489Z"
      },
      {
        "duration": 3785,
        "start_time": "2023-01-12T04:00:12.488Z"
      },
      {
        "duration": 3805,
        "start_time": "2023-01-12T04:00:46.972Z"
      },
      {
        "duration": 3710,
        "start_time": "2023-01-12T04:00:56.801Z"
      },
      {
        "duration": 3717,
        "start_time": "2023-01-12T04:01:17.350Z"
      },
      {
        "duration": 3711,
        "start_time": "2023-01-12T04:01:37.202Z"
      },
      {
        "duration": 3761,
        "start_time": "2023-01-12T04:04:03.841Z"
      },
      {
        "duration": 3785,
        "start_time": "2023-01-12T04:04:14.873Z"
      },
      {
        "duration": 3730,
        "start_time": "2023-01-12T04:04:25.933Z"
      },
      {
        "duration": 3755,
        "start_time": "2023-01-12T04:04:42.361Z"
      },
      {
        "duration": 3838,
        "start_time": "2023-01-12T04:10:07.863Z"
      },
      {
        "duration": 3860,
        "start_time": "2023-01-12T04:11:15.753Z"
      },
      {
        "duration": 3731,
        "start_time": "2023-01-12T04:11:36.658Z"
      },
      {
        "duration": 3700,
        "start_time": "2023-01-12T04:13:40.624Z"
      },
      {
        "duration": 2732,
        "start_time": "2023-01-12T07:46:53.177Z"
      },
      {
        "duration": 4,
        "start_time": "2023-01-12T07:48:18.487Z"
      },
      {
        "duration": 652,
        "start_time": "2023-01-12T07:48:18.493Z"
      },
      {
        "duration": 41,
        "start_time": "2023-01-12T07:48:19.147Z"
      },
      {
        "duration": 17,
        "start_time": "2023-01-12T07:48:19.190Z"
      },
      {
        "duration": 17,
        "start_time": "2023-01-12T07:48:19.209Z"
      },
      {
        "duration": 8,
        "start_time": "2023-01-12T07:48:19.228Z"
      },
      {
        "duration": 53,
        "start_time": "2023-01-12T07:48:19.238Z"
      },
      {
        "duration": 26,
        "start_time": "2023-01-12T07:48:19.293Z"
      },
      {
        "duration": 256,
        "start_time": "2023-01-12T07:48:19.321Z"
      },
      {
        "duration": 187,
        "start_time": "2023-01-12T07:48:19.580Z"
      },
      {
        "duration": 0,
        "start_time": "2023-01-12T07:48:19.777Z"
      },
      {
        "duration": 0,
        "start_time": "2023-01-12T07:48:19.778Z"
      },
      {
        "duration": 3,
        "start_time": "2023-01-12T07:48:35.107Z"
      },
      {
        "duration": 4,
        "start_time": "2023-01-12T07:48:36.686Z"
      },
      {
        "duration": 3991,
        "start_time": "2023-01-12T07:48:37.386Z"
      }
    ],
    "kernelspec": {
      "display_name": "Python 3 (ipykernel)",
      "language": "python",
      "name": "python3"
    },
    "language_info": {
      "codemirror_mode": {
        "name": "ipython",
        "version": 3
      },
      "file_extension": ".py",
      "mimetype": "text/x-python",
      "name": "python",
      "nbconvert_exporter": "python",
      "pygments_lexer": "ipython3",
      "version": "3.9.5"
    },
    "toc": {
      "base_numbering": 1,
      "nav_menu": {},
      "number_sections": true,
      "sideBar": true,
      "skip_h1_title": true,
      "title_cell": "Table of Contents",
      "title_sidebar": "Contents",
      "toc_cell": false,
      "toc_position": {},
      "toc_section_display": true,
      "toc_window_display": false
    },
    "colab": {
      "provenance": []
    }
  },
  "nbformat": 4,
  "nbformat_minor": 0
}